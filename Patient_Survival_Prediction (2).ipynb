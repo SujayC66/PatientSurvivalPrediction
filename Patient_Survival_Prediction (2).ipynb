{
 "cells": [
  {
   "cell_type": "code",
   "execution_count": 4,
   "id": "62a06763",
   "metadata": {},
   "outputs": [],
   "source": [
    "import numpy as np\n",
    "import pandas as pd\n",
    "import seaborn as sns\n",
    "import matplotlib.pyplot as plt\n",
    "%matplotlib inline\n",
    "\n",
    "from sklearn.model_selection import train_test_split,RandomizedSearchCV\n",
    "from sklearn.linear_model import LogisticRegression\n",
    "from sklearn.neighbors import KNeighborsClassifier\n",
    "from sklearn.tree import DecisionTreeClassifier,plot_tree\n",
    "from sklearn.ensemble import RandomForestClassifier\n",
    "from sklearn.ensemble import AdaBoostClassifier\n",
    "\n",
    "from sklearn.metrics import confusion_matrix,classification_report,accuracy_score\n",
    "from sklearn.preprocessing import MinMaxScaler\n",
    "\n",
    "\n",
    "import warnings\n",
    "warnings.filterwarnings('ignore', '.*do not.*', )\n",
    "\n",
    "import pickle"
   ]
  },
  {
   "cell_type": "markdown",
   "id": "ab7d3826",
   "metadata": {},
   "source": [
    "# Problem Statement"
   ]
  },
  {
   "cell_type": "raw",
   "id": "2f732c9f",
   "metadata": {},
   "source": [
    "We aimed to develop and validate a prediction model for all-cause in-hospital mortality among admitted patients."
   ]
  },
  {
   "cell_type": "markdown",
   "id": "1dbfc6c1",
   "metadata": {},
   "source": [
    "# Data Gathering"
   ]
  },
  {
   "cell_type": "code",
   "execution_count": 5,
   "id": "22b39a13",
   "metadata": {},
   "outputs": [
    {
     "data": {
      "text/html": [
       "<div>\n",
       "<style scoped>\n",
       "    .dataframe tbody tr th:only-of-type {\n",
       "        vertical-align: middle;\n",
       "    }\n",
       "\n",
       "    .dataframe tbody tr th {\n",
       "        vertical-align: top;\n",
       "    }\n",
       "\n",
       "    .dataframe thead th {\n",
       "        text-align: right;\n",
       "    }\n",
       "</style>\n",
       "<table border=\"1\" class=\"dataframe\">\n",
       "  <thead>\n",
       "    <tr style=\"text-align: right;\">\n",
       "      <th></th>\n",
       "      <th>encounter_id</th>\n",
       "      <th>patient_id</th>\n",
       "      <th>hospital_id</th>\n",
       "      <th>age</th>\n",
       "      <th>bmi</th>\n",
       "      <th>elective_surgery</th>\n",
       "      <th>ethnicity</th>\n",
       "      <th>gender</th>\n",
       "      <th>height</th>\n",
       "      <th>icu_admit_source</th>\n",
       "      <th>...</th>\n",
       "      <th>diabetes_mellitus</th>\n",
       "      <th>hepatic_failure</th>\n",
       "      <th>immunosuppression</th>\n",
       "      <th>leukemia</th>\n",
       "      <th>lymphoma</th>\n",
       "      <th>solid_tumor_with_metastasis</th>\n",
       "      <th>apache_3j_bodysystem</th>\n",
       "      <th>apache_2_bodysystem</th>\n",
       "      <th>Unnamed: 83</th>\n",
       "      <th>hospital_death</th>\n",
       "    </tr>\n",
       "  </thead>\n",
       "  <tbody>\n",
       "    <tr>\n",
       "      <th>0</th>\n",
       "      <td>66154</td>\n",
       "      <td>25312</td>\n",
       "      <td>118</td>\n",
       "      <td>68.0</td>\n",
       "      <td>22.730000</td>\n",
       "      <td>0</td>\n",
       "      <td>Caucasian</td>\n",
       "      <td>M</td>\n",
       "      <td>180.3</td>\n",
       "      <td>Floor</td>\n",
       "      <td>...</td>\n",
       "      <td>1.0</td>\n",
       "      <td>0.0</td>\n",
       "      <td>0.0</td>\n",
       "      <td>0.0</td>\n",
       "      <td>0.0</td>\n",
       "      <td>0.0</td>\n",
       "      <td>Sepsis</td>\n",
       "      <td>Cardiovascular</td>\n",
       "      <td>NaN</td>\n",
       "      <td>0</td>\n",
       "    </tr>\n",
       "    <tr>\n",
       "      <th>1</th>\n",
       "      <td>114252</td>\n",
       "      <td>59342</td>\n",
       "      <td>81</td>\n",
       "      <td>77.0</td>\n",
       "      <td>27.420000</td>\n",
       "      <td>0</td>\n",
       "      <td>Caucasian</td>\n",
       "      <td>F</td>\n",
       "      <td>160.0</td>\n",
       "      <td>Floor</td>\n",
       "      <td>...</td>\n",
       "      <td>1.0</td>\n",
       "      <td>0.0</td>\n",
       "      <td>0.0</td>\n",
       "      <td>0.0</td>\n",
       "      <td>0.0</td>\n",
       "      <td>0.0</td>\n",
       "      <td>Respiratory</td>\n",
       "      <td>Respiratory</td>\n",
       "      <td>NaN</td>\n",
       "      <td>0</td>\n",
       "    </tr>\n",
       "    <tr>\n",
       "      <th>2</th>\n",
       "      <td>119783</td>\n",
       "      <td>50777</td>\n",
       "      <td>118</td>\n",
       "      <td>25.0</td>\n",
       "      <td>31.950000</td>\n",
       "      <td>0</td>\n",
       "      <td>Caucasian</td>\n",
       "      <td>F</td>\n",
       "      <td>172.7</td>\n",
       "      <td>Accident &amp; Emergency</td>\n",
       "      <td>...</td>\n",
       "      <td>0.0</td>\n",
       "      <td>0.0</td>\n",
       "      <td>0.0</td>\n",
       "      <td>0.0</td>\n",
       "      <td>0.0</td>\n",
       "      <td>0.0</td>\n",
       "      <td>Metabolic</td>\n",
       "      <td>Metabolic</td>\n",
       "      <td>NaN</td>\n",
       "      <td>0</td>\n",
       "    </tr>\n",
       "    <tr>\n",
       "      <th>3</th>\n",
       "      <td>79267</td>\n",
       "      <td>46918</td>\n",
       "      <td>118</td>\n",
       "      <td>81.0</td>\n",
       "      <td>22.640000</td>\n",
       "      <td>1</td>\n",
       "      <td>Caucasian</td>\n",
       "      <td>F</td>\n",
       "      <td>165.1</td>\n",
       "      <td>Operating Room / Recovery</td>\n",
       "      <td>...</td>\n",
       "      <td>0.0</td>\n",
       "      <td>0.0</td>\n",
       "      <td>0.0</td>\n",
       "      <td>0.0</td>\n",
       "      <td>0.0</td>\n",
       "      <td>0.0</td>\n",
       "      <td>Cardiovascular</td>\n",
       "      <td>Cardiovascular</td>\n",
       "      <td>NaN</td>\n",
       "      <td>0</td>\n",
       "    </tr>\n",
       "    <tr>\n",
       "      <th>4</th>\n",
       "      <td>92056</td>\n",
       "      <td>34377</td>\n",
       "      <td>33</td>\n",
       "      <td>19.0</td>\n",
       "      <td>NaN</td>\n",
       "      <td>0</td>\n",
       "      <td>Caucasian</td>\n",
       "      <td>M</td>\n",
       "      <td>188.0</td>\n",
       "      <td>Accident &amp; Emergency</td>\n",
       "      <td>...</td>\n",
       "      <td>0.0</td>\n",
       "      <td>0.0</td>\n",
       "      <td>0.0</td>\n",
       "      <td>0.0</td>\n",
       "      <td>0.0</td>\n",
       "      <td>0.0</td>\n",
       "      <td>Trauma</td>\n",
       "      <td>Trauma</td>\n",
       "      <td>NaN</td>\n",
       "      <td>0</td>\n",
       "    </tr>\n",
       "    <tr>\n",
       "      <th>...</th>\n",
       "      <td>...</td>\n",
       "      <td>...</td>\n",
       "      <td>...</td>\n",
       "      <td>...</td>\n",
       "      <td>...</td>\n",
       "      <td>...</td>\n",
       "      <td>...</td>\n",
       "      <td>...</td>\n",
       "      <td>...</td>\n",
       "      <td>...</td>\n",
       "      <td>...</td>\n",
       "      <td>...</td>\n",
       "      <td>...</td>\n",
       "      <td>...</td>\n",
       "      <td>...</td>\n",
       "      <td>...</td>\n",
       "      <td>...</td>\n",
       "      <td>...</td>\n",
       "      <td>...</td>\n",
       "      <td>...</td>\n",
       "      <td>...</td>\n",
       "    </tr>\n",
       "    <tr>\n",
       "      <th>91708</th>\n",
       "      <td>91592</td>\n",
       "      <td>78108</td>\n",
       "      <td>30</td>\n",
       "      <td>75.0</td>\n",
       "      <td>23.060250</td>\n",
       "      <td>0</td>\n",
       "      <td>Caucasian</td>\n",
       "      <td>M</td>\n",
       "      <td>177.8</td>\n",
       "      <td>Floor</td>\n",
       "      <td>...</td>\n",
       "      <td>1.0</td>\n",
       "      <td>0.0</td>\n",
       "      <td>0.0</td>\n",
       "      <td>0.0</td>\n",
       "      <td>0.0</td>\n",
       "      <td>1.0</td>\n",
       "      <td>Sepsis</td>\n",
       "      <td>Cardiovascular</td>\n",
       "      <td>NaN</td>\n",
       "      <td>0</td>\n",
       "    </tr>\n",
       "    <tr>\n",
       "      <th>91709</th>\n",
       "      <td>66119</td>\n",
       "      <td>13486</td>\n",
       "      <td>121</td>\n",
       "      <td>56.0</td>\n",
       "      <td>47.179671</td>\n",
       "      <td>0</td>\n",
       "      <td>Caucasian</td>\n",
       "      <td>F</td>\n",
       "      <td>183.0</td>\n",
       "      <td>Floor</td>\n",
       "      <td>...</td>\n",
       "      <td>0.0</td>\n",
       "      <td>0.0</td>\n",
       "      <td>0.0</td>\n",
       "      <td>0.0</td>\n",
       "      <td>0.0</td>\n",
       "      <td>0.0</td>\n",
       "      <td>Sepsis</td>\n",
       "      <td>Cardiovascular</td>\n",
       "      <td>NaN</td>\n",
       "      <td>0</td>\n",
       "    </tr>\n",
       "    <tr>\n",
       "      <th>91710</th>\n",
       "      <td>8981</td>\n",
       "      <td>58179</td>\n",
       "      <td>195</td>\n",
       "      <td>48.0</td>\n",
       "      <td>27.236914</td>\n",
       "      <td>0</td>\n",
       "      <td>Caucasian</td>\n",
       "      <td>M</td>\n",
       "      <td>170.2</td>\n",
       "      <td>Accident &amp; Emergency</td>\n",
       "      <td>...</td>\n",
       "      <td>1.0</td>\n",
       "      <td>0.0</td>\n",
       "      <td>0.0</td>\n",
       "      <td>0.0</td>\n",
       "      <td>0.0</td>\n",
       "      <td>0.0</td>\n",
       "      <td>Metabolic</td>\n",
       "      <td>Metabolic</td>\n",
       "      <td>NaN</td>\n",
       "      <td>0</td>\n",
       "    </tr>\n",
       "    <tr>\n",
       "      <th>91711</th>\n",
       "      <td>33776</td>\n",
       "      <td>120598</td>\n",
       "      <td>66</td>\n",
       "      <td>NaN</td>\n",
       "      <td>23.297481</td>\n",
       "      <td>0</td>\n",
       "      <td>Caucasian</td>\n",
       "      <td>F</td>\n",
       "      <td>154.9</td>\n",
       "      <td>Accident &amp; Emergency</td>\n",
       "      <td>...</td>\n",
       "      <td>0.0</td>\n",
       "      <td>0.0</td>\n",
       "      <td>0.0</td>\n",
       "      <td>0.0</td>\n",
       "      <td>0.0</td>\n",
       "      <td>0.0</td>\n",
       "      <td>Respiratory</td>\n",
       "      <td>Respiratory</td>\n",
       "      <td>NaN</td>\n",
       "      <td>0</td>\n",
       "    </tr>\n",
       "    <tr>\n",
       "      <th>91712</th>\n",
       "      <td>1671</td>\n",
       "      <td>53612</td>\n",
       "      <td>104</td>\n",
       "      <td>82.0</td>\n",
       "      <td>22.031250</td>\n",
       "      <td>1</td>\n",
       "      <td>Caucasian</td>\n",
       "      <td>F</td>\n",
       "      <td>160.0</td>\n",
       "      <td>Operating Room / Recovery</td>\n",
       "      <td>...</td>\n",
       "      <td>0.0</td>\n",
       "      <td>0.0</td>\n",
       "      <td>0.0</td>\n",
       "      <td>0.0</td>\n",
       "      <td>0.0</td>\n",
       "      <td>0.0</td>\n",
       "      <td>Gastrointestinal</td>\n",
       "      <td>Gastrointestinal</td>\n",
       "      <td>NaN</td>\n",
       "      <td>0</td>\n",
       "    </tr>\n",
       "  </tbody>\n",
       "</table>\n",
       "<p>91713 rows × 85 columns</p>\n",
       "</div>"
      ],
      "text/plain": [
       "       encounter_id  patient_id  hospital_id   age        bmi  \\\n",
       "0             66154       25312          118  68.0  22.730000   \n",
       "1            114252       59342           81  77.0  27.420000   \n",
       "2            119783       50777          118  25.0  31.950000   \n",
       "3             79267       46918          118  81.0  22.640000   \n",
       "4             92056       34377           33  19.0        NaN   \n",
       "...             ...         ...          ...   ...        ...   \n",
       "91708         91592       78108           30  75.0  23.060250   \n",
       "91709         66119       13486          121  56.0  47.179671   \n",
       "91710          8981       58179          195  48.0  27.236914   \n",
       "91711         33776      120598           66   NaN  23.297481   \n",
       "91712          1671       53612          104  82.0  22.031250   \n",
       "\n",
       "       elective_surgery  ethnicity gender  height           icu_admit_source  \\\n",
       "0                     0  Caucasian      M   180.3                      Floor   \n",
       "1                     0  Caucasian      F   160.0                      Floor   \n",
       "2                     0  Caucasian      F   172.7       Accident & Emergency   \n",
       "3                     1  Caucasian      F   165.1  Operating Room / Recovery   \n",
       "4                     0  Caucasian      M   188.0       Accident & Emergency   \n",
       "...                 ...        ...    ...     ...                        ...   \n",
       "91708                 0  Caucasian      M   177.8                      Floor   \n",
       "91709                 0  Caucasian      F   183.0                      Floor   \n",
       "91710                 0  Caucasian      M   170.2       Accident & Emergency   \n",
       "91711                 0  Caucasian      F   154.9       Accident & Emergency   \n",
       "91712                 1  Caucasian      F   160.0  Operating Room / Recovery   \n",
       "\n",
       "       ...  diabetes_mellitus hepatic_failure immunosuppression  leukemia  \\\n",
       "0      ...                1.0             0.0               0.0       0.0   \n",
       "1      ...                1.0             0.0               0.0       0.0   \n",
       "2      ...                0.0             0.0               0.0       0.0   \n",
       "3      ...                0.0             0.0               0.0       0.0   \n",
       "4      ...                0.0             0.0               0.0       0.0   \n",
       "...    ...                ...             ...               ...       ...   \n",
       "91708  ...                1.0             0.0               0.0       0.0   \n",
       "91709  ...                0.0             0.0               0.0       0.0   \n",
       "91710  ...                1.0             0.0               0.0       0.0   \n",
       "91711  ...                0.0             0.0               0.0       0.0   \n",
       "91712  ...                0.0             0.0               0.0       0.0   \n",
       "\n",
       "       lymphoma  solid_tumor_with_metastasis  apache_3j_bodysystem  \\\n",
       "0           0.0                          0.0                Sepsis   \n",
       "1           0.0                          0.0           Respiratory   \n",
       "2           0.0                          0.0             Metabolic   \n",
       "3           0.0                          0.0        Cardiovascular   \n",
       "4           0.0                          0.0                Trauma   \n",
       "...         ...                          ...                   ...   \n",
       "91708       0.0                          1.0                Sepsis   \n",
       "91709       0.0                          0.0                Sepsis   \n",
       "91710       0.0                          0.0             Metabolic   \n",
       "91711       0.0                          0.0           Respiratory   \n",
       "91712       0.0                          0.0      Gastrointestinal   \n",
       "\n",
       "       apache_2_bodysystem  Unnamed: 83  hospital_death  \n",
       "0           Cardiovascular          NaN               0  \n",
       "1              Respiratory          NaN               0  \n",
       "2                Metabolic          NaN               0  \n",
       "3           Cardiovascular          NaN               0  \n",
       "4                   Trauma          NaN               0  \n",
       "...                    ...          ...             ...  \n",
       "91708       Cardiovascular          NaN               0  \n",
       "91709       Cardiovascular          NaN               0  \n",
       "91710            Metabolic          NaN               0  \n",
       "91711          Respiratory          NaN               0  \n",
       "91712     Gastrointestinal          NaN               0  \n",
       "\n",
       "[91713 rows x 85 columns]"
      ]
     },
     "execution_count": 5,
     "metadata": {},
     "output_type": "execute_result"
    }
   ],
   "source": [
    "df=pd.read_csv(\"dataset.csv\")\n",
    "df"
   ]
  },
  {
   "cell_type": "markdown",
   "id": "d0e130bb",
   "metadata": {},
   "source": [
    "# Exploratory Data Analysis"
   ]
  },
  {
   "cell_type": "code",
   "execution_count": 6,
   "id": "87fcc040",
   "metadata": {},
   "outputs": [
    {
     "data": {
      "text/plain": [
       "(91713, 85)"
      ]
     },
     "execution_count": 6,
     "metadata": {},
     "output_type": "execute_result"
    }
   ],
   "source": [
    "df.shape"
   ]
  },
  {
   "cell_type": "code",
   "execution_count": 7,
   "id": "2cf1423f",
   "metadata": {},
   "outputs": [
    {
     "data": {
      "text/html": [
       "<div>\n",
       "<style scoped>\n",
       "    .dataframe tbody tr th:only-of-type {\n",
       "        vertical-align: middle;\n",
       "    }\n",
       "\n",
       "    .dataframe tbody tr th {\n",
       "        vertical-align: top;\n",
       "    }\n",
       "\n",
       "    .dataframe thead th {\n",
       "        text-align: right;\n",
       "    }\n",
       "</style>\n",
       "<table border=\"1\" class=\"dataframe\">\n",
       "  <thead>\n",
       "    <tr style=\"text-align: right;\">\n",
       "      <th></th>\n",
       "      <th>encounter_id</th>\n",
       "      <th>patient_id</th>\n",
       "      <th>hospital_id</th>\n",
       "      <th>age</th>\n",
       "      <th>bmi</th>\n",
       "      <th>elective_surgery</th>\n",
       "      <th>ethnicity</th>\n",
       "      <th>gender</th>\n",
       "      <th>height</th>\n",
       "      <th>icu_admit_source</th>\n",
       "      <th>...</th>\n",
       "      <th>diabetes_mellitus</th>\n",
       "      <th>hepatic_failure</th>\n",
       "      <th>immunosuppression</th>\n",
       "      <th>leukemia</th>\n",
       "      <th>lymphoma</th>\n",
       "      <th>solid_tumor_with_metastasis</th>\n",
       "      <th>apache_3j_bodysystem</th>\n",
       "      <th>apache_2_bodysystem</th>\n",
       "      <th>Unnamed: 83</th>\n",
       "      <th>hospital_death</th>\n",
       "    </tr>\n",
       "  </thead>\n",
       "  <tbody>\n",
       "    <tr>\n",
       "      <th>0</th>\n",
       "      <td>66154</td>\n",
       "      <td>25312</td>\n",
       "      <td>118</td>\n",
       "      <td>68.0</td>\n",
       "      <td>22.73</td>\n",
       "      <td>0</td>\n",
       "      <td>Caucasian</td>\n",
       "      <td>M</td>\n",
       "      <td>180.3</td>\n",
       "      <td>Floor</td>\n",
       "      <td>...</td>\n",
       "      <td>1.0</td>\n",
       "      <td>0.0</td>\n",
       "      <td>0.0</td>\n",
       "      <td>0.0</td>\n",
       "      <td>0.0</td>\n",
       "      <td>0.0</td>\n",
       "      <td>Sepsis</td>\n",
       "      <td>Cardiovascular</td>\n",
       "      <td>NaN</td>\n",
       "      <td>0</td>\n",
       "    </tr>\n",
       "    <tr>\n",
       "      <th>1</th>\n",
       "      <td>114252</td>\n",
       "      <td>59342</td>\n",
       "      <td>81</td>\n",
       "      <td>77.0</td>\n",
       "      <td>27.42</td>\n",
       "      <td>0</td>\n",
       "      <td>Caucasian</td>\n",
       "      <td>F</td>\n",
       "      <td>160.0</td>\n",
       "      <td>Floor</td>\n",
       "      <td>...</td>\n",
       "      <td>1.0</td>\n",
       "      <td>0.0</td>\n",
       "      <td>0.0</td>\n",
       "      <td>0.0</td>\n",
       "      <td>0.0</td>\n",
       "      <td>0.0</td>\n",
       "      <td>Respiratory</td>\n",
       "      <td>Respiratory</td>\n",
       "      <td>NaN</td>\n",
       "      <td>0</td>\n",
       "    </tr>\n",
       "    <tr>\n",
       "      <th>2</th>\n",
       "      <td>119783</td>\n",
       "      <td>50777</td>\n",
       "      <td>118</td>\n",
       "      <td>25.0</td>\n",
       "      <td>31.95</td>\n",
       "      <td>0</td>\n",
       "      <td>Caucasian</td>\n",
       "      <td>F</td>\n",
       "      <td>172.7</td>\n",
       "      <td>Accident &amp; Emergency</td>\n",
       "      <td>...</td>\n",
       "      <td>0.0</td>\n",
       "      <td>0.0</td>\n",
       "      <td>0.0</td>\n",
       "      <td>0.0</td>\n",
       "      <td>0.0</td>\n",
       "      <td>0.0</td>\n",
       "      <td>Metabolic</td>\n",
       "      <td>Metabolic</td>\n",
       "      <td>NaN</td>\n",
       "      <td>0</td>\n",
       "    </tr>\n",
       "    <tr>\n",
       "      <th>3</th>\n",
       "      <td>79267</td>\n",
       "      <td>46918</td>\n",
       "      <td>118</td>\n",
       "      <td>81.0</td>\n",
       "      <td>22.64</td>\n",
       "      <td>1</td>\n",
       "      <td>Caucasian</td>\n",
       "      <td>F</td>\n",
       "      <td>165.1</td>\n",
       "      <td>Operating Room / Recovery</td>\n",
       "      <td>...</td>\n",
       "      <td>0.0</td>\n",
       "      <td>0.0</td>\n",
       "      <td>0.0</td>\n",
       "      <td>0.0</td>\n",
       "      <td>0.0</td>\n",
       "      <td>0.0</td>\n",
       "      <td>Cardiovascular</td>\n",
       "      <td>Cardiovascular</td>\n",
       "      <td>NaN</td>\n",
       "      <td>0</td>\n",
       "    </tr>\n",
       "    <tr>\n",
       "      <th>4</th>\n",
       "      <td>92056</td>\n",
       "      <td>34377</td>\n",
       "      <td>33</td>\n",
       "      <td>19.0</td>\n",
       "      <td>NaN</td>\n",
       "      <td>0</td>\n",
       "      <td>Caucasian</td>\n",
       "      <td>M</td>\n",
       "      <td>188.0</td>\n",
       "      <td>Accident &amp; Emergency</td>\n",
       "      <td>...</td>\n",
       "      <td>0.0</td>\n",
       "      <td>0.0</td>\n",
       "      <td>0.0</td>\n",
       "      <td>0.0</td>\n",
       "      <td>0.0</td>\n",
       "      <td>0.0</td>\n",
       "      <td>Trauma</td>\n",
       "      <td>Trauma</td>\n",
       "      <td>NaN</td>\n",
       "      <td>0</td>\n",
       "    </tr>\n",
       "  </tbody>\n",
       "</table>\n",
       "<p>5 rows × 85 columns</p>\n",
       "</div>"
      ],
      "text/plain": [
       "   encounter_id  patient_id  hospital_id   age    bmi  elective_surgery  \\\n",
       "0         66154       25312          118  68.0  22.73                 0   \n",
       "1        114252       59342           81  77.0  27.42                 0   \n",
       "2        119783       50777          118  25.0  31.95                 0   \n",
       "3         79267       46918          118  81.0  22.64                 1   \n",
       "4         92056       34377           33  19.0    NaN                 0   \n",
       "\n",
       "   ethnicity gender  height           icu_admit_source  ...  \\\n",
       "0  Caucasian      M   180.3                      Floor  ...   \n",
       "1  Caucasian      F   160.0                      Floor  ...   \n",
       "2  Caucasian      F   172.7       Accident & Emergency  ...   \n",
       "3  Caucasian      F   165.1  Operating Room / Recovery  ...   \n",
       "4  Caucasian      M   188.0       Accident & Emergency  ...   \n",
       "\n",
       "   diabetes_mellitus hepatic_failure immunosuppression  leukemia  lymphoma  \\\n",
       "0                1.0             0.0               0.0       0.0       0.0   \n",
       "1                1.0             0.0               0.0       0.0       0.0   \n",
       "2                0.0             0.0               0.0       0.0       0.0   \n",
       "3                0.0             0.0               0.0       0.0       0.0   \n",
       "4                0.0             0.0               0.0       0.0       0.0   \n",
       "\n",
       "   solid_tumor_with_metastasis  apache_3j_bodysystem  apache_2_bodysystem  \\\n",
       "0                          0.0                Sepsis       Cardiovascular   \n",
       "1                          0.0           Respiratory          Respiratory   \n",
       "2                          0.0             Metabolic            Metabolic   \n",
       "3                          0.0        Cardiovascular       Cardiovascular   \n",
       "4                          0.0                Trauma               Trauma   \n",
       "\n",
       "   Unnamed: 83  hospital_death  \n",
       "0          NaN               0  \n",
       "1          NaN               0  \n",
       "2          NaN               0  \n",
       "3          NaN               0  \n",
       "4          NaN               0  \n",
       "\n",
       "[5 rows x 85 columns]"
      ]
     },
     "execution_count": 7,
     "metadata": {},
     "output_type": "execute_result"
    }
   ],
   "source": [
    "df.head(5)"
   ]
  },
  {
   "cell_type": "code",
   "execution_count": 8,
   "id": "092aa645",
   "metadata": {},
   "outputs": [
    {
     "name": "stdout",
     "output_type": "stream",
     "text": [
      "<class 'pandas.core.frame.DataFrame'>\n",
      "RangeIndex: 91713 entries, 0 to 91712\n",
      "Data columns (total 85 columns):\n",
      " #   Column                         Non-Null Count  Dtype  \n",
      "---  ------                         --------------  -----  \n",
      " 0   encounter_id                   91713 non-null  int64  \n",
      " 1   patient_id                     91713 non-null  int64  \n",
      " 2   hospital_id                    91713 non-null  int64  \n",
      " 3   age                            87485 non-null  float64\n",
      " 4   bmi                            88284 non-null  float64\n",
      " 5   elective_surgery               91713 non-null  int64  \n",
      " 6   ethnicity                      90318 non-null  object \n",
      " 7   gender                         91688 non-null  object \n",
      " 8   height                         90379 non-null  float64\n",
      " 9   icu_admit_source               91601 non-null  object \n",
      " 10  icu_id                         91713 non-null  int64  \n",
      " 11  icu_stay_type                  91713 non-null  object \n",
      " 12  icu_type                       91713 non-null  object \n",
      " 13  pre_icu_los_days               91713 non-null  float64\n",
      " 14  weight                         88993 non-null  float64\n",
      " 15  apache_2_diagnosis             90051 non-null  float64\n",
      " 16  apache_3j_diagnosis            90612 non-null  float64\n",
      " 17  apache_post_operative          91713 non-null  int64  \n",
      " 18  arf_apache                     90998 non-null  float64\n",
      " 19  gcs_eyes_apache                89812 non-null  float64\n",
      " 20  gcs_motor_apache               89812 non-null  float64\n",
      " 21  gcs_unable_apache              90676 non-null  float64\n",
      " 22  gcs_verbal_apache              89812 non-null  float64\n",
      " 23  heart_rate_apache              90835 non-null  float64\n",
      " 24  intubated_apache               90998 non-null  float64\n",
      " 25  map_apache                     90719 non-null  float64\n",
      " 26  resprate_apache                90479 non-null  float64\n",
      " 27  temp_apache                    87605 non-null  float64\n",
      " 28  ventilated_apache              90998 non-null  float64\n",
      " 29  d1_diasbp_max                  91548 non-null  float64\n",
      " 30  d1_diasbp_min                  91548 non-null  float64\n",
      " 31  d1_diasbp_noninvasive_max      90673 non-null  float64\n",
      " 32  d1_diasbp_noninvasive_min      90673 non-null  float64\n",
      " 33  d1_heartrate_max               91568 non-null  float64\n",
      " 34  d1_heartrate_min               91568 non-null  float64\n",
      " 35  d1_mbp_max                     91493 non-null  float64\n",
      " 36  d1_mbp_min                     91493 non-null  float64\n",
      " 37  d1_mbp_noninvasive_max         90234 non-null  float64\n",
      " 38  d1_mbp_noninvasive_min         90234 non-null  float64\n",
      " 39  d1_resprate_max                91328 non-null  float64\n",
      " 40  d1_resprate_min                91328 non-null  float64\n",
      " 41  d1_spo2_max                    91380 non-null  float64\n",
      " 42  d1_spo2_min                    91380 non-null  float64\n",
      " 43  d1_sysbp_max                   91554 non-null  float64\n",
      " 44  d1_sysbp_min                   91554 non-null  float64\n",
      " 45  d1_sysbp_noninvasive_max       90686 non-null  float64\n",
      " 46  d1_sysbp_noninvasive_min       90686 non-null  float64\n",
      " 47  d1_temp_max                    89389 non-null  float64\n",
      " 48  d1_temp_min                    89389 non-null  float64\n",
      " 49  h1_diasbp_max                  88094 non-null  float64\n",
      " 50  h1_diasbp_min                  88094 non-null  float64\n",
      " 51  h1_diasbp_noninvasive_max      84363 non-null  float64\n",
      " 52  h1_diasbp_noninvasive_min      84363 non-null  float64\n",
      " 53  h1_heartrate_max               88923 non-null  float64\n",
      " 54  h1_heartrate_min               88923 non-null  float64\n",
      " 55  h1_mbp_max                     87074 non-null  float64\n",
      " 56  h1_mbp_min                     87074 non-null  float64\n",
      " 57  h1_mbp_noninvasive_max         82629 non-null  float64\n",
      " 58  h1_mbp_noninvasive_min         82629 non-null  float64\n",
      " 59  h1_resprate_max                87356 non-null  float64\n",
      " 60  h1_resprate_min                87356 non-null  float64\n",
      " 61  h1_spo2_max                    87528 non-null  float64\n",
      " 62  h1_spo2_min                    87528 non-null  float64\n",
      " 63  h1_sysbp_max                   88102 non-null  float64\n",
      " 64  h1_sysbp_min                   88102 non-null  float64\n",
      " 65  h1_sysbp_noninvasive_max       84372 non-null  float64\n",
      " 66  h1_sysbp_noninvasive_min       84372 non-null  float64\n",
      " 67  d1_glucose_max                 85906 non-null  float64\n",
      " 68  d1_glucose_min                 85906 non-null  float64\n",
      " 69  d1_potassium_max               82128 non-null  float64\n",
      " 70  d1_potassium_min               82128 non-null  float64\n",
      " 71  apache_4a_hospital_death_prob  83766 non-null  float64\n",
      " 72  apache_4a_icu_death_prob       83766 non-null  float64\n",
      " 73  aids                           90998 non-null  float64\n",
      " 74  cirrhosis                      90998 non-null  float64\n",
      " 75  diabetes_mellitus              90998 non-null  float64\n",
      " 76  hepatic_failure                90998 non-null  float64\n",
      " 77  immunosuppression              90998 non-null  float64\n",
      " 78  leukemia                       90998 non-null  float64\n",
      " 79  lymphoma                       90998 non-null  float64\n",
      " 80  solid_tumor_with_metastasis    90998 non-null  float64\n",
      " 81  apache_3j_bodysystem           90051 non-null  object \n",
      " 82  apache_2_bodysystem            90051 non-null  object \n",
      " 83  Unnamed: 83                    0 non-null      float64\n",
      " 84  hospital_death                 91713 non-null  int64  \n",
      "dtypes: float64(71), int64(7), object(7)\n",
      "memory usage: 59.5+ MB\n"
     ]
    }
   ],
   "source": [
    "df.info()"
   ]
  },
  {
   "cell_type": "raw",
   "id": "c6e71ce3",
   "metadata": {},
   "source": [
    "ethnicity,gender,icu_stay_type,icu_admit_source,icu_type,apache_3j_bodysystem,apache_2_bodysystem "
   ]
  },
  {
   "cell_type": "code",
   "execution_count": 9,
   "id": "c2556f53",
   "metadata": {},
   "outputs": [
    {
     "data": {
      "text/html": [
       "<div>\n",
       "<style scoped>\n",
       "    .dataframe tbody tr th:only-of-type {\n",
       "        vertical-align: middle;\n",
       "    }\n",
       "\n",
       "    .dataframe tbody tr th {\n",
       "        vertical-align: top;\n",
       "    }\n",
       "\n",
       "    .dataframe thead th {\n",
       "        text-align: right;\n",
       "    }\n",
       "</style>\n",
       "<table border=\"1\" class=\"dataframe\">\n",
       "  <thead>\n",
       "    <tr style=\"text-align: right;\">\n",
       "      <th></th>\n",
       "      <th>encounter_id</th>\n",
       "      <th>patient_id</th>\n",
       "      <th>hospital_id</th>\n",
       "      <th>age</th>\n",
       "      <th>bmi</th>\n",
       "      <th>elective_surgery</th>\n",
       "      <th>height</th>\n",
       "      <th>icu_id</th>\n",
       "      <th>pre_icu_los_days</th>\n",
       "      <th>weight</th>\n",
       "      <th>...</th>\n",
       "      <th>aids</th>\n",
       "      <th>cirrhosis</th>\n",
       "      <th>diabetes_mellitus</th>\n",
       "      <th>hepatic_failure</th>\n",
       "      <th>immunosuppression</th>\n",
       "      <th>leukemia</th>\n",
       "      <th>lymphoma</th>\n",
       "      <th>solid_tumor_with_metastasis</th>\n",
       "      <th>Unnamed: 83</th>\n",
       "      <th>hospital_death</th>\n",
       "    </tr>\n",
       "  </thead>\n",
       "  <tbody>\n",
       "    <tr>\n",
       "      <th>count</th>\n",
       "      <td>91713.000000</td>\n",
       "      <td>91713.000000</td>\n",
       "      <td>91713.000000</td>\n",
       "      <td>87485.000000</td>\n",
       "      <td>88284.000000</td>\n",
       "      <td>91713.000000</td>\n",
       "      <td>90379.000000</td>\n",
       "      <td>91713.000000</td>\n",
       "      <td>91713.000000</td>\n",
       "      <td>88993.000000</td>\n",
       "      <td>...</td>\n",
       "      <td>90998.000000</td>\n",
       "      <td>90998.000000</td>\n",
       "      <td>90998.000000</td>\n",
       "      <td>90998.000000</td>\n",
       "      <td>90998.000000</td>\n",
       "      <td>90998.000000</td>\n",
       "      <td>90998.000000</td>\n",
       "      <td>90998.000000</td>\n",
       "      <td>0.0</td>\n",
       "      <td>91713.000000</td>\n",
       "    </tr>\n",
       "    <tr>\n",
       "      <th>mean</th>\n",
       "      <td>65606.079280</td>\n",
       "      <td>65537.131464</td>\n",
       "      <td>105.669262</td>\n",
       "      <td>62.309516</td>\n",
       "      <td>29.185818</td>\n",
       "      <td>0.183736</td>\n",
       "      <td>169.641588</td>\n",
       "      <td>508.357692</td>\n",
       "      <td>0.835766</td>\n",
       "      <td>84.028340</td>\n",
       "      <td>...</td>\n",
       "      <td>0.000857</td>\n",
       "      <td>0.015693</td>\n",
       "      <td>0.225192</td>\n",
       "      <td>0.012989</td>\n",
       "      <td>0.026165</td>\n",
       "      <td>0.007066</td>\n",
       "      <td>0.004132</td>\n",
       "      <td>0.020638</td>\n",
       "      <td>NaN</td>\n",
       "      <td>0.086302</td>\n",
       "    </tr>\n",
       "    <tr>\n",
       "      <th>std</th>\n",
       "      <td>37795.088538</td>\n",
       "      <td>37811.252183</td>\n",
       "      <td>62.854406</td>\n",
       "      <td>16.775119</td>\n",
       "      <td>8.275142</td>\n",
       "      <td>0.387271</td>\n",
       "      <td>10.795378</td>\n",
       "      <td>228.989661</td>\n",
       "      <td>2.487756</td>\n",
       "      <td>25.011497</td>\n",
       "      <td>...</td>\n",
       "      <td>0.029265</td>\n",
       "      <td>0.124284</td>\n",
       "      <td>0.417711</td>\n",
       "      <td>0.113229</td>\n",
       "      <td>0.159628</td>\n",
       "      <td>0.083763</td>\n",
       "      <td>0.064148</td>\n",
       "      <td>0.142169</td>\n",
       "      <td>NaN</td>\n",
       "      <td>0.280811</td>\n",
       "    </tr>\n",
       "    <tr>\n",
       "      <th>min</th>\n",
       "      <td>1.000000</td>\n",
       "      <td>1.000000</td>\n",
       "      <td>2.000000</td>\n",
       "      <td>16.000000</td>\n",
       "      <td>14.844926</td>\n",
       "      <td>0.000000</td>\n",
       "      <td>137.200000</td>\n",
       "      <td>82.000000</td>\n",
       "      <td>-24.947222</td>\n",
       "      <td>38.600000</td>\n",
       "      <td>...</td>\n",
       "      <td>0.000000</td>\n",
       "      <td>0.000000</td>\n",
       "      <td>0.000000</td>\n",
       "      <td>0.000000</td>\n",
       "      <td>0.000000</td>\n",
       "      <td>0.000000</td>\n",
       "      <td>0.000000</td>\n",
       "      <td>0.000000</td>\n",
       "      <td>NaN</td>\n",
       "      <td>0.000000</td>\n",
       "    </tr>\n",
       "    <tr>\n",
       "      <th>25%</th>\n",
       "      <td>32852.000000</td>\n",
       "      <td>32830.000000</td>\n",
       "      <td>47.000000</td>\n",
       "      <td>52.000000</td>\n",
       "      <td>23.641975</td>\n",
       "      <td>0.000000</td>\n",
       "      <td>162.500000</td>\n",
       "      <td>369.000000</td>\n",
       "      <td>0.035417</td>\n",
       "      <td>66.800000</td>\n",
       "      <td>...</td>\n",
       "      <td>0.000000</td>\n",
       "      <td>0.000000</td>\n",
       "      <td>0.000000</td>\n",
       "      <td>0.000000</td>\n",
       "      <td>0.000000</td>\n",
       "      <td>0.000000</td>\n",
       "      <td>0.000000</td>\n",
       "      <td>0.000000</td>\n",
       "      <td>NaN</td>\n",
       "      <td>0.000000</td>\n",
       "    </tr>\n",
       "    <tr>\n",
       "      <th>50%</th>\n",
       "      <td>65665.000000</td>\n",
       "      <td>65413.000000</td>\n",
       "      <td>109.000000</td>\n",
       "      <td>65.000000</td>\n",
       "      <td>27.654655</td>\n",
       "      <td>0.000000</td>\n",
       "      <td>170.100000</td>\n",
       "      <td>504.000000</td>\n",
       "      <td>0.138889</td>\n",
       "      <td>80.300000</td>\n",
       "      <td>...</td>\n",
       "      <td>0.000000</td>\n",
       "      <td>0.000000</td>\n",
       "      <td>0.000000</td>\n",
       "      <td>0.000000</td>\n",
       "      <td>0.000000</td>\n",
       "      <td>0.000000</td>\n",
       "      <td>0.000000</td>\n",
       "      <td>0.000000</td>\n",
       "      <td>NaN</td>\n",
       "      <td>0.000000</td>\n",
       "    </tr>\n",
       "    <tr>\n",
       "      <th>75%</th>\n",
       "      <td>98342.000000</td>\n",
       "      <td>98298.000000</td>\n",
       "      <td>161.000000</td>\n",
       "      <td>75.000000</td>\n",
       "      <td>32.930206</td>\n",
       "      <td>0.000000</td>\n",
       "      <td>177.800000</td>\n",
       "      <td>679.000000</td>\n",
       "      <td>0.409028</td>\n",
       "      <td>97.100000</td>\n",
       "      <td>...</td>\n",
       "      <td>0.000000</td>\n",
       "      <td>0.000000</td>\n",
       "      <td>0.000000</td>\n",
       "      <td>0.000000</td>\n",
       "      <td>0.000000</td>\n",
       "      <td>0.000000</td>\n",
       "      <td>0.000000</td>\n",
       "      <td>0.000000</td>\n",
       "      <td>NaN</td>\n",
       "      <td>0.000000</td>\n",
       "    </tr>\n",
       "    <tr>\n",
       "      <th>max</th>\n",
       "      <td>131051.000000</td>\n",
       "      <td>131051.000000</td>\n",
       "      <td>204.000000</td>\n",
       "      <td>89.000000</td>\n",
       "      <td>67.814990</td>\n",
       "      <td>1.000000</td>\n",
       "      <td>195.590000</td>\n",
       "      <td>927.000000</td>\n",
       "      <td>159.090972</td>\n",
       "      <td>186.000000</td>\n",
       "      <td>...</td>\n",
       "      <td>1.000000</td>\n",
       "      <td>1.000000</td>\n",
       "      <td>1.000000</td>\n",
       "      <td>1.000000</td>\n",
       "      <td>1.000000</td>\n",
       "      <td>1.000000</td>\n",
       "      <td>1.000000</td>\n",
       "      <td>1.000000</td>\n",
       "      <td>NaN</td>\n",
       "      <td>1.000000</td>\n",
       "    </tr>\n",
       "  </tbody>\n",
       "</table>\n",
       "<p>8 rows × 78 columns</p>\n",
       "</div>"
      ],
      "text/plain": [
       "        encounter_id     patient_id   hospital_id           age           bmi  \\\n",
       "count   91713.000000   91713.000000  91713.000000  87485.000000  88284.000000   \n",
       "mean    65606.079280   65537.131464    105.669262     62.309516     29.185818   \n",
       "std     37795.088538   37811.252183     62.854406     16.775119      8.275142   \n",
       "min         1.000000       1.000000      2.000000     16.000000     14.844926   \n",
       "25%     32852.000000   32830.000000     47.000000     52.000000     23.641975   \n",
       "50%     65665.000000   65413.000000    109.000000     65.000000     27.654655   \n",
       "75%     98342.000000   98298.000000    161.000000     75.000000     32.930206   \n",
       "max    131051.000000  131051.000000    204.000000     89.000000     67.814990   \n",
       "\n",
       "       elective_surgery        height        icu_id  pre_icu_los_days  \\\n",
       "count      91713.000000  90379.000000  91713.000000      91713.000000   \n",
       "mean           0.183736    169.641588    508.357692          0.835766   \n",
       "std            0.387271     10.795378    228.989661          2.487756   \n",
       "min            0.000000    137.200000     82.000000        -24.947222   \n",
       "25%            0.000000    162.500000    369.000000          0.035417   \n",
       "50%            0.000000    170.100000    504.000000          0.138889   \n",
       "75%            0.000000    177.800000    679.000000          0.409028   \n",
       "max            1.000000    195.590000    927.000000        159.090972   \n",
       "\n",
       "             weight  ...          aids     cirrhosis  diabetes_mellitus  \\\n",
       "count  88993.000000  ...  90998.000000  90998.000000       90998.000000   \n",
       "mean      84.028340  ...      0.000857      0.015693           0.225192   \n",
       "std       25.011497  ...      0.029265      0.124284           0.417711   \n",
       "min       38.600000  ...      0.000000      0.000000           0.000000   \n",
       "25%       66.800000  ...      0.000000      0.000000           0.000000   \n",
       "50%       80.300000  ...      0.000000      0.000000           0.000000   \n",
       "75%       97.100000  ...      0.000000      0.000000           0.000000   \n",
       "max      186.000000  ...      1.000000      1.000000           1.000000   \n",
       "\n",
       "       hepatic_failure  immunosuppression      leukemia      lymphoma  \\\n",
       "count     90998.000000       90998.000000  90998.000000  90998.000000   \n",
       "mean          0.012989           0.026165      0.007066      0.004132   \n",
       "std           0.113229           0.159628      0.083763      0.064148   \n",
       "min           0.000000           0.000000      0.000000      0.000000   \n",
       "25%           0.000000           0.000000      0.000000      0.000000   \n",
       "50%           0.000000           0.000000      0.000000      0.000000   \n",
       "75%           0.000000           0.000000      0.000000      0.000000   \n",
       "max           1.000000           1.000000      1.000000      1.000000   \n",
       "\n",
       "       solid_tumor_with_metastasis  Unnamed: 83  hospital_death  \n",
       "count                 90998.000000          0.0    91713.000000  \n",
       "mean                      0.020638          NaN        0.086302  \n",
       "std                       0.142169          NaN        0.280811  \n",
       "min                       0.000000          NaN        0.000000  \n",
       "25%                       0.000000          NaN        0.000000  \n",
       "50%                       0.000000          NaN        0.000000  \n",
       "75%                       0.000000          NaN        0.000000  \n",
       "max                       1.000000          NaN        1.000000  \n",
       "\n",
       "[8 rows x 78 columns]"
      ]
     },
     "execution_count": 9,
     "metadata": {},
     "output_type": "execute_result"
    }
   ],
   "source": [
    "df.describe()"
   ]
  },
  {
   "cell_type": "code",
   "execution_count": 10,
   "id": "3b858ec1",
   "metadata": {},
   "outputs": [
    {
     "data": {
      "text/plain": [
       "{'encounter_id': 0.0,\n",
       " 'patient_id': 0.0,\n",
       " 'hospital_id': 0.0,\n",
       " 'age': 4.610033473989511,\n",
       " 'bmi': 3.738837460338229,\n",
       " 'elective_surgery': 0.0,\n",
       " 'ethnicity': 1.5210493605050537,\n",
       " 'gender': 0.027258949112993792,\n",
       " 'height': 1.454537524669349,\n",
       " 'icu_admit_source': 0.12212009202621221,\n",
       " 'icu_id': 0.0,\n",
       " 'icu_stay_type': 0.0,\n",
       " 'icu_type': 0.0,\n",
       " 'pre_icu_los_days': 0.0,\n",
       " 'weight': 2.965773663493725,\n",
       " 'apache_2_diagnosis': 1.8121749370318276,\n",
       " 'apache_3j_diagnosis': 1.2004841189362467,\n",
       " 'apache_post_operative': 0.0,\n",
       " 'arf_apache': 0.7796059446316226,\n",
       " 'gcs_eyes_apache': 2.072770490552048,\n",
       " 'gcs_motor_apache': 2.072770490552048,\n",
       " 'gcs_unable_apache': 1.1307012092069826,\n",
       " 'gcs_verbal_apache': 2.072770490552048,\n",
       " 'heart_rate_apache': 0.957334292848342,\n",
       " 'intubated_apache': 0.7796059446316226,\n",
       " 'map_apache': 1.0838158167326335,\n",
       " 'resprate_apache': 1.3455017282173738,\n",
       " 'temp_apache': 4.47919051824714,\n",
       " 'ventilated_apache': 0.7796059446316226,\n",
       " 'd1_diasbp_max': 0.17990906414575905,\n",
       " 'd1_diasbp_min': 0.17990906414575905,\n",
       " 'd1_diasbp_noninvasive_max': 1.1339722831005419,\n",
       " 'd1_diasbp_noninvasive_min': 1.1339722831005419,\n",
       " 'd1_heartrate_max': 0.15810190485536402,\n",
       " 'd1_heartrate_min': 0.15810190485536402,\n",
       " 'd1_mbp_max': 0.2398787521943454,\n",
       " 'd1_mbp_min': 0.2398787521943454,\n",
       " 'd1_mbp_noninvasive_max': 1.612639429524713,\n",
       " 'd1_mbp_noninvasive_min': 1.612639429524713,\n",
       " 'd1_resprate_max': 0.4197878163401045,\n",
       " 'd1_resprate_min': 0.4197878163401045,\n",
       " 'd1_spo2_max': 0.36308920218507734,\n",
       " 'd1_spo2_min': 0.36308920218507734,\n",
       " 'd1_sysbp_max': 0.17336691635864054,\n",
       " 'd1_sysbp_min': 0.17336691635864054,\n",
       " 'd1_sysbp_noninvasive_max': 1.119797629561785,\n",
       " 'd1_sysbp_noninvasive_min': 1.119797629561785,\n",
       " 'd1_temp_max': 2.5339919095439036,\n",
       " 'd1_temp_min': 2.5339919095439036,\n",
       " 'h1_diasbp_max': 3.946005473596982,\n",
       " 'h1_diasbp_min': 3.946005473596982,\n",
       " 'h1_diasbp_noninvasive_max': 8.014131039220176,\n",
       " 'h1_diasbp_noninvasive_min': 8.014131039220176,\n",
       " 'h1_heartrate_max': 3.0420987210101074,\n",
       " 'h1_heartrate_min': 3.0420987210101074,\n",
       " 'h1_mbp_max': 5.058170597407129,\n",
       " 'h1_mbp_min': 5.058170597407129,\n",
       " 'h1_mbp_noninvasive_max': 9.904811749697426,\n",
       " 'h1_mbp_noninvasive_min': 9.904811749697426,\n",
       " 'h1_resprate_max': 4.750689651412559,\n",
       " 'h1_resprate_min': 4.750689651412559,\n",
       " 'h1_spo2_max': 4.563148081515162,\n",
       " 'h1_spo2_min': 4.563148081515162,\n",
       " 'h1_sysbp_max': 3.937282609880824,\n",
       " 'h1_sysbp_min': 3.937282609880824,\n",
       " 'h1_sysbp_noninvasive_max': 8.004317817539498,\n",
       " 'h1_sysbp_noninvasive_min': 8.004317817539498,\n",
       " 'd1_glucose_max': 6.331708699966199,\n",
       " 'd1_glucose_min': 6.331708699966199,\n",
       " 'd1_potassium_max': 10.451081089921821,\n",
       " 'd1_potassium_min': 10.451081089921821,\n",
       " 'apache_4a_hospital_death_prob': 8.665074744038467,\n",
       " 'apache_4a_icu_death_prob': 8.665074744038467,\n",
       " 'aids': 0.7796059446316226,\n",
       " 'cirrhosis': 0.7796059446316226,\n",
       " 'diabetes_mellitus': 0.7796059446316226,\n",
       " 'hepatic_failure': 0.7796059446316226,\n",
       " 'immunosuppression': 0.7796059446316226,\n",
       " 'leukemia': 0.7796059446316226,\n",
       " 'lymphoma': 0.7796059446316226,\n",
       " 'solid_tumor_with_metastasis': 0.7796059446316226,\n",
       " 'apache_3j_bodysystem': 1.8121749370318276,\n",
       " 'apache_2_bodysystem': 1.8121749370318276,\n",
       " 'Unnamed: 83': 100.0,\n",
       " 'hospital_death': 0.0}"
      ]
     },
     "execution_count": 10,
     "metadata": {},
     "output_type": "execute_result"
    }
   ],
   "source": [
    "(df.isna().mean()*100).to_dict()"
   ]
  },
  {
   "cell_type": "code",
   "execution_count": 11,
   "id": "20b0dd27",
   "metadata": {},
   "outputs": [
    {
     "data": {
      "text/plain": [
       "encounter_id                     0.000000\n",
       "patient_id                       0.000000\n",
       "hospital_id                      0.000000\n",
       "age                              4.610033\n",
       "bmi                              3.738837\n",
       "                                  ...    \n",
       "solid_tumor_with_metastasis      0.779606\n",
       "apache_3j_bodysystem             1.812175\n",
       "apache_2_bodysystem              1.812175\n",
       "Unnamed: 83                    100.000000\n",
       "hospital_death                   0.000000\n",
       "Length: 85, dtype: float64"
      ]
     },
     "execution_count": 11,
     "metadata": {},
     "output_type": "execute_result"
    }
   ],
   "source": [
    "df.isna().mean()*100"
   ]
  },
  {
   "cell_type": "code",
   "execution_count": 12,
   "id": "2f3d59c6",
   "metadata": {},
   "outputs": [
    {
     "data": {
      "text/plain": [
       "62.309515917014345"
      ]
     },
     "execution_count": 12,
     "metadata": {},
     "output_type": "execute_result"
    }
   ],
   "source": [
    "df['age'].mean()"
   ]
  },
  {
   "cell_type": "code",
   "execution_count": 13,
   "id": "169f7ee6",
   "metadata": {},
   "outputs": [
    {
     "data": {
      "text/plain": [
       "65.0"
      ]
     },
     "execution_count": 13,
     "metadata": {},
     "output_type": "execute_result"
    }
   ],
   "source": [
    "df['age'].median()"
   ]
  },
  {
   "cell_type": "code",
   "execution_count": 14,
   "id": "50db6a17",
   "metadata": {},
   "outputs": [],
   "source": [
    "df['age']=df['age'].fillna(df['age'].mean())"
   ]
  },
  {
   "cell_type": "code",
   "execution_count": 15,
   "id": "6de0c12b",
   "metadata": {},
   "outputs": [
    {
     "data": {
      "text/plain": [
       "29.18581766857506"
      ]
     },
     "execution_count": 15,
     "metadata": {},
     "output_type": "execute_result"
    }
   ],
   "source": [
    "df['bmi'].mean()"
   ]
  },
  {
   "cell_type": "code",
   "execution_count": 16,
   "id": "e8f15eed",
   "metadata": {},
   "outputs": [
    {
     "data": {
      "text/plain": [
       "27.65465458"
      ]
     },
     "execution_count": 16,
     "metadata": {},
     "output_type": "execute_result"
    }
   ],
   "source": [
    "df['bmi'].median()"
   ]
  },
  {
   "cell_type": "code",
   "execution_count": 17,
   "id": "ca9ee566",
   "metadata": {},
   "outputs": [],
   "source": [
    "df['bmi']=df['bmi'].fillna(df['bmi'].median())"
   ]
  },
  {
   "cell_type": "code",
   "execution_count": 18,
   "id": "c2c5bbf5",
   "metadata": {},
   "outputs": [
    {
     "data": {
      "text/plain": [
       "0    Caucasian\n",
       "Name: ethnicity, dtype: object"
      ]
     },
     "execution_count": 18,
     "metadata": {},
     "output_type": "execute_result"
    }
   ],
   "source": [
    "df['ethnicity'].mode()"
   ]
  },
  {
   "cell_type": "code",
   "execution_count": 19,
   "id": "2f9a1c8c",
   "metadata": {},
   "outputs": [],
   "source": [
    "df['ethnicity']=df['ethnicity'].fillna(df['ethnicity'].mode()[0])"
   ]
  },
  {
   "cell_type": "code",
   "execution_count": 20,
   "id": "1f99207f",
   "metadata": {},
   "outputs": [
    {
     "data": {
      "text/plain": [
       "{'Caucasian': 72079,\n",
       " 'African American': 9547,\n",
       " 'Other/Unknown': 4374,\n",
       " 'Hispanic': 3796,\n",
       " 'Asian': 1129,\n",
       " 'Native American': 788}"
      ]
     },
     "execution_count": 20,
     "metadata": {},
     "output_type": "execute_result"
    }
   ],
   "source": [
    "df['ethnicity'].value_counts().to_dict()"
   ]
  },
  {
   "cell_type": "code",
   "execution_count": 21,
   "id": "972a5b24",
   "metadata": {},
   "outputs": [],
   "source": [
    "df['ethnicity']=df['ethnicity'].replace(\n",
    "{'Caucasian': 0,\n",
    " 'African American': 1,\n",
    " 'Other/Unknown': 2,\n",
    " 'Hispanic': 3,\n",
    " 'Asian': 4,\n",
    " 'Native American': 5})"
   ]
  },
  {
   "cell_type": "code",
   "execution_count": 22,
   "id": "f5c9e632",
   "metadata": {},
   "outputs": [
    {
     "data": {
      "text/plain": [
       "0        0\n",
       "1        0\n",
       "2        0\n",
       "3        0\n",
       "4        0\n",
       "        ..\n",
       "91708    0\n",
       "91709    0\n",
       "91710    0\n",
       "91711    0\n",
       "91712    0\n",
       "Name: ethnicity, Length: 91713, dtype: int64"
      ]
     },
     "execution_count": 22,
     "metadata": {},
     "output_type": "execute_result"
    }
   ],
   "source": [
    "df['ethnicity']"
   ]
  },
  {
   "cell_type": "code",
   "execution_count": 23,
   "id": "18832584",
   "metadata": {},
   "outputs": [
    {
     "data": {
      "text/plain": [
       "0    M\n",
       "Name: gender, dtype: object"
      ]
     },
     "execution_count": 23,
     "metadata": {},
     "output_type": "execute_result"
    }
   ],
   "source": [
    "df['gender'].mode()"
   ]
  },
  {
   "cell_type": "code",
   "execution_count": 24,
   "id": "e39b18d4",
   "metadata": {},
   "outputs": [],
   "source": [
    "df['gender']=df['gender'].fillna(df['gender'].mode()[0])"
   ]
  },
  {
   "cell_type": "code",
   "execution_count": 25,
   "id": "16ce8377",
   "metadata": {},
   "outputs": [
    {
     "data": {
      "text/plain": [
       "{'M': 49494, 'F': 42219}"
      ]
     },
     "execution_count": 25,
     "metadata": {},
     "output_type": "execute_result"
    }
   ],
   "source": [
    "df['gender'].value_counts().to_dict()"
   ]
  },
  {
   "cell_type": "code",
   "execution_count": 26,
   "id": "81f4c11a",
   "metadata": {},
   "outputs": [],
   "source": [
    "df['gender'].replace({'M': 0, 'F': 1},inplace=True)"
   ]
  },
  {
   "cell_type": "code",
   "execution_count": 27,
   "id": "1ed32cf7",
   "metadata": {},
   "outputs": [
    {
     "data": {
      "text/plain": [
       "170.1"
      ]
     },
     "execution_count": 27,
     "metadata": {},
     "output_type": "execute_result"
    }
   ],
   "source": [
    "df['height'].median()"
   ]
  },
  {
   "cell_type": "code",
   "execution_count": 28,
   "id": "47b5cf8d",
   "metadata": {},
   "outputs": [],
   "source": [
    "df['height']=df['height'].fillna(df['height'].median())"
   ]
  },
  {
   "cell_type": "code",
   "execution_count": 29,
   "id": "856c25be",
   "metadata": {},
   "outputs": [
    {
     "data": {
      "text/plain": [
       "'Accident & Emergency'"
      ]
     },
     "execution_count": 29,
     "metadata": {},
     "output_type": "execute_result"
    }
   ],
   "source": [
    "df['icu_admit_source'].mode()[0]"
   ]
  },
  {
   "cell_type": "code",
   "execution_count": 30,
   "id": "e8ebc906",
   "metadata": {},
   "outputs": [],
   "source": [
    "df['icu_admit_source']=df['icu_admit_source'].fillna(df['icu_admit_source'].mode()[0])"
   ]
  },
  {
   "cell_type": "code",
   "execution_count": 31,
   "id": "67f3a11a",
   "metadata": {},
   "outputs": [
    {
     "data": {
      "text/plain": [
       "{'Accident & Emergency': 54172,\n",
       " 'Operating Room / Recovery': 18713,\n",
       " 'Floor': 15611,\n",
       " 'Other Hospital': 2358,\n",
       " 'Other ICU': 859}"
      ]
     },
     "execution_count": 31,
     "metadata": {},
     "output_type": "execute_result"
    }
   ],
   "source": [
    "df['icu_admit_source'].value_counts().to_dict()"
   ]
  },
  {
   "cell_type": "code",
   "execution_count": 32,
   "id": "ffc83182",
   "metadata": {},
   "outputs": [],
   "source": [
    "df['icu_admit_source'].replace({'Accident & Emergency': 0,\n",
    " 'Operating Room / Recovery': 1,\n",
    " 'Floor': 2,\n",
    " 'Other Hospital': 3,\n",
    " 'Other ICU': 4},inplace=True)"
   ]
  },
  {
   "cell_type": "code",
   "execution_count": 33,
   "id": "0587da8d",
   "metadata": {},
   "outputs": [
    {
     "data": {
      "text/plain": [
       "80.3"
      ]
     },
     "execution_count": 33,
     "metadata": {},
     "output_type": "execute_result"
    }
   ],
   "source": [
    "df['weight'].median()"
   ]
  },
  {
   "cell_type": "code",
   "execution_count": 34,
   "id": "d1353dd2",
   "metadata": {},
   "outputs": [],
   "source": [
    "df['weight']=df['weight'].fillna(df['weight'].median())"
   ]
  },
  {
   "cell_type": "code",
   "execution_count": 35,
   "id": "0684480b",
   "metadata": {},
   "outputs": [
    {
     "data": {
      "text/plain": [
       "122.0"
      ]
     },
     "execution_count": 35,
     "metadata": {},
     "output_type": "execute_result"
    }
   ],
   "source": [
    "df['apache_2_diagnosis'].median()"
   ]
  },
  {
   "cell_type": "code",
   "execution_count": 36,
   "id": "231392b4",
   "metadata": {},
   "outputs": [],
   "source": [
    "df['apache_2_diagnosis']=df['apache_2_diagnosis'].fillna(df['apache_2_diagnosis'].median())"
   ]
  },
  {
   "cell_type": "code",
   "execution_count": 37,
   "id": "3e8c3403",
   "metadata": {},
   "outputs": [],
   "source": [
    "def fill_nan(feature_name):\n",
    "    print(df[feature_name].median())\n",
    "    df[feature_name]=df[feature_name].fillna(df[feature_name].median())\n",
    "    return df[feature_name].isna().mean()*100\n",
    "    "
   ]
  },
  {
   "cell_type": "code",
   "execution_count": 38,
   "id": "18e09e73",
   "metadata": {},
   "outputs": [
    {
     "name": "stdout",
     "output_type": "stream",
     "text": [
      "apache_3j_diagnosis    409.02\n",
      "dtype: float64\n"
     ]
    },
    {
     "data": {
      "text/plain": [
       "apache_3j_diagnosis    0.0\n",
       "dtype: float64"
      ]
     },
     "execution_count": 38,
     "metadata": {},
     "output_type": "execute_result"
    }
   ],
   "source": [
    "fill_nan(['apache_3j_diagnosis'])"
   ]
  },
  {
   "cell_type": "code",
   "execution_count": 39,
   "id": "f44760be",
   "metadata": {},
   "outputs": [
    {
     "name": "stdout",
     "output_type": "stream",
     "text": [
      "apache_3j_diagnosis    409.02\n",
      "dtype: float64\n"
     ]
    },
    {
     "data": {
      "text/plain": [
       "apache_3j_diagnosis    0.0\n",
       "dtype: float64"
      ]
     },
     "execution_count": 39,
     "metadata": {},
     "output_type": "execute_result"
    }
   ],
   "source": [
    "fill_nan(['apache_3j_diagnosis'])"
   ]
  },
  {
   "cell_type": "code",
   "execution_count": 40,
   "id": "215b25dc",
   "metadata": {},
   "outputs": [
    {
     "name": "stdout",
     "output_type": "stream",
     "text": [
      "arf_apache    0.0\n",
      "dtype: float64\n"
     ]
    },
    {
     "data": {
      "text/plain": [
       "arf_apache    0.0\n",
       "dtype: float64"
      ]
     },
     "execution_count": 40,
     "metadata": {},
     "output_type": "execute_result"
    }
   ],
   "source": [
    "fill_nan(['arf_apache'])"
   ]
  },
  {
   "cell_type": "code",
   "execution_count": 41,
   "id": "20242757",
   "metadata": {
    "scrolled": false
   },
   "outputs": [
    {
     "data": {
      "text/plain": [
       "{'encounter_id': 0.0,\n",
       " 'patient_id': 0.0,\n",
       " 'hospital_id': 0.0,\n",
       " 'age': 0.0,\n",
       " 'bmi': 0.0,\n",
       " 'elective_surgery': 0.0,\n",
       " 'ethnicity': 0.0,\n",
       " 'gender': 0.0,\n",
       " 'height': 0.0,\n",
       " 'icu_admit_source': 0.0,\n",
       " 'icu_id': 0.0,\n",
       " 'icu_stay_type': 0.0,\n",
       " 'icu_type': 0.0,\n",
       " 'pre_icu_los_days': 0.0,\n",
       " 'weight': 0.0,\n",
       " 'apache_2_diagnosis': 0.0,\n",
       " 'apache_3j_diagnosis': 0.0,\n",
       " 'apache_post_operative': 0.0,\n",
       " 'arf_apache': 0.0,\n",
       " 'gcs_eyes_apache': 2.072770490552048,\n",
       " 'gcs_motor_apache': 2.072770490552048,\n",
       " 'gcs_unable_apache': 1.1307012092069826,\n",
       " 'gcs_verbal_apache': 2.072770490552048,\n",
       " 'heart_rate_apache': 0.957334292848342,\n",
       " 'intubated_apache': 0.7796059446316226,\n",
       " 'map_apache': 1.0838158167326335,\n",
       " 'resprate_apache': 1.3455017282173738,\n",
       " 'temp_apache': 4.47919051824714,\n",
       " 'ventilated_apache': 0.7796059446316226,\n",
       " 'd1_diasbp_max': 0.17990906414575905,\n",
       " 'd1_diasbp_min': 0.17990906414575905,\n",
       " 'd1_diasbp_noninvasive_max': 1.1339722831005419,\n",
       " 'd1_diasbp_noninvasive_min': 1.1339722831005419,\n",
       " 'd1_heartrate_max': 0.15810190485536402,\n",
       " 'd1_heartrate_min': 0.15810190485536402,\n",
       " 'd1_mbp_max': 0.2398787521943454,\n",
       " 'd1_mbp_min': 0.2398787521943454,\n",
       " 'd1_mbp_noninvasive_max': 1.612639429524713,\n",
       " 'd1_mbp_noninvasive_min': 1.612639429524713,\n",
       " 'd1_resprate_max': 0.4197878163401045,\n",
       " 'd1_resprate_min': 0.4197878163401045,\n",
       " 'd1_spo2_max': 0.36308920218507734,\n",
       " 'd1_spo2_min': 0.36308920218507734,\n",
       " 'd1_sysbp_max': 0.17336691635864054,\n",
       " 'd1_sysbp_min': 0.17336691635864054,\n",
       " 'd1_sysbp_noninvasive_max': 1.119797629561785,\n",
       " 'd1_sysbp_noninvasive_min': 1.119797629561785,\n",
       " 'd1_temp_max': 2.5339919095439036,\n",
       " 'd1_temp_min': 2.5339919095439036,\n",
       " 'h1_diasbp_max': 3.946005473596982,\n",
       " 'h1_diasbp_min': 3.946005473596982,\n",
       " 'h1_diasbp_noninvasive_max': 8.014131039220176,\n",
       " 'h1_diasbp_noninvasive_min': 8.014131039220176,\n",
       " 'h1_heartrate_max': 3.0420987210101074,\n",
       " 'h1_heartrate_min': 3.0420987210101074,\n",
       " 'h1_mbp_max': 5.058170597407129,\n",
       " 'h1_mbp_min': 5.058170597407129,\n",
       " 'h1_mbp_noninvasive_max': 9.904811749697426,\n",
       " 'h1_mbp_noninvasive_min': 9.904811749697426,\n",
       " 'h1_resprate_max': 4.750689651412559,\n",
       " 'h1_resprate_min': 4.750689651412559,\n",
       " 'h1_spo2_max': 4.563148081515162,\n",
       " 'h1_spo2_min': 4.563148081515162,\n",
       " 'h1_sysbp_max': 3.937282609880824,\n",
       " 'h1_sysbp_min': 3.937282609880824,\n",
       " 'h1_sysbp_noninvasive_max': 8.004317817539498,\n",
       " 'h1_sysbp_noninvasive_min': 8.004317817539498,\n",
       " 'd1_glucose_max': 6.331708699966199,\n",
       " 'd1_glucose_min': 6.331708699966199,\n",
       " 'd1_potassium_max': 10.451081089921821,\n",
       " 'd1_potassium_min': 10.451081089921821,\n",
       " 'apache_4a_hospital_death_prob': 8.665074744038467,\n",
       " 'apache_4a_icu_death_prob': 8.665074744038467,\n",
       " 'aids': 0.7796059446316226,\n",
       " 'cirrhosis': 0.7796059446316226,\n",
       " 'diabetes_mellitus': 0.7796059446316226,\n",
       " 'hepatic_failure': 0.7796059446316226,\n",
       " 'immunosuppression': 0.7796059446316226,\n",
       " 'leukemia': 0.7796059446316226,\n",
       " 'lymphoma': 0.7796059446316226,\n",
       " 'solid_tumor_with_metastasis': 0.7796059446316226,\n",
       " 'apache_3j_bodysystem': 1.8121749370318276,\n",
       " 'apache_2_bodysystem': 1.8121749370318276,\n",
       " 'Unnamed: 83': 100.0,\n",
       " 'hospital_death': 0.0}"
      ]
     },
     "execution_count": 41,
     "metadata": {},
     "output_type": "execute_result"
    }
   ],
   "source": [
    "(df.isna().mean()*100).to_dict()"
   ]
  },
  {
   "cell_type": "code",
   "execution_count": 42,
   "id": "6881d39a",
   "metadata": {},
   "outputs": [
    {
     "name": "stdout",
     "output_type": "stream",
     "text": [
      "gcs_eyes_apache    4.0\n",
      "dtype: float64\n"
     ]
    },
    {
     "data": {
      "text/plain": [
       "gcs_eyes_apache    0.0\n",
       "dtype: float64"
      ]
     },
     "execution_count": 42,
     "metadata": {},
     "output_type": "execute_result"
    }
   ],
   "source": [
    "fill_nan(['gcs_eyes_apache'])"
   ]
  },
  {
   "cell_type": "code",
   "execution_count": 43,
   "id": "aaab14ff",
   "metadata": {},
   "outputs": [
    {
     "name": "stdout",
     "output_type": "stream",
     "text": [
      "gcs_motor_apache    6.0\n",
      "dtype: float64\n"
     ]
    },
    {
     "data": {
      "text/plain": [
       "gcs_motor_apache    0.0\n",
       "dtype: float64"
      ]
     },
     "execution_count": 43,
     "metadata": {},
     "output_type": "execute_result"
    }
   ],
   "source": [
    "fill_nan(['gcs_motor_apache'])"
   ]
  },
  {
   "cell_type": "code",
   "execution_count": 44,
   "id": "185f2e21",
   "metadata": {},
   "outputs": [
    {
     "name": "stdout",
     "output_type": "stream",
     "text": [
      "gcs_unable_apache    0.0\n",
      "dtype: float64\n"
     ]
    },
    {
     "data": {
      "text/plain": [
       "gcs_unable_apache    0.0\n",
       "dtype: float64"
      ]
     },
     "execution_count": 44,
     "metadata": {},
     "output_type": "execute_result"
    }
   ],
   "source": [
    "fill_nan(['gcs_unable_apache'])"
   ]
  },
  {
   "cell_type": "code",
   "execution_count": 45,
   "id": "34d7d4be",
   "metadata": {},
   "outputs": [
    {
     "name": "stdout",
     "output_type": "stream",
     "text": [
      "gcs_verbal_apache    5.0\n",
      "dtype: float64\n"
     ]
    },
    {
     "data": {
      "text/plain": [
       "gcs_verbal_apache    0.0\n",
       "dtype: float64"
      ]
     },
     "execution_count": 45,
     "metadata": {},
     "output_type": "execute_result"
    }
   ],
   "source": [
    "fill_nan(['gcs_verbal_apache'])"
   ]
  },
  {
   "cell_type": "code",
   "execution_count": 46,
   "id": "6b1eafba",
   "metadata": {},
   "outputs": [
    {
     "name": "stdout",
     "output_type": "stream",
     "text": [
      "heart_rate_apache    104.0\n",
      "dtype: float64\n"
     ]
    },
    {
     "data": {
      "text/plain": [
       "heart_rate_apache    0.0\n",
       "dtype: float64"
      ]
     },
     "execution_count": 46,
     "metadata": {},
     "output_type": "execute_result"
    }
   ],
   "source": [
    "fill_nan(['heart_rate_apache'])"
   ]
  },
  {
   "cell_type": "code",
   "execution_count": 47,
   "id": "0d2f3365",
   "metadata": {},
   "outputs": [
    {
     "name": "stdout",
     "output_type": "stream",
     "text": [
      "intubated_apache    0.0\n",
      "dtype: float64\n"
     ]
    },
    {
     "data": {
      "text/plain": [
       "intubated_apache    0.0\n",
       "dtype: float64"
      ]
     },
     "execution_count": 47,
     "metadata": {},
     "output_type": "execute_result"
    }
   ],
   "source": [
    "fill_nan(['intubated_apache'])"
   ]
  },
  {
   "cell_type": "code",
   "execution_count": 48,
   "id": "a759ab30",
   "metadata": {},
   "outputs": [
    {
     "name": "stdout",
     "output_type": "stream",
     "text": [
      "map_apache    67.0\n",
      "dtype: float64\n"
     ]
    },
    {
     "data": {
      "text/plain": [
       "map_apache    0.0\n",
       "dtype: float64"
      ]
     },
     "execution_count": 48,
     "metadata": {},
     "output_type": "execute_result"
    }
   ],
   "source": [
    "fill_nan(['map_apache'])"
   ]
  },
  {
   "cell_type": "code",
   "execution_count": 49,
   "id": "899df2ce",
   "metadata": {},
   "outputs": [
    {
     "name": "stdout",
     "output_type": "stream",
     "text": [
      "resprate_apache    28.0\n",
      "dtype: float64\n"
     ]
    },
    {
     "data": {
      "text/plain": [
       "resprate_apache    0.0\n",
       "dtype: float64"
      ]
     },
     "execution_count": 49,
     "metadata": {},
     "output_type": "execute_result"
    }
   ],
   "source": [
    "fill_nan(['resprate_apache'])"
   ]
  },
  {
   "cell_type": "code",
   "execution_count": 50,
   "id": "f0f4d070",
   "metadata": {},
   "outputs": [
    {
     "name": "stdout",
     "output_type": "stream",
     "text": [
      "temp_apache    36.5\n",
      "dtype: float64\n"
     ]
    },
    {
     "data": {
      "text/plain": [
       "temp_apache    0.0\n",
       "dtype: float64"
      ]
     },
     "execution_count": 50,
     "metadata": {},
     "output_type": "execute_result"
    }
   ],
   "source": [
    "fill_nan(['temp_apache'])"
   ]
  },
  {
   "cell_type": "code",
   "execution_count": 51,
   "id": "2922952d",
   "metadata": {},
   "outputs": [
    {
     "name": "stdout",
     "output_type": "stream",
     "text": [
      "ventilated_apache    0.0\n",
      "dtype: float64\n"
     ]
    },
    {
     "data": {
      "text/plain": [
       "ventilated_apache    0.0\n",
       "dtype: float64"
      ]
     },
     "execution_count": 51,
     "metadata": {},
     "output_type": "execute_result"
    }
   ],
   "source": [
    "fill_nan(['ventilated_apache'])"
   ]
  },
  {
   "cell_type": "code",
   "execution_count": 52,
   "id": "cbe14e40",
   "metadata": {},
   "outputs": [
    {
     "name": "stdout",
     "output_type": "stream",
     "text": [
      "d1_diasbp_max    86.0\n",
      "dtype: float64\n"
     ]
    },
    {
     "data": {
      "text/plain": [
       "d1_diasbp_max    0.0\n",
       "dtype: float64"
      ]
     },
     "execution_count": 52,
     "metadata": {},
     "output_type": "execute_result"
    }
   ],
   "source": [
    "fill_nan(['d1_diasbp_max'])"
   ]
  },
  {
   "cell_type": "code",
   "execution_count": 53,
   "id": "07bded5a",
   "metadata": {},
   "outputs": [
    {
     "name": "stdout",
     "output_type": "stream",
     "text": [
      "d1_diasbp_min    50.0\n",
      "dtype: float64\n"
     ]
    },
    {
     "data": {
      "text/plain": [
       "d1_diasbp_min    0.0\n",
       "dtype: float64"
      ]
     },
     "execution_count": 53,
     "metadata": {},
     "output_type": "execute_result"
    }
   ],
   "source": [
    "fill_nan(['d1_diasbp_min'])"
   ]
  },
  {
   "cell_type": "code",
   "execution_count": 54,
   "id": "0c635ecd",
   "metadata": {},
   "outputs": [
    {
     "name": "stdout",
     "output_type": "stream",
     "text": [
      "d1_diasbp_noninvasive_max    87.0\n",
      "dtype: float64\n"
     ]
    },
    {
     "data": {
      "text/plain": [
       "d1_diasbp_noninvasive_max    0.0\n",
       "dtype: float64"
      ]
     },
     "execution_count": 54,
     "metadata": {},
     "output_type": "execute_result"
    }
   ],
   "source": [
    "fill_nan(['d1_diasbp_noninvasive_max'])"
   ]
  },
  {
   "cell_type": "code",
   "execution_count": 55,
   "id": "dc1e1ce4",
   "metadata": {},
   "outputs": [
    {
     "name": "stdout",
     "output_type": "stream",
     "text": [
      "d1_diasbp_noninvasive_min    50.0\n",
      "dtype: float64\n"
     ]
    },
    {
     "data": {
      "text/plain": [
       "d1_diasbp_noninvasive_min    0.0\n",
       "dtype: float64"
      ]
     },
     "execution_count": 55,
     "metadata": {},
     "output_type": "execute_result"
    }
   ],
   "source": [
    "fill_nan(['d1_diasbp_noninvasive_min'])"
   ]
  },
  {
   "cell_type": "code",
   "execution_count": 56,
   "id": "14d1f62d",
   "metadata": {},
   "outputs": [
    {
     "name": "stdout",
     "output_type": "stream",
     "text": [
      "d1_resprate_max    26.0\n",
      "dtype: float64\n"
     ]
    },
    {
     "data": {
      "text/plain": [
       "d1_resprate_max    0.0\n",
       "dtype: float64"
      ]
     },
     "execution_count": 56,
     "metadata": {},
     "output_type": "execute_result"
    }
   ],
   "source": [
    "fill_nan(['d1_resprate_max'])"
   ]
  },
  {
   "cell_type": "code",
   "execution_count": 57,
   "id": "deca139f",
   "metadata": {},
   "outputs": [
    {
     "name": "stdout",
     "output_type": "stream",
     "text": [
      "d1_resprate_min    13.0\n",
      "dtype: float64\n"
     ]
    },
    {
     "data": {
      "text/plain": [
       "d1_resprate_min    0.0\n",
       "dtype: float64"
      ]
     },
     "execution_count": 57,
     "metadata": {},
     "output_type": "execute_result"
    }
   ],
   "source": [
    "fill_nan(['d1_resprate_min'])"
   ]
  },
  {
   "cell_type": "code",
   "execution_count": 58,
   "id": "fdaaae17",
   "metadata": {},
   "outputs": [
    {
     "name": "stdout",
     "output_type": "stream",
     "text": [
      "d1_spo2_max    100.0\n",
      "dtype: float64\n"
     ]
    },
    {
     "data": {
      "text/plain": [
       "d1_spo2_max    0.0\n",
       "dtype: float64"
      ]
     },
     "execution_count": 58,
     "metadata": {},
     "output_type": "execute_result"
    }
   ],
   "source": [
    "fill_nan(['d1_spo2_max'])"
   ]
  },
  {
   "cell_type": "code",
   "execution_count": 59,
   "id": "6236db85",
   "metadata": {},
   "outputs": [
    {
     "name": "stdout",
     "output_type": "stream",
     "text": [
      "d1_spo2_min    92.0\n",
      "dtype: float64\n"
     ]
    },
    {
     "data": {
      "text/plain": [
       "d1_spo2_min    0.0\n",
       "dtype: float64"
      ]
     },
     "execution_count": 59,
     "metadata": {},
     "output_type": "execute_result"
    }
   ],
   "source": [
    "fill_nan(['d1_spo2_min'])"
   ]
  },
  {
   "cell_type": "code",
   "execution_count": 60,
   "id": "8f5a8bef",
   "metadata": {},
   "outputs": [
    {
     "name": "stdout",
     "output_type": "stream",
     "text": [
      "d1_sysbp_max    146.0\n",
      "dtype: float64\n"
     ]
    },
    {
     "data": {
      "text/plain": [
       "d1_sysbp_max    0.0\n",
       "dtype: float64"
      ]
     },
     "execution_count": 60,
     "metadata": {},
     "output_type": "execute_result"
    }
   ],
   "source": [
    "fill_nan(['d1_sysbp_max'])"
   ]
  },
  {
   "cell_type": "code",
   "execution_count": 61,
   "id": "02764575",
   "metadata": {},
   "outputs": [
    {
     "name": "stdout",
     "output_type": "stream",
     "text": [
      "d1_sysbp_min    96.0\n",
      "dtype: float64\n"
     ]
    },
    {
     "data": {
      "text/plain": [
       "d1_sysbp_min    0.0\n",
       "dtype: float64"
      ]
     },
     "execution_count": 61,
     "metadata": {},
     "output_type": "execute_result"
    }
   ],
   "source": [
    "fill_nan(['d1_sysbp_min'])"
   ]
  },
  {
   "cell_type": "code",
   "execution_count": 62,
   "id": "a4e419c0",
   "metadata": {},
   "outputs": [
    {
     "name": "stdout",
     "output_type": "stream",
     "text": [
      "h1_sysbp_noninvasive_max    130.0\n",
      "dtype: float64\n"
     ]
    },
    {
     "data": {
      "text/plain": [
       "h1_sysbp_noninvasive_max    0.0\n",
       "dtype: float64"
      ]
     },
     "execution_count": 62,
     "metadata": {},
     "output_type": "execute_result"
    }
   ],
   "source": [
    "fill_nan(['h1_sysbp_noninvasive_max'])"
   ]
  },
  {
   "cell_type": "code",
   "execution_count": 63,
   "id": "e1c30a82",
   "metadata": {},
   "outputs": [
    {
     "name": "stdout",
     "output_type": "stream",
     "text": [
      "h1_sysbp_noninvasive_min    115.0\n",
      "dtype: float64\n"
     ]
    },
    {
     "data": {
      "text/plain": [
       "h1_sysbp_noninvasive_min    0.0\n",
       "dtype: float64"
      ]
     },
     "execution_count": 63,
     "metadata": {},
     "output_type": "execute_result"
    }
   ],
   "source": [
    "fill_nan(['h1_sysbp_noninvasive_min'])"
   ]
  },
  {
   "cell_type": "code",
   "execution_count": 64,
   "id": "c08012ea",
   "metadata": {},
   "outputs": [
    {
     "name": "stdout",
     "output_type": "stream",
     "text": [
      "d1_glucose_max    150.0\n",
      "dtype: float64\n"
     ]
    },
    {
     "data": {
      "text/plain": [
       "d1_glucose_max    0.0\n",
       "dtype: float64"
      ]
     },
     "execution_count": 64,
     "metadata": {},
     "output_type": "execute_result"
    }
   ],
   "source": [
    "fill_nan(['d1_glucose_max'])"
   ]
  },
  {
   "cell_type": "code",
   "execution_count": 65,
   "id": "b4f1f513",
   "metadata": {},
   "outputs": [
    {
     "name": "stdout",
     "output_type": "stream",
     "text": [
      "d1_glucose_min    107.0\n",
      "dtype: float64\n"
     ]
    },
    {
     "data": {
      "text/plain": [
       "d1_glucose_min    0.0\n",
       "dtype: float64"
      ]
     },
     "execution_count": 65,
     "metadata": {},
     "output_type": "execute_result"
    }
   ],
   "source": [
    "fill_nan(['d1_glucose_min'])"
   ]
  },
  {
   "cell_type": "code",
   "execution_count": 66,
   "id": "a7018f9d",
   "metadata": {},
   "outputs": [
    {
     "name": "stdout",
     "output_type": "stream",
     "text": [
      "d1_potassium_max    4.2\n",
      "dtype: float64\n"
     ]
    },
    {
     "data": {
      "text/plain": [
       "d1_potassium_max    0.0\n",
       "dtype: float64"
      ]
     },
     "execution_count": 66,
     "metadata": {},
     "output_type": "execute_result"
    }
   ],
   "source": [
    "fill_nan(['d1_potassium_max'])"
   ]
  },
  {
   "cell_type": "code",
   "execution_count": 67,
   "id": "7d3c6dc9",
   "metadata": {},
   "outputs": [
    {
     "name": "stdout",
     "output_type": "stream",
     "text": [
      "d1_potassium_min    3.9\n",
      "dtype: float64\n"
     ]
    },
    {
     "data": {
      "text/plain": [
       "d1_potassium_min    0.0\n",
       "dtype: float64"
      ]
     },
     "execution_count": 67,
     "metadata": {},
     "output_type": "execute_result"
    }
   ],
   "source": [
    "fill_nan(['d1_potassium_min'])"
   ]
  },
  {
   "cell_type": "code",
   "execution_count": 68,
   "id": "d840c935",
   "metadata": {},
   "outputs": [
    {
     "name": "stdout",
     "output_type": "stream",
     "text": [
      "apache_4a_hospital_death_prob    0.05\n",
      "dtype: float64\n"
     ]
    },
    {
     "data": {
      "text/plain": [
       "apache_4a_hospital_death_prob    0.0\n",
       "dtype: float64"
      ]
     },
     "execution_count": 68,
     "metadata": {},
     "output_type": "execute_result"
    }
   ],
   "source": [
    "fill_nan(['apache_4a_hospital_death_prob'])"
   ]
  },
  {
   "cell_type": "code",
   "execution_count": 69,
   "id": "6201cc8a",
   "metadata": {},
   "outputs": [
    {
     "name": "stdout",
     "output_type": "stream",
     "text": [
      "apache_4a_icu_death_prob    0.02\n",
      "dtype: float64\n"
     ]
    },
    {
     "data": {
      "text/plain": [
       "apache_4a_icu_death_prob    0.0\n",
       "dtype: float64"
      ]
     },
     "execution_count": 69,
     "metadata": {},
     "output_type": "execute_result"
    }
   ],
   "source": [
    "fill_nan(['apache_4a_icu_death_prob'])"
   ]
  },
  {
   "cell_type": "code",
   "execution_count": 70,
   "id": "42dc64c7",
   "metadata": {},
   "outputs": [
    {
     "name": "stdout",
     "output_type": "stream",
     "text": [
      "aids    0.0\n",
      "dtype: float64\n"
     ]
    },
    {
     "data": {
      "text/plain": [
       "aids    0.0\n",
       "dtype: float64"
      ]
     },
     "execution_count": 70,
     "metadata": {},
     "output_type": "execute_result"
    }
   ],
   "source": [
    "fill_nan(['aids'])"
   ]
  },
  {
   "cell_type": "code",
   "execution_count": 71,
   "id": "f19485a0",
   "metadata": {},
   "outputs": [
    {
     "name": "stdout",
     "output_type": "stream",
     "text": [
      "cirrhosis    0.0\n",
      "dtype: float64\n"
     ]
    },
    {
     "data": {
      "text/plain": [
       "cirrhosis    0.0\n",
       "dtype: float64"
      ]
     },
     "execution_count": 71,
     "metadata": {},
     "output_type": "execute_result"
    }
   ],
   "source": [
    "fill_nan(['cirrhosis'])"
   ]
  },
  {
   "cell_type": "code",
   "execution_count": 72,
   "id": "63a20f99",
   "metadata": {},
   "outputs": [
    {
     "name": "stdout",
     "output_type": "stream",
     "text": [
      "diabetes_mellitus    0.0\n",
      "dtype: float64\n"
     ]
    },
    {
     "data": {
      "text/plain": [
       "diabetes_mellitus    0.0\n",
       "dtype: float64"
      ]
     },
     "execution_count": 72,
     "metadata": {},
     "output_type": "execute_result"
    }
   ],
   "source": [
    "fill_nan(['diabetes_mellitus'])"
   ]
  },
  {
   "cell_type": "code",
   "execution_count": 73,
   "id": "a441f842",
   "metadata": {},
   "outputs": [
    {
     "name": "stdout",
     "output_type": "stream",
     "text": [
      "hepatic_failure    0.0\n",
      "dtype: float64\n"
     ]
    },
    {
     "data": {
      "text/plain": [
       "hepatic_failure    0.0\n",
       "dtype: float64"
      ]
     },
     "execution_count": 73,
     "metadata": {},
     "output_type": "execute_result"
    }
   ],
   "source": [
    "fill_nan(['hepatic_failure'])"
   ]
  },
  {
   "cell_type": "code",
   "execution_count": 74,
   "id": "81b42c95",
   "metadata": {},
   "outputs": [
    {
     "name": "stdout",
     "output_type": "stream",
     "text": [
      "immunosuppression    0.0\n",
      "dtype: float64\n"
     ]
    },
    {
     "data": {
      "text/plain": [
       "immunosuppression    0.0\n",
       "dtype: float64"
      ]
     },
     "execution_count": 74,
     "metadata": {},
     "output_type": "execute_result"
    }
   ],
   "source": [
    "fill_nan(['immunosuppression'])"
   ]
  },
  {
   "cell_type": "code",
   "execution_count": 75,
   "id": "9f561afe",
   "metadata": {},
   "outputs": [
    {
     "name": "stdout",
     "output_type": "stream",
     "text": [
      "leukemia    0.0\n",
      "dtype: float64\n"
     ]
    },
    {
     "data": {
      "text/plain": [
       "leukemia    0.0\n",
       "dtype: float64"
      ]
     },
     "execution_count": 75,
     "metadata": {},
     "output_type": "execute_result"
    }
   ],
   "source": [
    "fill_nan(['leukemia'])"
   ]
  },
  {
   "cell_type": "code",
   "execution_count": 76,
   "id": "06e21233",
   "metadata": {},
   "outputs": [
    {
     "name": "stdout",
     "output_type": "stream",
     "text": [
      "lymphoma    0.0\n",
      "dtype: float64\n"
     ]
    },
    {
     "data": {
      "text/plain": [
       "lymphoma    0.0\n",
       "dtype: float64"
      ]
     },
     "execution_count": 76,
     "metadata": {},
     "output_type": "execute_result"
    }
   ],
   "source": [
    "fill_nan(['lymphoma'])"
   ]
  },
  {
   "cell_type": "code",
   "execution_count": 77,
   "id": "e87d1295",
   "metadata": {},
   "outputs": [
    {
     "name": "stdout",
     "output_type": "stream",
     "text": [
      "solid_tumor_with_metastasis    0.0\n",
      "dtype: float64\n"
     ]
    },
    {
     "data": {
      "text/plain": [
       "solid_tumor_with_metastasis    0.0\n",
       "dtype: float64"
      ]
     },
     "execution_count": 77,
     "metadata": {},
     "output_type": "execute_result"
    }
   ],
   "source": [
    "fill_nan(['solid_tumor_with_metastasis'])"
   ]
  },
  {
   "cell_type": "code",
   "execution_count": 78,
   "id": "c76ed04a",
   "metadata": {},
   "outputs": [
    {
     "name": "stdout",
     "output_type": "stream",
     "text": [
      "Series([], dtype: float64)\n"
     ]
    },
    {
     "name": "stderr",
     "output_type": "stream",
     "text": [
      "C:\\Users\\soura\\AppData\\Local\\Temp\\ipykernel_10824\\2603381081.py:2: FutureWarning: Dropping of nuisance columns in DataFrame reductions (with 'numeric_only=None') is deprecated; in a future version this will raise TypeError.  Select only valid columns before calling the reduction.\n",
      "  print(df[feature_name].median())\n",
      "C:\\Users\\soura\\AppData\\Local\\Temp\\ipykernel_10824\\2603381081.py:3: FutureWarning: Dropping of nuisance columns in DataFrame reductions (with 'numeric_only=None') is deprecated; in a future version this will raise TypeError.  Select only valid columns before calling the reduction.\n",
      "  df[feature_name]=df[feature_name].fillna(df[feature_name].median())\n"
     ]
    },
    {
     "data": {
      "text/plain": [
       "apache_3j_bodysystem    1.812175\n",
       "dtype: float64"
      ]
     },
     "execution_count": 78,
     "metadata": {},
     "output_type": "execute_result"
    }
   ],
   "source": [
    "fill_nan(['apache_3j_bodysystem'])"
   ]
  },
  {
   "cell_type": "code",
   "execution_count": 79,
   "id": "5727bc5a",
   "metadata": {},
   "outputs": [
    {
     "name": "stdout",
     "output_type": "stream",
     "text": [
      "<class 'pandas.core.frame.DataFrame'>\n",
      "RangeIndex: 91713 entries, 0 to 91712\n",
      "Data columns (total 85 columns):\n",
      " #   Column                         Non-Null Count  Dtype  \n",
      "---  ------                         --------------  -----  \n",
      " 0   encounter_id                   91713 non-null  int64  \n",
      " 1   patient_id                     91713 non-null  int64  \n",
      " 2   hospital_id                    91713 non-null  int64  \n",
      " 3   age                            91713 non-null  float64\n",
      " 4   bmi                            91713 non-null  float64\n",
      " 5   elective_surgery               91713 non-null  int64  \n",
      " 6   ethnicity                      91713 non-null  int64  \n",
      " 7   gender                         91713 non-null  int64  \n",
      " 8   height                         91713 non-null  float64\n",
      " 9   icu_admit_source               91713 non-null  int64  \n",
      " 10  icu_id                         91713 non-null  int64  \n",
      " 11  icu_stay_type                  91713 non-null  object \n",
      " 12  icu_type                       91713 non-null  object \n",
      " 13  pre_icu_los_days               91713 non-null  float64\n",
      " 14  weight                         91713 non-null  float64\n",
      " 15  apache_2_diagnosis             91713 non-null  float64\n",
      " 16  apache_3j_diagnosis            91713 non-null  float64\n",
      " 17  apache_post_operative          91713 non-null  int64  \n",
      " 18  arf_apache                     91713 non-null  float64\n",
      " 19  gcs_eyes_apache                91713 non-null  float64\n",
      " 20  gcs_motor_apache               91713 non-null  float64\n",
      " 21  gcs_unable_apache              91713 non-null  float64\n",
      " 22  gcs_verbal_apache              91713 non-null  float64\n",
      " 23  heart_rate_apache              91713 non-null  float64\n",
      " 24  intubated_apache               91713 non-null  float64\n",
      " 25  map_apache                     91713 non-null  float64\n",
      " 26  resprate_apache                91713 non-null  float64\n",
      " 27  temp_apache                    91713 non-null  float64\n",
      " 28  ventilated_apache              91713 non-null  float64\n",
      " 29  d1_diasbp_max                  91713 non-null  float64\n",
      " 30  d1_diasbp_min                  91713 non-null  float64\n",
      " 31  d1_diasbp_noninvasive_max      91713 non-null  float64\n",
      " 32  d1_diasbp_noninvasive_min      91713 non-null  float64\n",
      " 33  d1_heartrate_max               91568 non-null  float64\n",
      " 34  d1_heartrate_min               91568 non-null  float64\n",
      " 35  d1_mbp_max                     91493 non-null  float64\n",
      " 36  d1_mbp_min                     91493 non-null  float64\n",
      " 37  d1_mbp_noninvasive_max         90234 non-null  float64\n",
      " 38  d1_mbp_noninvasive_min         90234 non-null  float64\n",
      " 39  d1_resprate_max                91713 non-null  float64\n",
      " 40  d1_resprate_min                91713 non-null  float64\n",
      " 41  d1_spo2_max                    91713 non-null  float64\n",
      " 42  d1_spo2_min                    91713 non-null  float64\n",
      " 43  d1_sysbp_max                   91713 non-null  float64\n",
      " 44  d1_sysbp_min                   91713 non-null  float64\n",
      " 45  d1_sysbp_noninvasive_max       90686 non-null  float64\n",
      " 46  d1_sysbp_noninvasive_min       90686 non-null  float64\n",
      " 47  d1_temp_max                    89389 non-null  float64\n",
      " 48  d1_temp_min                    89389 non-null  float64\n",
      " 49  h1_diasbp_max                  88094 non-null  float64\n",
      " 50  h1_diasbp_min                  88094 non-null  float64\n",
      " 51  h1_diasbp_noninvasive_max      84363 non-null  float64\n",
      " 52  h1_diasbp_noninvasive_min      84363 non-null  float64\n",
      " 53  h1_heartrate_max               88923 non-null  float64\n",
      " 54  h1_heartrate_min               88923 non-null  float64\n",
      " 55  h1_mbp_max                     87074 non-null  float64\n",
      " 56  h1_mbp_min                     87074 non-null  float64\n",
      " 57  h1_mbp_noninvasive_max         82629 non-null  float64\n",
      " 58  h1_mbp_noninvasive_min         82629 non-null  float64\n",
      " 59  h1_resprate_max                87356 non-null  float64\n",
      " 60  h1_resprate_min                87356 non-null  float64\n",
      " 61  h1_spo2_max                    87528 non-null  float64\n",
      " 62  h1_spo2_min                    87528 non-null  float64\n",
      " 63  h1_sysbp_max                   88102 non-null  float64\n",
      " 64  h1_sysbp_min                   88102 non-null  float64\n",
      " 65  h1_sysbp_noninvasive_max       91713 non-null  float64\n",
      " 66  h1_sysbp_noninvasive_min       91713 non-null  float64\n",
      " 67  d1_glucose_max                 91713 non-null  float64\n",
      " 68  d1_glucose_min                 91713 non-null  float64\n",
      " 69  d1_potassium_max               91713 non-null  float64\n",
      " 70  d1_potassium_min               91713 non-null  float64\n",
      " 71  apache_4a_hospital_death_prob  91713 non-null  float64\n",
      " 72  apache_4a_icu_death_prob       91713 non-null  float64\n",
      " 73  aids                           91713 non-null  float64\n",
      " 74  cirrhosis                      91713 non-null  float64\n",
      " 75  diabetes_mellitus              91713 non-null  float64\n",
      " 76  hepatic_failure                91713 non-null  float64\n",
      " 77  immunosuppression              91713 non-null  float64\n",
      " 78  leukemia                       91713 non-null  float64\n",
      " 79  lymphoma                       91713 non-null  float64\n",
      " 80  solid_tumor_with_metastasis    91713 non-null  float64\n",
      " 81  apache_3j_bodysystem           90051 non-null  object \n",
      " 82  apache_2_bodysystem            90051 non-null  object \n",
      " 83  Unnamed: 83                    0 non-null      float64\n",
      " 84  hospital_death                 91713 non-null  int64  \n",
      "dtypes: float64(71), int64(10), object(4)\n",
      "memory usage: 59.5+ MB\n"
     ]
    }
   ],
   "source": [
    "df.info()"
   ]
  },
  {
   "cell_type": "code",
   "execution_count": 80,
   "id": "ac23c0ec",
   "metadata": {},
   "outputs": [],
   "source": [
    "df['d1_heartrate_max']=df['d1_heartrate_max'].fillna(df['d1_heartrate_max'].median())"
   ]
  },
  {
   "cell_type": "code",
   "execution_count": 81,
   "id": "309ac569",
   "metadata": {},
   "outputs": [],
   "source": [
    "df['d1_heartrate_min']=df['d1_heartrate_min'].fillna(df['d1_heartrate_min'].median())"
   ]
  },
  {
   "cell_type": "code",
   "execution_count": 82,
   "id": "6f733cbb",
   "metadata": {},
   "outputs": [],
   "source": [
    "df['d1_mbp_max']=df['d1_mbp_max'].fillna(df['d1_mbp_max'].median())"
   ]
  },
  {
   "cell_type": "code",
   "execution_count": 83,
   "id": "2d5b1f2f",
   "metadata": {},
   "outputs": [],
   "source": [
    "df['d1_mbp_min']=df['d1_mbp_min'].fillna(df['d1_mbp_min'].median())"
   ]
  },
  {
   "cell_type": "code",
   "execution_count": 84,
   "id": "ed52b656",
   "metadata": {},
   "outputs": [],
   "source": [
    "df['d1_mbp_noninvasive_max']=df['d1_mbp_noninvasive_max'].fillna(df['d1_mbp_noninvasive_max'].median())"
   ]
  },
  {
   "cell_type": "code",
   "execution_count": 85,
   "id": "b619dc97",
   "metadata": {},
   "outputs": [],
   "source": [
    "df['d1_mbp_noninvasive_min']=df['d1_mbp_noninvasive_min'].fillna(df['d1_mbp_noninvasive_min'].median())"
   ]
  },
  {
   "cell_type": "code",
   "execution_count": 86,
   "id": "9da7b175",
   "metadata": {},
   "outputs": [],
   "source": [
    "df['d1_temp_max']=df['d1_temp_max'].fillna(df['d1_temp_max'].median())"
   ]
  },
  {
   "cell_type": "code",
   "execution_count": 87,
   "id": "8486db11",
   "metadata": {},
   "outputs": [],
   "source": [
    "df['d1_temp_min']=df['d1_temp_min'].fillna(df['d1_temp_min'].median())"
   ]
  },
  {
   "cell_type": "code",
   "execution_count": 88,
   "id": "9cac8f39",
   "metadata": {},
   "outputs": [],
   "source": [
    "df['h1_diasbp_max']=df['h1_diasbp_max'].fillna(df['h1_diasbp_max'].median())"
   ]
  },
  {
   "cell_type": "code",
   "execution_count": 89,
   "id": "1cdaea12",
   "metadata": {},
   "outputs": [],
   "source": [
    "df['h1_diasbp_min']=df['h1_diasbp_min'].fillna(df['h1_diasbp_min'].median())"
   ]
  },
  {
   "cell_type": "code",
   "execution_count": 90,
   "id": "edae0c39",
   "metadata": {},
   "outputs": [
    {
     "name": "stdout",
     "output_type": "stream",
     "text": [
      "<class 'pandas.core.frame.DataFrame'>\n",
      "RangeIndex: 91713 entries, 0 to 91712\n",
      "Data columns (total 85 columns):\n",
      " #   Column                         Non-Null Count  Dtype  \n",
      "---  ------                         --------------  -----  \n",
      " 0   encounter_id                   91713 non-null  int64  \n",
      " 1   patient_id                     91713 non-null  int64  \n",
      " 2   hospital_id                    91713 non-null  int64  \n",
      " 3   age                            91713 non-null  float64\n",
      " 4   bmi                            91713 non-null  float64\n",
      " 5   elective_surgery               91713 non-null  int64  \n",
      " 6   ethnicity                      91713 non-null  int64  \n",
      " 7   gender                         91713 non-null  int64  \n",
      " 8   height                         91713 non-null  float64\n",
      " 9   icu_admit_source               91713 non-null  int64  \n",
      " 10  icu_id                         91713 non-null  int64  \n",
      " 11  icu_stay_type                  91713 non-null  object \n",
      " 12  icu_type                       91713 non-null  object \n",
      " 13  pre_icu_los_days               91713 non-null  float64\n",
      " 14  weight                         91713 non-null  float64\n",
      " 15  apache_2_diagnosis             91713 non-null  float64\n",
      " 16  apache_3j_diagnosis            91713 non-null  float64\n",
      " 17  apache_post_operative          91713 non-null  int64  \n",
      " 18  arf_apache                     91713 non-null  float64\n",
      " 19  gcs_eyes_apache                91713 non-null  float64\n",
      " 20  gcs_motor_apache               91713 non-null  float64\n",
      " 21  gcs_unable_apache              91713 non-null  float64\n",
      " 22  gcs_verbal_apache              91713 non-null  float64\n",
      " 23  heart_rate_apache              91713 non-null  float64\n",
      " 24  intubated_apache               91713 non-null  float64\n",
      " 25  map_apache                     91713 non-null  float64\n",
      " 26  resprate_apache                91713 non-null  float64\n",
      " 27  temp_apache                    91713 non-null  float64\n",
      " 28  ventilated_apache              91713 non-null  float64\n",
      " 29  d1_diasbp_max                  91713 non-null  float64\n",
      " 30  d1_diasbp_min                  91713 non-null  float64\n",
      " 31  d1_diasbp_noninvasive_max      91713 non-null  float64\n",
      " 32  d1_diasbp_noninvasive_min      91713 non-null  float64\n",
      " 33  d1_heartrate_max               91713 non-null  float64\n",
      " 34  d1_heartrate_min               91713 non-null  float64\n",
      " 35  d1_mbp_max                     91713 non-null  float64\n",
      " 36  d1_mbp_min                     91713 non-null  float64\n",
      " 37  d1_mbp_noninvasive_max         91713 non-null  float64\n",
      " 38  d1_mbp_noninvasive_min         91713 non-null  float64\n",
      " 39  d1_resprate_max                91713 non-null  float64\n",
      " 40  d1_resprate_min                91713 non-null  float64\n",
      " 41  d1_spo2_max                    91713 non-null  float64\n",
      " 42  d1_spo2_min                    91713 non-null  float64\n",
      " 43  d1_sysbp_max                   91713 non-null  float64\n",
      " 44  d1_sysbp_min                   91713 non-null  float64\n",
      " 45  d1_sysbp_noninvasive_max       90686 non-null  float64\n",
      " 46  d1_sysbp_noninvasive_min       90686 non-null  float64\n",
      " 47  d1_temp_max                    91713 non-null  float64\n",
      " 48  d1_temp_min                    91713 non-null  float64\n",
      " 49  h1_diasbp_max                  91713 non-null  float64\n",
      " 50  h1_diasbp_min                  91713 non-null  float64\n",
      " 51  h1_diasbp_noninvasive_max      84363 non-null  float64\n",
      " 52  h1_diasbp_noninvasive_min      84363 non-null  float64\n",
      " 53  h1_heartrate_max               88923 non-null  float64\n",
      " 54  h1_heartrate_min               88923 non-null  float64\n",
      " 55  h1_mbp_max                     87074 non-null  float64\n",
      " 56  h1_mbp_min                     87074 non-null  float64\n",
      " 57  h1_mbp_noninvasive_max         82629 non-null  float64\n",
      " 58  h1_mbp_noninvasive_min         82629 non-null  float64\n",
      " 59  h1_resprate_max                87356 non-null  float64\n",
      " 60  h1_resprate_min                87356 non-null  float64\n",
      " 61  h1_spo2_max                    87528 non-null  float64\n",
      " 62  h1_spo2_min                    87528 non-null  float64\n",
      " 63  h1_sysbp_max                   88102 non-null  float64\n",
      " 64  h1_sysbp_min                   88102 non-null  float64\n",
      " 65  h1_sysbp_noninvasive_max       91713 non-null  float64\n",
      " 66  h1_sysbp_noninvasive_min       91713 non-null  float64\n",
      " 67  d1_glucose_max                 91713 non-null  float64\n",
      " 68  d1_glucose_min                 91713 non-null  float64\n",
      " 69  d1_potassium_max               91713 non-null  float64\n",
      " 70  d1_potassium_min               91713 non-null  float64\n",
      " 71  apache_4a_hospital_death_prob  91713 non-null  float64\n",
      " 72  apache_4a_icu_death_prob       91713 non-null  float64\n",
      " 73  aids                           91713 non-null  float64\n",
      " 74  cirrhosis                      91713 non-null  float64\n",
      " 75  diabetes_mellitus              91713 non-null  float64\n",
      " 76  hepatic_failure                91713 non-null  float64\n",
      " 77  immunosuppression              91713 non-null  float64\n",
      " 78  leukemia                       91713 non-null  float64\n",
      " 79  lymphoma                       91713 non-null  float64\n",
      " 80  solid_tumor_with_metastasis    91713 non-null  float64\n",
      " 81  apache_3j_bodysystem           90051 non-null  object \n",
      " 82  apache_2_bodysystem            90051 non-null  object \n",
      " 83  Unnamed: 83                    0 non-null      float64\n",
      " 84  hospital_death                 91713 non-null  int64  \n",
      "dtypes: float64(71), int64(10), object(4)\n",
      "memory usage: 59.5+ MB\n"
     ]
    }
   ],
   "source": [
    "df.info()"
   ]
  },
  {
   "cell_type": "code",
   "execution_count": 91,
   "id": "8a525985",
   "metadata": {},
   "outputs": [],
   "source": [
    "df['h1_diasbp_noninvasive_max']=df['h1_diasbp_noninvasive_max'].fillna(df['h1_diasbp_noninvasive_max'].median())"
   ]
  },
  {
   "cell_type": "code",
   "execution_count": 92,
   "id": "9ae16840",
   "metadata": {},
   "outputs": [],
   "source": [
    "df['h1_diasbp_noninvasive_min']=df['h1_diasbp_noninvasive_min'].fillna(df['h1_diasbp_noninvasive_min'].median())"
   ]
  },
  {
   "cell_type": "code",
   "execution_count": 93,
   "id": "c0ce3d98",
   "metadata": {},
   "outputs": [],
   "source": [
    "df['h1_heartrate_max']=df['h1_heartrate_max'].fillna(df['h1_heartrate_max'].median())"
   ]
  },
  {
   "cell_type": "code",
   "execution_count": 94,
   "id": "8da832fd",
   "metadata": {},
   "outputs": [],
   "source": [
    "df['h1_heartrate_min']=df['h1_heartrate_min'].fillna(df['h1_heartrate_min'].median())"
   ]
  },
  {
   "cell_type": "code",
   "execution_count": 95,
   "id": "4d96bb25",
   "metadata": {},
   "outputs": [],
   "source": [
    "df['h1_mbp_max']=df['h1_mbp_max'].fillna(df['h1_mbp_max'].median())"
   ]
  },
  {
   "cell_type": "code",
   "execution_count": 96,
   "id": "874c99c6",
   "metadata": {},
   "outputs": [],
   "source": [
    "df['h1_mbp_min']=df['h1_mbp_min'].fillna(df['h1_mbp_min'].median())"
   ]
  },
  {
   "cell_type": "code",
   "execution_count": 97,
   "id": "f5409b90",
   "metadata": {},
   "outputs": [],
   "source": [
    "df['h1_mbp_noninvasive_max']=df['h1_mbp_noninvasive_max'].fillna(df['h1_mbp_noninvasive_max'].median())"
   ]
  },
  {
   "cell_type": "code",
   "execution_count": 98,
   "id": "230731f4",
   "metadata": {},
   "outputs": [],
   "source": [
    "df['h1_mbp_noninvasive_min']=df['h1_mbp_noninvasive_min'].fillna(df['h1_mbp_noninvasive_min'].median())"
   ]
  },
  {
   "cell_type": "code",
   "execution_count": 99,
   "id": "a4336d03",
   "metadata": {},
   "outputs": [],
   "source": [
    "df['h1_resprate_max']=df['h1_resprate_max'].fillna(df['h1_resprate_max'].median())"
   ]
  },
  {
   "cell_type": "code",
   "execution_count": 100,
   "id": "512cab01",
   "metadata": {},
   "outputs": [],
   "source": [
    "df['h1_resprate_min']=df['h1_resprate_min'].fillna(df['h1_resprate_min'].median())"
   ]
  },
  {
   "cell_type": "code",
   "execution_count": 101,
   "id": "09b8f783",
   "metadata": {},
   "outputs": [],
   "source": [
    "df['h1_spo2_max']=df['h1_spo2_max'].fillna(df['h1_spo2_max'].median())"
   ]
  },
  {
   "cell_type": "code",
   "execution_count": 102,
   "id": "dbed3a19",
   "metadata": {},
   "outputs": [],
   "source": [
    "df['h1_spo2_min']=df['h1_spo2_min'].fillna(df['h1_spo2_min'].median())"
   ]
  },
  {
   "cell_type": "code",
   "execution_count": 103,
   "id": "af196a27",
   "metadata": {},
   "outputs": [],
   "source": [
    "df['h1_sysbp_max']=df['h1_sysbp_max'].fillna(df['h1_sysbp_max'].median())"
   ]
  },
  {
   "cell_type": "code",
   "execution_count": 104,
   "id": "acee613c",
   "metadata": {},
   "outputs": [],
   "source": [
    "df['h1_sysbp_min']=df['h1_sysbp_min'].fillna(df['h1_sysbp_min'].median())"
   ]
  },
  {
   "cell_type": "code",
   "execution_count": 105,
   "id": "5a5f434a",
   "metadata": {},
   "outputs": [
    {
     "name": "stdout",
     "output_type": "stream",
     "text": [
      "<class 'pandas.core.frame.DataFrame'>\n",
      "RangeIndex: 91713 entries, 0 to 91712\n",
      "Data columns (total 85 columns):\n",
      " #   Column                         Non-Null Count  Dtype  \n",
      "---  ------                         --------------  -----  \n",
      " 0   encounter_id                   91713 non-null  int64  \n",
      " 1   patient_id                     91713 non-null  int64  \n",
      " 2   hospital_id                    91713 non-null  int64  \n",
      " 3   age                            91713 non-null  float64\n",
      " 4   bmi                            91713 non-null  float64\n",
      " 5   elective_surgery               91713 non-null  int64  \n",
      " 6   ethnicity                      91713 non-null  int64  \n",
      " 7   gender                         91713 non-null  int64  \n",
      " 8   height                         91713 non-null  float64\n",
      " 9   icu_admit_source               91713 non-null  int64  \n",
      " 10  icu_id                         91713 non-null  int64  \n",
      " 11  icu_stay_type                  91713 non-null  object \n",
      " 12  icu_type                       91713 non-null  object \n",
      " 13  pre_icu_los_days               91713 non-null  float64\n",
      " 14  weight                         91713 non-null  float64\n",
      " 15  apache_2_diagnosis             91713 non-null  float64\n",
      " 16  apache_3j_diagnosis            91713 non-null  float64\n",
      " 17  apache_post_operative          91713 non-null  int64  \n",
      " 18  arf_apache                     91713 non-null  float64\n",
      " 19  gcs_eyes_apache                91713 non-null  float64\n",
      " 20  gcs_motor_apache               91713 non-null  float64\n",
      " 21  gcs_unable_apache              91713 non-null  float64\n",
      " 22  gcs_verbal_apache              91713 non-null  float64\n",
      " 23  heart_rate_apache              91713 non-null  float64\n",
      " 24  intubated_apache               91713 non-null  float64\n",
      " 25  map_apache                     91713 non-null  float64\n",
      " 26  resprate_apache                91713 non-null  float64\n",
      " 27  temp_apache                    91713 non-null  float64\n",
      " 28  ventilated_apache              91713 non-null  float64\n",
      " 29  d1_diasbp_max                  91713 non-null  float64\n",
      " 30  d1_diasbp_min                  91713 non-null  float64\n",
      " 31  d1_diasbp_noninvasive_max      91713 non-null  float64\n",
      " 32  d1_diasbp_noninvasive_min      91713 non-null  float64\n",
      " 33  d1_heartrate_max               91713 non-null  float64\n",
      " 34  d1_heartrate_min               91713 non-null  float64\n",
      " 35  d1_mbp_max                     91713 non-null  float64\n",
      " 36  d1_mbp_min                     91713 non-null  float64\n",
      " 37  d1_mbp_noninvasive_max         91713 non-null  float64\n",
      " 38  d1_mbp_noninvasive_min         91713 non-null  float64\n",
      " 39  d1_resprate_max                91713 non-null  float64\n",
      " 40  d1_resprate_min                91713 non-null  float64\n",
      " 41  d1_spo2_max                    91713 non-null  float64\n",
      " 42  d1_spo2_min                    91713 non-null  float64\n",
      " 43  d1_sysbp_max                   91713 non-null  float64\n",
      " 44  d1_sysbp_min                   91713 non-null  float64\n",
      " 45  d1_sysbp_noninvasive_max       90686 non-null  float64\n",
      " 46  d1_sysbp_noninvasive_min       90686 non-null  float64\n",
      " 47  d1_temp_max                    91713 non-null  float64\n",
      " 48  d1_temp_min                    91713 non-null  float64\n",
      " 49  h1_diasbp_max                  91713 non-null  float64\n",
      " 50  h1_diasbp_min                  91713 non-null  float64\n",
      " 51  h1_diasbp_noninvasive_max      91713 non-null  float64\n",
      " 52  h1_diasbp_noninvasive_min      91713 non-null  float64\n",
      " 53  h1_heartrate_max               91713 non-null  float64\n",
      " 54  h1_heartrate_min               91713 non-null  float64\n",
      " 55  h1_mbp_max                     91713 non-null  float64\n",
      " 56  h1_mbp_min                     91713 non-null  float64\n",
      " 57  h1_mbp_noninvasive_max         91713 non-null  float64\n",
      " 58  h1_mbp_noninvasive_min         91713 non-null  float64\n",
      " 59  h1_resprate_max                91713 non-null  float64\n",
      " 60  h1_resprate_min                91713 non-null  float64\n",
      " 61  h1_spo2_max                    91713 non-null  float64\n",
      " 62  h1_spo2_min                    91713 non-null  float64\n",
      " 63  h1_sysbp_max                   91713 non-null  float64\n",
      " 64  h1_sysbp_min                   91713 non-null  float64\n",
      " 65  h1_sysbp_noninvasive_max       91713 non-null  float64\n",
      " 66  h1_sysbp_noninvasive_min       91713 non-null  float64\n",
      " 67  d1_glucose_max                 91713 non-null  float64\n",
      " 68  d1_glucose_min                 91713 non-null  float64\n",
      " 69  d1_potassium_max               91713 non-null  float64\n",
      " 70  d1_potassium_min               91713 non-null  float64\n",
      " 71  apache_4a_hospital_death_prob  91713 non-null  float64\n",
      " 72  apache_4a_icu_death_prob       91713 non-null  float64\n",
      " 73  aids                           91713 non-null  float64\n",
      " 74  cirrhosis                      91713 non-null  float64\n",
      " 75  diabetes_mellitus              91713 non-null  float64\n",
      " 76  hepatic_failure                91713 non-null  float64\n",
      " 77  immunosuppression              91713 non-null  float64\n",
      " 78  leukemia                       91713 non-null  float64\n",
      " 79  lymphoma                       91713 non-null  float64\n",
      " 80  solid_tumor_with_metastasis    91713 non-null  float64\n",
      " 81  apache_3j_bodysystem           90051 non-null  object \n",
      " 82  apache_2_bodysystem            90051 non-null  object \n",
      " 83  Unnamed: 83                    0 non-null      float64\n",
      " 84  hospital_death                 91713 non-null  int64  \n",
      "dtypes: float64(71), int64(10), object(4)\n",
      "memory usage: 59.5+ MB\n"
     ]
    }
   ],
   "source": [
    "df.info()"
   ]
  },
  {
   "cell_type": "code",
   "execution_count": 106,
   "id": "86b9ee33",
   "metadata": {},
   "outputs": [],
   "source": [
    "df[\"d1_sysbp_noninvasive_max\"]=df[\"d1_sysbp_noninvasive_max\"].fillna(df[\"d1_sysbp_noninvasive_max\"].median())"
   ]
  },
  {
   "cell_type": "code",
   "execution_count": 107,
   "id": "05921c43",
   "metadata": {},
   "outputs": [],
   "source": [
    "df[\"d1_sysbp_noninvasive_min\"]=df[\"d1_sysbp_noninvasive_min\"].fillna(df[\"d1_sysbp_noninvasive_min\"].median())"
   ]
  },
  {
   "cell_type": "code",
   "execution_count": 108,
   "id": "17019bf0",
   "metadata": {},
   "outputs": [
    {
     "name": "stdout",
     "output_type": "stream",
     "text": [
      "<class 'pandas.core.frame.DataFrame'>\n",
      "RangeIndex: 91713 entries, 0 to 91712\n",
      "Data columns (total 85 columns):\n",
      " #   Column                         Non-Null Count  Dtype  \n",
      "---  ------                         --------------  -----  \n",
      " 0   encounter_id                   91713 non-null  int64  \n",
      " 1   patient_id                     91713 non-null  int64  \n",
      " 2   hospital_id                    91713 non-null  int64  \n",
      " 3   age                            91713 non-null  float64\n",
      " 4   bmi                            91713 non-null  float64\n",
      " 5   elective_surgery               91713 non-null  int64  \n",
      " 6   ethnicity                      91713 non-null  int64  \n",
      " 7   gender                         91713 non-null  int64  \n",
      " 8   height                         91713 non-null  float64\n",
      " 9   icu_admit_source               91713 non-null  int64  \n",
      " 10  icu_id                         91713 non-null  int64  \n",
      " 11  icu_stay_type                  91713 non-null  object \n",
      " 12  icu_type                       91713 non-null  object \n",
      " 13  pre_icu_los_days               91713 non-null  float64\n",
      " 14  weight                         91713 non-null  float64\n",
      " 15  apache_2_diagnosis             91713 non-null  float64\n",
      " 16  apache_3j_diagnosis            91713 non-null  float64\n",
      " 17  apache_post_operative          91713 non-null  int64  \n",
      " 18  arf_apache                     91713 non-null  float64\n",
      " 19  gcs_eyes_apache                91713 non-null  float64\n",
      " 20  gcs_motor_apache               91713 non-null  float64\n",
      " 21  gcs_unable_apache              91713 non-null  float64\n",
      " 22  gcs_verbal_apache              91713 non-null  float64\n",
      " 23  heart_rate_apache              91713 non-null  float64\n",
      " 24  intubated_apache               91713 non-null  float64\n",
      " 25  map_apache                     91713 non-null  float64\n",
      " 26  resprate_apache                91713 non-null  float64\n",
      " 27  temp_apache                    91713 non-null  float64\n",
      " 28  ventilated_apache              91713 non-null  float64\n",
      " 29  d1_diasbp_max                  91713 non-null  float64\n",
      " 30  d1_diasbp_min                  91713 non-null  float64\n",
      " 31  d1_diasbp_noninvasive_max      91713 non-null  float64\n",
      " 32  d1_diasbp_noninvasive_min      91713 non-null  float64\n",
      " 33  d1_heartrate_max               91713 non-null  float64\n",
      " 34  d1_heartrate_min               91713 non-null  float64\n",
      " 35  d1_mbp_max                     91713 non-null  float64\n",
      " 36  d1_mbp_min                     91713 non-null  float64\n",
      " 37  d1_mbp_noninvasive_max         91713 non-null  float64\n",
      " 38  d1_mbp_noninvasive_min         91713 non-null  float64\n",
      " 39  d1_resprate_max                91713 non-null  float64\n",
      " 40  d1_resprate_min                91713 non-null  float64\n",
      " 41  d1_spo2_max                    91713 non-null  float64\n",
      " 42  d1_spo2_min                    91713 non-null  float64\n",
      " 43  d1_sysbp_max                   91713 non-null  float64\n",
      " 44  d1_sysbp_min                   91713 non-null  float64\n",
      " 45  d1_sysbp_noninvasive_max       91713 non-null  float64\n",
      " 46  d1_sysbp_noninvasive_min       91713 non-null  float64\n",
      " 47  d1_temp_max                    91713 non-null  float64\n",
      " 48  d1_temp_min                    91713 non-null  float64\n",
      " 49  h1_diasbp_max                  91713 non-null  float64\n",
      " 50  h1_diasbp_min                  91713 non-null  float64\n",
      " 51  h1_diasbp_noninvasive_max      91713 non-null  float64\n",
      " 52  h1_diasbp_noninvasive_min      91713 non-null  float64\n",
      " 53  h1_heartrate_max               91713 non-null  float64\n",
      " 54  h1_heartrate_min               91713 non-null  float64\n",
      " 55  h1_mbp_max                     91713 non-null  float64\n",
      " 56  h1_mbp_min                     91713 non-null  float64\n",
      " 57  h1_mbp_noninvasive_max         91713 non-null  float64\n",
      " 58  h1_mbp_noninvasive_min         91713 non-null  float64\n",
      " 59  h1_resprate_max                91713 non-null  float64\n",
      " 60  h1_resprate_min                91713 non-null  float64\n",
      " 61  h1_spo2_max                    91713 non-null  float64\n",
      " 62  h1_spo2_min                    91713 non-null  float64\n",
      " 63  h1_sysbp_max                   91713 non-null  float64\n",
      " 64  h1_sysbp_min                   91713 non-null  float64\n",
      " 65  h1_sysbp_noninvasive_max       91713 non-null  float64\n",
      " 66  h1_sysbp_noninvasive_min       91713 non-null  float64\n",
      " 67  d1_glucose_max                 91713 non-null  float64\n",
      " 68  d1_glucose_min                 91713 non-null  float64\n",
      " 69  d1_potassium_max               91713 non-null  float64\n",
      " 70  d1_potassium_min               91713 non-null  float64\n",
      " 71  apache_4a_hospital_death_prob  91713 non-null  float64\n",
      " 72  apache_4a_icu_death_prob       91713 non-null  float64\n",
      " 73  aids                           91713 non-null  float64\n",
      " 74  cirrhosis                      91713 non-null  float64\n",
      " 75  diabetes_mellitus              91713 non-null  float64\n",
      " 76  hepatic_failure                91713 non-null  float64\n",
      " 77  immunosuppression              91713 non-null  float64\n",
      " 78  leukemia                       91713 non-null  float64\n",
      " 79  lymphoma                       91713 non-null  float64\n",
      " 80  solid_tumor_with_metastasis    91713 non-null  float64\n",
      " 81  apache_3j_bodysystem           90051 non-null  object \n",
      " 82  apache_2_bodysystem            90051 non-null  object \n",
      " 83  Unnamed: 83                    0 non-null      float64\n",
      " 84  hospital_death                 91713 non-null  int64  \n",
      "dtypes: float64(71), int64(10), object(4)\n",
      "memory usage: 59.5+ MB\n"
     ]
    }
   ],
   "source": [
    "df.info()"
   ]
  },
  {
   "cell_type": "code",
   "execution_count": 109,
   "id": "58935219",
   "metadata": {},
   "outputs": [
    {
     "data": {
      "text/plain": [
       "'Cardiovascular'"
      ]
     },
     "execution_count": 109,
     "metadata": {},
     "output_type": "execute_result"
    }
   ],
   "source": [
    "df['apache_3j_bodysystem'].mode()[0]"
   ]
  },
  {
   "cell_type": "code",
   "execution_count": 110,
   "id": "0d42f95a",
   "metadata": {},
   "outputs": [],
   "source": [
    "df['apache_3j_bodysystem']=df['apache_3j_bodysystem'].fillna(df['apache_3j_bodysystem'].mode()[0])"
   ]
  },
  {
   "cell_type": "code",
   "execution_count": 111,
   "id": "52671fad",
   "metadata": {},
   "outputs": [
    {
     "data": {
      "text/plain": [
       "{'Cardiovascular': 31661,\n",
       " 'Neurological': 11896,\n",
       " 'Sepsis': 11740,\n",
       " 'Respiratory': 11609,\n",
       " 'Gastrointestinal': 9026,\n",
       " 'Metabolic': 7650,\n",
       " 'Trauma': 3842,\n",
       " 'Genitourinary': 2172,\n",
       " 'Musculoskeletal/Skin': 1166,\n",
       " 'Hematological': 638,\n",
       " 'Gynecological': 313}"
      ]
     },
     "execution_count": 111,
     "metadata": {},
     "output_type": "execute_result"
    }
   ],
   "source": [
    "df['apache_3j_bodysystem'].value_counts().to_dict()"
   ]
  },
  {
   "cell_type": "code",
   "execution_count": 112,
   "id": "dcbb9a81",
   "metadata": {},
   "outputs": [],
   "source": [
    "df['apache_3j_bodysystem'].replace({'Cardiovascular': 1,\n",
    " 'Neurological': 2,\n",
    " 'Sepsis': 3,\n",
    " 'Respiratory': 4,\n",
    " 'Gastrointestinal': 5,\n",
    " 'Metabolic': 6,\n",
    " 'Trauma': 7,\n",
    " 'Genitourinary': 8,\n",
    " 'Musculoskeletal/Skin': 9,\n",
    " 'Hematological': 10,\n",
    " 'Gynecological': 11},inplace=True)"
   ]
  },
  {
   "cell_type": "code",
   "execution_count": 113,
   "id": "a578a2ae",
   "metadata": {},
   "outputs": [
    {
     "data": {
      "text/plain": [
       "'Cardiovascular'"
      ]
     },
     "execution_count": 113,
     "metadata": {},
     "output_type": "execute_result"
    }
   ],
   "source": [
    "df['apache_2_bodysystem'].mode()[0]"
   ]
  },
  {
   "cell_type": "code",
   "execution_count": 114,
   "id": "272b0636",
   "metadata": {},
   "outputs": [],
   "source": [
    "df['apache_2_bodysystem']=df['apache_2_bodysystem'].fillna(df['apache_2_bodysystem'].mode()[0])"
   ]
  },
  {
   "cell_type": "code",
   "execution_count": 115,
   "id": "03f6df33",
   "metadata": {},
   "outputs": [
    {
     "data": {
      "text/plain": [
       "{'Cardiovascular': 40478,\n",
       " 'Neurologic': 11896,\n",
       " 'Respiratory': 11609,\n",
       " 'Gastrointestinal': 9026,\n",
       " 'Metabolic': 7650,\n",
       " 'Trauma': 3842,\n",
       " 'Undefined diagnoses': 3768,\n",
       " 'Renal/Genitourinary': 2460,\n",
       " 'Haematologic': 638,\n",
       " 'Undefined Diagnoses': 346}"
      ]
     },
     "execution_count": 115,
     "metadata": {},
     "output_type": "execute_result"
    }
   ],
   "source": [
    "df['apache_2_bodysystem'].value_counts().to_dict()"
   ]
  },
  {
   "cell_type": "code",
   "execution_count": 116,
   "id": "d278e83b",
   "metadata": {},
   "outputs": [],
   "source": [
    "df['apache_2_bodysystem'].replace({'Cardiovascular': 1,\n",
    " 'Neurologic': 2,\n",
    " 'Respiratory': 3,\n",
    " 'Gastrointestinal': 4,\n",
    " 'Metabolic': 5,\n",
    " 'Trauma': 6,\n",
    " 'Undefined diagnoses': 7,\n",
    " 'Renal/Genitourinary': 8,\n",
    " 'Haematologic': 9,\n",
    " 'Undefined Diagnoses': 10},inplace=True)"
   ]
  },
  {
   "cell_type": "code",
   "execution_count": 117,
   "id": "10e416da",
   "metadata": {},
   "outputs": [],
   "source": [
    "df.drop('Unnamed: 83',axis=1,inplace=True)"
   ]
  },
  {
   "cell_type": "code",
   "execution_count": 118,
   "id": "dd584265",
   "metadata": {},
   "outputs": [
    {
     "name": "stdout",
     "output_type": "stream",
     "text": [
      "<class 'pandas.core.frame.DataFrame'>\n",
      "RangeIndex: 91713 entries, 0 to 91712\n",
      "Data columns (total 84 columns):\n",
      " #   Column                         Non-Null Count  Dtype  \n",
      "---  ------                         --------------  -----  \n",
      " 0   encounter_id                   91713 non-null  int64  \n",
      " 1   patient_id                     91713 non-null  int64  \n",
      " 2   hospital_id                    91713 non-null  int64  \n",
      " 3   age                            91713 non-null  float64\n",
      " 4   bmi                            91713 non-null  float64\n",
      " 5   elective_surgery               91713 non-null  int64  \n",
      " 6   ethnicity                      91713 non-null  int64  \n",
      " 7   gender                         91713 non-null  int64  \n",
      " 8   height                         91713 non-null  float64\n",
      " 9   icu_admit_source               91713 non-null  int64  \n",
      " 10  icu_id                         91713 non-null  int64  \n",
      " 11  icu_stay_type                  91713 non-null  object \n",
      " 12  icu_type                       91713 non-null  object \n",
      " 13  pre_icu_los_days               91713 non-null  float64\n",
      " 14  weight                         91713 non-null  float64\n",
      " 15  apache_2_diagnosis             91713 non-null  float64\n",
      " 16  apache_3j_diagnosis            91713 non-null  float64\n",
      " 17  apache_post_operative          91713 non-null  int64  \n",
      " 18  arf_apache                     91713 non-null  float64\n",
      " 19  gcs_eyes_apache                91713 non-null  float64\n",
      " 20  gcs_motor_apache               91713 non-null  float64\n",
      " 21  gcs_unable_apache              91713 non-null  float64\n",
      " 22  gcs_verbal_apache              91713 non-null  float64\n",
      " 23  heart_rate_apache              91713 non-null  float64\n",
      " 24  intubated_apache               91713 non-null  float64\n",
      " 25  map_apache                     91713 non-null  float64\n",
      " 26  resprate_apache                91713 non-null  float64\n",
      " 27  temp_apache                    91713 non-null  float64\n",
      " 28  ventilated_apache              91713 non-null  float64\n",
      " 29  d1_diasbp_max                  91713 non-null  float64\n",
      " 30  d1_diasbp_min                  91713 non-null  float64\n",
      " 31  d1_diasbp_noninvasive_max      91713 non-null  float64\n",
      " 32  d1_diasbp_noninvasive_min      91713 non-null  float64\n",
      " 33  d1_heartrate_max               91713 non-null  float64\n",
      " 34  d1_heartrate_min               91713 non-null  float64\n",
      " 35  d1_mbp_max                     91713 non-null  float64\n",
      " 36  d1_mbp_min                     91713 non-null  float64\n",
      " 37  d1_mbp_noninvasive_max         91713 non-null  float64\n",
      " 38  d1_mbp_noninvasive_min         91713 non-null  float64\n",
      " 39  d1_resprate_max                91713 non-null  float64\n",
      " 40  d1_resprate_min                91713 non-null  float64\n",
      " 41  d1_spo2_max                    91713 non-null  float64\n",
      " 42  d1_spo2_min                    91713 non-null  float64\n",
      " 43  d1_sysbp_max                   91713 non-null  float64\n",
      " 44  d1_sysbp_min                   91713 non-null  float64\n",
      " 45  d1_sysbp_noninvasive_max       91713 non-null  float64\n",
      " 46  d1_sysbp_noninvasive_min       91713 non-null  float64\n",
      " 47  d1_temp_max                    91713 non-null  float64\n",
      " 48  d1_temp_min                    91713 non-null  float64\n",
      " 49  h1_diasbp_max                  91713 non-null  float64\n",
      " 50  h1_diasbp_min                  91713 non-null  float64\n",
      " 51  h1_diasbp_noninvasive_max      91713 non-null  float64\n",
      " 52  h1_diasbp_noninvasive_min      91713 non-null  float64\n",
      " 53  h1_heartrate_max               91713 non-null  float64\n",
      " 54  h1_heartrate_min               91713 non-null  float64\n",
      " 55  h1_mbp_max                     91713 non-null  float64\n",
      " 56  h1_mbp_min                     91713 non-null  float64\n",
      " 57  h1_mbp_noninvasive_max         91713 non-null  float64\n",
      " 58  h1_mbp_noninvasive_min         91713 non-null  float64\n",
      " 59  h1_resprate_max                91713 non-null  float64\n",
      " 60  h1_resprate_min                91713 non-null  float64\n",
      " 61  h1_spo2_max                    91713 non-null  float64\n",
      " 62  h1_spo2_min                    91713 non-null  float64\n",
      " 63  h1_sysbp_max                   91713 non-null  float64\n",
      " 64  h1_sysbp_min                   91713 non-null  float64\n",
      " 65  h1_sysbp_noninvasive_max       91713 non-null  float64\n",
      " 66  h1_sysbp_noninvasive_min       91713 non-null  float64\n",
      " 67  d1_glucose_max                 91713 non-null  float64\n",
      " 68  d1_glucose_min                 91713 non-null  float64\n",
      " 69  d1_potassium_max               91713 non-null  float64\n",
      " 70  d1_potassium_min               91713 non-null  float64\n",
      " 71  apache_4a_hospital_death_prob  91713 non-null  float64\n",
      " 72  apache_4a_icu_death_prob       91713 non-null  float64\n",
      " 73  aids                           91713 non-null  float64\n",
      " 74  cirrhosis                      91713 non-null  float64\n",
      " 75  diabetes_mellitus              91713 non-null  float64\n",
      " 76  hepatic_failure                91713 non-null  float64\n",
      " 77  immunosuppression              91713 non-null  float64\n",
      " 78  leukemia                       91713 non-null  float64\n",
      " 79  lymphoma                       91713 non-null  float64\n",
      " 80  solid_tumor_with_metastasis    91713 non-null  float64\n",
      " 81  apache_3j_bodysystem           91713 non-null  int64  \n",
      " 82  apache_2_bodysystem            91713 non-null  int64  \n",
      " 83  hospital_death                 91713 non-null  int64  \n",
      "dtypes: float64(70), int64(12), object(2)\n",
      "memory usage: 58.8+ MB\n"
     ]
    }
   ],
   "source": [
    "df.info()"
   ]
  },
  {
   "cell_type": "code",
   "execution_count": 119,
   "id": "9a12752c",
   "metadata": {},
   "outputs": [
    {
     "data": {
      "text/plain": [
       "<AxesSubplot:>"
      ]
     },
     "execution_count": 119,
     "metadata": {},
     "output_type": "execute_result"
    },
    {
     "data": {
      "image/png": "[encoded data removed]",
      "text/plain": [
       "<Figure size 640x480 with 1 Axes>"
      ]
     },
     "metadata": {},
     "output_type": "display_data"
    }
   ],
   "source": [
    "df[['age']].boxplot()"
   ]
  },
  {
   "cell_type": "code",
   "execution_count": 120,
   "id": "4aa63bdd",
   "metadata": {},
   "outputs": [
    {
     "name": "stdout",
     "output_type": "stream",
     "text": [
      "<class 'pandas.core.frame.DataFrame'>\n",
      "RangeIndex: 91713 entries, 0 to 91712\n",
      "Data columns (total 84 columns):\n",
      " #   Column                         Non-Null Count  Dtype  \n",
      "---  ------                         --------------  -----  \n",
      " 0   encounter_id                   91713 non-null  int64  \n",
      " 1   patient_id                     91713 non-null  int64  \n",
      " 2   hospital_id                    91713 non-null  int64  \n",
      " 3   age                            91713 non-null  float64\n",
      " 4   bmi                            91713 non-null  float64\n",
      " 5   elective_surgery               91713 non-null  int64  \n",
      " 6   ethnicity                      91713 non-null  int64  \n",
      " 7   gender                         91713 non-null  int64  \n",
      " 8   height                         91713 non-null  float64\n",
      " 9   icu_admit_source               91713 non-null  int64  \n",
      " 10  icu_id                         91713 non-null  int64  \n",
      " 11  icu_stay_type                  91713 non-null  object \n",
      " 12  icu_type                       91713 non-null  object \n",
      " 13  pre_icu_los_days               91713 non-null  float64\n",
      " 14  weight                         91713 non-null  float64\n",
      " 15  apache_2_diagnosis             91713 non-null  float64\n",
      " 16  apache_3j_diagnosis            91713 non-null  float64\n",
      " 17  apache_post_operative          91713 non-null  int64  \n",
      " 18  arf_apache                     91713 non-null  float64\n",
      " 19  gcs_eyes_apache                91713 non-null  float64\n",
      " 20  gcs_motor_apache               91713 non-null  float64\n",
      " 21  gcs_unable_apache              91713 non-null  float64\n",
      " 22  gcs_verbal_apache              91713 non-null  float64\n",
      " 23  heart_rate_apache              91713 non-null  float64\n",
      " 24  intubated_apache               91713 non-null  float64\n",
      " 25  map_apache                     91713 non-null  float64\n",
      " 26  resprate_apache                91713 non-null  float64\n",
      " 27  temp_apache                    91713 non-null  float64\n",
      " 28  ventilated_apache              91713 non-null  float64\n",
      " 29  d1_diasbp_max                  91713 non-null  float64\n",
      " 30  d1_diasbp_min                  91713 non-null  float64\n",
      " 31  d1_diasbp_noninvasive_max      91713 non-null  float64\n",
      " 32  d1_diasbp_noninvasive_min      91713 non-null  float64\n",
      " 33  d1_heartrate_max               91713 non-null  float64\n",
      " 34  d1_heartrate_min               91713 non-null  float64\n",
      " 35  d1_mbp_max                     91713 non-null  float64\n",
      " 36  d1_mbp_min                     91713 non-null  float64\n",
      " 37  d1_mbp_noninvasive_max         91713 non-null  float64\n",
      " 38  d1_mbp_noninvasive_min         91713 non-null  float64\n",
      " 39  d1_resprate_max                91713 non-null  float64\n",
      " 40  d1_resprate_min                91713 non-null  float64\n",
      " 41  d1_spo2_max                    91713 non-null  float64\n",
      " 42  d1_spo2_min                    91713 non-null  float64\n",
      " 43  d1_sysbp_max                   91713 non-null  float64\n",
      " 44  d1_sysbp_min                   91713 non-null  float64\n",
      " 45  d1_sysbp_noninvasive_max       91713 non-null  float64\n",
      " 46  d1_sysbp_noninvasive_min       91713 non-null  float64\n",
      " 47  d1_temp_max                    91713 non-null  float64\n",
      " 48  d1_temp_min                    91713 non-null  float64\n",
      " 49  h1_diasbp_max                  91713 non-null  float64\n",
      " 50  h1_diasbp_min                  91713 non-null  float64\n",
      " 51  h1_diasbp_noninvasive_max      91713 non-null  float64\n",
      " 52  h1_diasbp_noninvasive_min      91713 non-null  float64\n",
      " 53  h1_heartrate_max               91713 non-null  float64\n",
      " 54  h1_heartrate_min               91713 non-null  float64\n",
      " 55  h1_mbp_max                     91713 non-null  float64\n",
      " 56  h1_mbp_min                     91713 non-null  float64\n",
      " 57  h1_mbp_noninvasive_max         91713 non-null  float64\n",
      " 58  h1_mbp_noninvasive_min         91713 non-null  float64\n",
      " 59  h1_resprate_max                91713 non-null  float64\n",
      " 60  h1_resprate_min                91713 non-null  float64\n",
      " 61  h1_spo2_max                    91713 non-null  float64\n",
      " 62  h1_spo2_min                    91713 non-null  float64\n",
      " 63  h1_sysbp_max                   91713 non-null  float64\n",
      " 64  h1_sysbp_min                   91713 non-null  float64\n",
      " 65  h1_sysbp_noninvasive_max       91713 non-null  float64\n",
      " 66  h1_sysbp_noninvasive_min       91713 non-null  float64\n",
      " 67  d1_glucose_max                 91713 non-null  float64\n",
      " 68  d1_glucose_min                 91713 non-null  float64\n",
      " 69  d1_potassium_max               91713 non-null  float64\n",
      " 70  d1_potassium_min               91713 non-null  float64\n",
      " 71  apache_4a_hospital_death_prob  91713 non-null  float64\n",
      " 72  apache_4a_icu_death_prob       91713 non-null  float64\n",
      " 73  aids                           91713 non-null  float64\n",
      " 74  cirrhosis                      91713 non-null  float64\n",
      " 75  diabetes_mellitus              91713 non-null  float64\n",
      " 76  hepatic_failure                91713 non-null  float64\n",
      " 77  immunosuppression              91713 non-null  float64\n",
      " 78  leukemia                       91713 non-null  float64\n",
      " 79  lymphoma                       91713 non-null  float64\n",
      " 80  solid_tumor_with_metastasis    91713 non-null  float64\n",
      " 81  apache_3j_bodysystem           91713 non-null  int64  \n",
      " 82  apache_2_bodysystem            91713 non-null  int64  \n",
      " 83  hospital_death                 91713 non-null  int64  \n",
      "dtypes: float64(70), int64(12), object(2)\n",
      "memory usage: 58.8+ MB\n"
     ]
    }
   ],
   "source": [
    "df.info()"
   ]
  },
  {
   "cell_type": "code",
   "execution_count": 121,
   "id": "e27b7485",
   "metadata": {},
   "outputs": [],
   "source": [
    "# def outlier(feature):\n",
    "#     q1=df[feature].quantile(0.25)\n",
    "#     q3=df[feature].quantile(0.75)\n",
    "#     IQR=q3-q1\n",
    "#     lower_tail=q1 - 1.5*IQR\n",
    "# #     print(lower_tail)\n",
    "#     upper_tail=q3 + 1.5*IQR\n",
    "# #     print(upper_tail)\n",
    "    \n",
    "#     df[feature].loc[df[feature] > upper_tail] = df[feature].median()\n",
    "#     df[feature].loc[df[feature] < lower_tail] = df[feature].median()\n",
    "    \n",
    "#     return \"outliers handled\"\n",
    "    \n",
    "    \n",
    "    \n"
   ]
  },
  {
   "cell_type": "code",
   "execution_count": 122,
   "id": "2cae04c8",
   "metadata": {},
   "outputs": [
    {
     "name": "stdout",
     "output_type": "stream",
     "text": [
      "<class 'pandas.core.frame.DataFrame'>\n",
      "RangeIndex: 91713 entries, 0 to 91712\n",
      "Data columns (total 84 columns):\n",
      " #   Column                         Non-Null Count  Dtype  \n",
      "---  ------                         --------------  -----  \n",
      " 0   encounter_id                   91713 non-null  int64  \n",
      " 1   patient_id                     91713 non-null  int64  \n",
      " 2   hospital_id                    91713 non-null  int64  \n",
      " 3   age                            91713 non-null  float64\n",
      " 4   bmi                            91713 non-null  float64\n",
      " 5   elective_surgery               91713 non-null  int64  \n",
      " 6   ethnicity                      91713 non-null  int64  \n",
      " 7   gender                         91713 non-null  int64  \n",
      " 8   height                         91713 non-null  float64\n",
      " 9   icu_admit_source               91713 non-null  int64  \n",
      " 10  icu_id                         91713 non-null  int64  \n",
      " 11  icu_stay_type                  91713 non-null  object \n",
      " 12  icu_type                       91713 non-null  object \n",
      " 13  pre_icu_los_days               91713 non-null  float64\n",
      " 14  weight                         91713 non-null  float64\n",
      " 15  apache_2_diagnosis             91713 non-null  float64\n",
      " 16  apache_3j_diagnosis            91713 non-null  float64\n",
      " 17  apache_post_operative          91713 non-null  int64  \n",
      " 18  arf_apache                     91713 non-null  float64\n",
      " 19  gcs_eyes_apache                91713 non-null  float64\n",
      " 20  gcs_motor_apache               91713 non-null  float64\n",
      " 21  gcs_unable_apache              91713 non-null  float64\n",
      " 22  gcs_verbal_apache              91713 non-null  float64\n",
      " 23  heart_rate_apache              91713 non-null  float64\n",
      " 24  intubated_apache               91713 non-null  float64\n",
      " 25  map_apache                     91713 non-null  float64\n",
      " 26  resprate_apache                91713 non-null  float64\n",
      " 27  temp_apache                    91713 non-null  float64\n",
      " 28  ventilated_apache              91713 non-null  float64\n",
      " 29  d1_diasbp_max                  91713 non-null  float64\n",
      " 30  d1_diasbp_min                  91713 non-null  float64\n",
      " 31  d1_diasbp_noninvasive_max      91713 non-null  float64\n",
      " 32  d1_diasbp_noninvasive_min      91713 non-null  float64\n",
      " 33  d1_heartrate_max               91713 non-null  float64\n",
      " 34  d1_heartrate_min               91713 non-null  float64\n",
      " 35  d1_mbp_max                     91713 non-null  float64\n",
      " 36  d1_mbp_min                     91713 non-null  float64\n",
      " 37  d1_mbp_noninvasive_max         91713 non-null  float64\n",
      " 38  d1_mbp_noninvasive_min         91713 non-null  float64\n",
      " 39  d1_resprate_max                91713 non-null  float64\n",
      " 40  d1_resprate_min                91713 non-null  float64\n",
      " 41  d1_spo2_max                    91713 non-null  float64\n",
      " 42  d1_spo2_min                    91713 non-null  float64\n",
      " 43  d1_sysbp_max                   91713 non-null  float64\n",
      " 44  d1_sysbp_min                   91713 non-null  float64\n",
      " 45  d1_sysbp_noninvasive_max       91713 non-null  float64\n",
      " 46  d1_sysbp_noninvasive_min       91713 non-null  float64\n",
      " 47  d1_temp_max                    91713 non-null  float64\n",
      " 48  d1_temp_min                    91713 non-null  float64\n",
      " 49  h1_diasbp_max                  91713 non-null  float64\n",
      " 50  h1_diasbp_min                  91713 non-null  float64\n",
      " 51  h1_diasbp_noninvasive_max      91713 non-null  float64\n",
      " 52  h1_diasbp_noninvasive_min      91713 non-null  float64\n",
      " 53  h1_heartrate_max               91713 non-null  float64\n",
      " 54  h1_heartrate_min               91713 non-null  float64\n",
      " 55  h1_mbp_max                     91713 non-null  float64\n",
      " 56  h1_mbp_min                     91713 non-null  float64\n",
      " 57  h1_mbp_noninvasive_max         91713 non-null  float64\n",
      " 58  h1_mbp_noninvasive_min         91713 non-null  float64\n",
      " 59  h1_resprate_max                91713 non-null  float64\n",
      " 60  h1_resprate_min                91713 non-null  float64\n",
      " 61  h1_spo2_max                    91713 non-null  float64\n",
      " 62  h1_spo2_min                    91713 non-null  float64\n",
      " 63  h1_sysbp_max                   91713 non-null  float64\n",
      " 64  h1_sysbp_min                   91713 non-null  float64\n",
      " 65  h1_sysbp_noninvasive_max       91713 non-null  float64\n",
      " 66  h1_sysbp_noninvasive_min       91713 non-null  float64\n",
      " 67  d1_glucose_max                 91713 non-null  float64\n",
      " 68  d1_glucose_min                 91713 non-null  float64\n",
      " 69  d1_potassium_max               91713 non-null  float64\n",
      " 70  d1_potassium_min               91713 non-null  float64\n",
      " 71  apache_4a_hospital_death_prob  91713 non-null  float64\n",
      " 72  apache_4a_icu_death_prob       91713 non-null  float64\n",
      " 73  aids                           91713 non-null  float64\n",
      " 74  cirrhosis                      91713 non-null  float64\n",
      " 75  diabetes_mellitus              91713 non-null  float64\n",
      " 76  hepatic_failure                91713 non-null  float64\n",
      " 77  immunosuppression              91713 non-null  float64\n",
      " 78  leukemia                       91713 non-null  float64\n",
      " 79  lymphoma                       91713 non-null  float64\n",
      " 80  solid_tumor_with_metastasis    91713 non-null  float64\n",
      " 81  apache_3j_bodysystem           91713 non-null  int64  \n",
      " 82  apache_2_bodysystem            91713 non-null  int64  \n",
      " 83  hospital_death                 91713 non-null  int64  \n",
      "dtypes: float64(70), int64(12), object(2)\n",
      "memory usage: 58.8+ MB\n"
     ]
    }
   ],
   "source": [
    "df.info()"
   ]
  },
  {
   "cell_type": "code",
   "execution_count": 123,
   "id": "079cd95e",
   "metadata": {},
   "outputs": [
    {
     "data": {
      "text/plain": [
       "{'admit': 86183, 'transfer': 4970, 'readmit': 560}"
      ]
     },
     "execution_count": 123,
     "metadata": {},
     "output_type": "execute_result"
    }
   ],
   "source": [
    "df['icu_stay_type'].value_counts().to_dict()"
   ]
  },
  {
   "cell_type": "code",
   "execution_count": 124,
   "id": "264de667",
   "metadata": {},
   "outputs": [],
   "source": [
    "df['icu_stay_type'].replace({'admit': 0, 'transfer': 1, 'readmit': 2},inplace=True)"
   ]
  },
  {
   "cell_type": "code",
   "execution_count": 125,
   "id": "4b920a13",
   "metadata": {},
   "outputs": [
    {
     "data": {
      "text/plain": [
       "{'Med-Surg ICU': 50586,\n",
       " 'MICU': 7695,\n",
       " 'Neuro ICU': 7675,\n",
       " 'CCU-CTICU': 7156,\n",
       " 'SICU': 5209,\n",
       " 'Cardiac ICU': 4776,\n",
       " 'CSICU': 4613,\n",
       " 'CTICU': 4003}"
      ]
     },
     "execution_count": 125,
     "metadata": {},
     "output_type": "execute_result"
    }
   ],
   "source": [
    "df['icu_type'].value_counts().to_dict()"
   ]
  },
  {
   "cell_type": "code",
   "execution_count": 126,
   "id": "2f951b72",
   "metadata": {},
   "outputs": [],
   "source": [
    "df['icu_type'].replace({'Med-Surg ICU': 0,\n",
    " 'MICU': 1,\n",
    " 'Neuro ICU': 2,\n",
    " 'CCU-CTICU': 3,\n",
    " 'SICU': 4,\n",
    " 'Cardiac ICU': 5,\n",
    " 'CSICU': 6,\n",
    " 'CTICU': 7},inplace=True)"
   ]
  },
  {
   "cell_type": "code",
   "execution_count": 127,
   "id": "ce428130",
   "metadata": {},
   "outputs": [
    {
     "name": "stdout",
     "output_type": "stream",
     "text": [
      "<class 'pandas.core.frame.DataFrame'>\n",
      "RangeIndex: 91713 entries, 0 to 91712\n",
      "Data columns (total 84 columns):\n",
      " #   Column                         Non-Null Count  Dtype  \n",
      "---  ------                         --------------  -----  \n",
      " 0   encounter_id                   91713 non-null  int64  \n",
      " 1   patient_id                     91713 non-null  int64  \n",
      " 2   hospital_id                    91713 non-null  int64  \n",
      " 3   age                            91713 non-null  float64\n",
      " 4   bmi                            91713 non-null  float64\n",
      " 5   elective_surgery               91713 non-null  int64  \n",
      " 6   ethnicity                      91713 non-null  int64  \n",
      " 7   gender                         91713 non-null  int64  \n",
      " 8   height                         91713 non-null  float64\n",
      " 9   icu_admit_source               91713 non-null  int64  \n",
      " 10  icu_id                         91713 non-null  int64  \n",
      " 11  icu_stay_type                  91713 non-null  int64  \n",
      " 12  icu_type                       91713 non-null  int64  \n",
      " 13  pre_icu_los_days               91713 non-null  float64\n",
      " 14  weight                         91713 non-null  float64\n",
      " 15  apache_2_diagnosis             91713 non-null  float64\n",
      " 16  apache_3j_diagnosis            91713 non-null  float64\n",
      " 17  apache_post_operative          91713 non-null  int64  \n",
      " 18  arf_apache                     91713 non-null  float64\n",
      " 19  gcs_eyes_apache                91713 non-null  float64\n",
      " 20  gcs_motor_apache               91713 non-null  float64\n",
      " 21  gcs_unable_apache              91713 non-null  float64\n",
      " 22  gcs_verbal_apache              91713 non-null  float64\n",
      " 23  heart_rate_apache              91713 non-null  float64\n",
      " 24  intubated_apache               91713 non-null  float64\n",
      " 25  map_apache                     91713 non-null  float64\n",
      " 26  resprate_apache                91713 non-null  float64\n",
      " 27  temp_apache                    91713 non-null  float64\n",
      " 28  ventilated_apache              91713 non-null  float64\n",
      " 29  d1_diasbp_max                  91713 non-null  float64\n",
      " 30  d1_diasbp_min                  91713 non-null  float64\n",
      " 31  d1_diasbp_noninvasive_max      91713 non-null  float64\n",
      " 32  d1_diasbp_noninvasive_min      91713 non-null  float64\n",
      " 33  d1_heartrate_max               91713 non-null  float64\n",
      " 34  d1_heartrate_min               91713 non-null  float64\n",
      " 35  d1_mbp_max                     91713 non-null  float64\n",
      " 36  d1_mbp_min                     91713 non-null  float64\n",
      " 37  d1_mbp_noninvasive_max         91713 non-null  float64\n",
      " 38  d1_mbp_noninvasive_min         91713 non-null  float64\n",
      " 39  d1_resprate_max                91713 non-null  float64\n",
      " 40  d1_resprate_min                91713 non-null  float64\n",
      " 41  d1_spo2_max                    91713 non-null  float64\n",
      " 42  d1_spo2_min                    91713 non-null  float64\n",
      " 43  d1_sysbp_max                   91713 non-null  float64\n",
      " 44  d1_sysbp_min                   91713 non-null  float64\n",
      " 45  d1_sysbp_noninvasive_max       91713 non-null  float64\n",
      " 46  d1_sysbp_noninvasive_min       91713 non-null  float64\n",
      " 47  d1_temp_max                    91713 non-null  float64\n",
      " 48  d1_temp_min                    91713 non-null  float64\n",
      " 49  h1_diasbp_max                  91713 non-null  float64\n",
      " 50  h1_diasbp_min                  91713 non-null  float64\n",
      " 51  h1_diasbp_noninvasive_max      91713 non-null  float64\n",
      " 52  h1_diasbp_noninvasive_min      91713 non-null  float64\n",
      " 53  h1_heartrate_max               91713 non-null  float64\n",
      " 54  h1_heartrate_min               91713 non-null  float64\n",
      " 55  h1_mbp_max                     91713 non-null  float64\n",
      " 56  h1_mbp_min                     91713 non-null  float64\n",
      " 57  h1_mbp_noninvasive_max         91713 non-null  float64\n",
      " 58  h1_mbp_noninvasive_min         91713 non-null  float64\n",
      " 59  h1_resprate_max                91713 non-null  float64\n",
      " 60  h1_resprate_min                91713 non-null  float64\n",
      " 61  h1_spo2_max                    91713 non-null  float64\n",
      " 62  h1_spo2_min                    91713 non-null  float64\n",
      " 63  h1_sysbp_max                   91713 non-null  float64\n",
      " 64  h1_sysbp_min                   91713 non-null  float64\n",
      " 65  h1_sysbp_noninvasive_max       91713 non-null  float64\n",
      " 66  h1_sysbp_noninvasive_min       91713 non-null  float64\n",
      " 67  d1_glucose_max                 91713 non-null  float64\n",
      " 68  d1_glucose_min                 91713 non-null  float64\n",
      " 69  d1_potassium_max               91713 non-null  float64\n",
      " 70  d1_potassium_min               91713 non-null  float64\n",
      " 71  apache_4a_hospital_death_prob  91713 non-null  float64\n",
      " 72  apache_4a_icu_death_prob       91713 non-null  float64\n",
      " 73  aids                           91713 non-null  float64\n",
      " 74  cirrhosis                      91713 non-null  float64\n",
      " 75  diabetes_mellitus              91713 non-null  float64\n",
      " 76  hepatic_failure                91713 non-null  float64\n",
      " 77  immunosuppression              91713 non-null  float64\n",
      " 78  leukemia                       91713 non-null  float64\n",
      " 79  lymphoma                       91713 non-null  float64\n",
      " 80  solid_tumor_with_metastasis    91713 non-null  float64\n",
      " 81  apache_3j_bodysystem           91713 non-null  int64  \n",
      " 82  apache_2_bodysystem            91713 non-null  int64  \n",
      " 83  hospital_death                 91713 non-null  int64  \n",
      "dtypes: float64(70), int64(14)\n",
      "memory usage: 58.8 MB\n"
     ]
    }
   ],
   "source": [
    "df.info()"
   ]
  },
  {
   "cell_type": "code",
   "execution_count": 128,
   "id": "1d291be0",
   "metadata": {},
   "outputs": [
    {
     "data": {
      "text/plain": [
       "84"
      ]
     },
     "execution_count": 128,
     "metadata": {},
     "output_type": "execute_result"
    }
   ],
   "source": [
    "len(df.columns)"
   ]
  },
  {
   "cell_type": "code",
   "execution_count": 129,
   "id": "f595a8a5",
   "metadata": {},
   "outputs": [
    {
     "data": {
      "text/plain": [
       "83"
      ]
     },
     "execution_count": 129,
     "metadata": {},
     "output_type": "execute_result"
    }
   ],
   "source": [
    "columns=df.iloc[:,:-1]\n",
    "len(columns.columns)"
   ]
  },
  {
   "cell_type": "code",
   "execution_count": 130,
   "id": "c548cf82",
   "metadata": {},
   "outputs": [
    {
     "name": "stdout",
     "output_type": "stream",
     "text": [
      "capping the  encounter_id\n",
      "capping the  patient_id\n",
      "capping the  hospital_id\n",
      "capping the  age\n",
      "capping the  bmi\n",
      "capping the  elective_surgery\n",
      "capping the  ethnicity\n",
      "capping the  gender\n",
      "capping the  height\n",
      "capping the  icu_admit_source\n",
      "capping the  icu_id\n",
      "capping the  icu_stay_type\n",
      "capping the  icu_type\n",
      "capping the  pre_icu_los_days\n",
      "capping the  weight\n",
      "capping the  apache_2_diagnosis\n",
      "capping the  apache_3j_diagnosis\n",
      "capping the  apache_post_operative\n",
      "capping the  arf_apache\n",
      "capping the  gcs_eyes_apache\n",
      "capping the  gcs_motor_apache\n",
      "capping the  gcs_unable_apache\n",
      "capping the  gcs_verbal_apache\n",
      "capping the  heart_rate_apache\n",
      "capping the  intubated_apache\n",
      "capping the  map_apache\n",
      "capping the  resprate_apache\n",
      "capping the  temp_apache\n",
      "capping the  ventilated_apache\n",
      "capping the  d1_diasbp_max\n",
      "capping the  d1_diasbp_min\n",
      "capping the  d1_diasbp_noninvasive_max\n",
      "capping the  d1_diasbp_noninvasive_min\n",
      "capping the  d1_heartrate_max\n",
      "capping the  d1_heartrate_min\n",
      "capping the  d1_mbp_max\n",
      "capping the  d1_mbp_min\n",
      "capping the  d1_mbp_noninvasive_max\n",
      "capping the  d1_mbp_noninvasive_min\n",
      "capping the  d1_resprate_max\n",
      "capping the  d1_resprate_min\n",
      "capping the  d1_spo2_max\n",
      "capping the  d1_spo2_min\n",
      "capping the  d1_sysbp_max\n",
      "capping the  d1_sysbp_min\n",
      "capping the  d1_sysbp_noninvasive_max\n",
      "capping the  d1_sysbp_noninvasive_min\n",
      "capping the  d1_temp_max\n",
      "capping the  d1_temp_min\n",
      "capping the  h1_diasbp_max\n",
      "capping the  h1_diasbp_min\n",
      "capping the  h1_diasbp_noninvasive_max\n",
      "capping the  h1_diasbp_noninvasive_min\n",
      "capping the  h1_heartrate_max\n",
      "capping the  h1_heartrate_min\n",
      "capping the  h1_mbp_max\n",
      "capping the  h1_mbp_min\n",
      "capping the  h1_mbp_noninvasive_max\n",
      "capping the  h1_mbp_noninvasive_min\n",
      "capping the  h1_resprate_max\n",
      "capping the  h1_resprate_min\n"
     ]
    },
    {
     "name": "stderr",
     "output_type": "stream",
     "text": [
      "C:\\Users\\soura\\AppData\\Local\\Temp\\ipykernel_10824\\3428061451.py:6: SettingWithCopyWarning: \n",
      "A value is trying to be set on a copy of a slice from a DataFrame\n",
      "\n",
      "See the caveats in the documentation: https://pandas.pydata.org/pandas-docs/stable/user_guide/indexing.html#returning-a-view-versus-a-copy\n",
      "  df[col][df[col] <= percentiles[0]] = percentiles[0]\n",
      "C:\\Users\\soura\\AppData\\Local\\Temp\\ipykernel_10824\\3428061451.py:7: SettingWithCopyWarning: \n",
      "A value is trying to be set on a copy of a slice from a DataFrame\n",
      "\n",
      "See the caveats in the documentation: https://pandas.pydata.org/pandas-docs/stable/user_guide/indexing.html#returning-a-view-versus-a-copy\n",
      "  df[col][df[col] >= percentiles[1]] = percentiles[1]\n"
     ]
    },
    {
     "name": "stdout",
     "output_type": "stream",
     "text": [
      "capping the  h1_spo2_max\n",
      "capping the  h1_spo2_min\n",
      "capping the  h1_sysbp_max\n",
      "capping the  h1_sysbp_min\n",
      "capping the  h1_sysbp_noninvasive_max\n",
      "capping the  h1_sysbp_noninvasive_min\n",
      "capping the  d1_glucose_max\n",
      "capping the  d1_glucose_min\n",
      "capping the  d1_potassium_max\n",
      "capping the  d1_potassium_min\n",
      "capping the  apache_4a_hospital_death_prob\n",
      "capping the  apache_4a_icu_death_prob\n",
      "capping the  aids\n",
      "capping the  cirrhosis\n",
      "capping the  diabetes_mellitus\n",
      "capping the  hepatic_failure\n",
      "capping the  immunosuppression\n",
      "capping the  leukemia\n",
      "capping the  lymphoma\n",
      "capping the  solid_tumor_with_metastasis\n",
      "capping the  apache_3j_bodysystem\n",
      "capping the  apache_2_bodysystem\n"
     ]
    }
   ],
   "source": [
    "def outlier(df):\n",
    "    for col in columns:\n",
    "        print(\"capping the \",col)\n",
    "        if (((df[col].dtype)=='float64') | ((df[col].dtype)=='int64')):\n",
    "            percentiles = df[col].quantile([0.25,0.75]).values\n",
    "            df[col][df[col] <= percentiles[0]] = percentiles[0]\n",
    "            df[col][df[col] >= percentiles[1]] = percentiles[1]\n",
    "        else:\n",
    "            df[col]=df[col]\n",
    "    return df\n",
    "\n",
    "final_df=outlier(df)"
   ]
  },
  {
   "cell_type": "code",
   "execution_count": 131,
   "id": "dff3d522",
   "metadata": {},
   "outputs": [
    {
     "data": {
      "text/plain": [
       "0    83798\n",
       "1     7915\n",
       "Name: hospital_death, dtype: int64"
      ]
     },
     "execution_count": 131,
     "metadata": {},
     "output_type": "execute_result"
    }
   ],
   "source": [
    "df['hospital_death'].value_counts()"
   ]
  },
  {
   "cell_type": "markdown",
   "id": "b4a6f597",
   "metadata": {},
   "source": [
    "# 5)Feature Selection"
   ]
  },
  {
   "cell_type": "code",
   "execution_count": 132,
   "id": "cfe4bfc7",
   "metadata": {},
   "outputs": [],
   "source": [
    "#SKIP THIS PART FOR NOW"
   ]
  },
  {
   "cell_type": "code",
   "execution_count": 139,
   "id": "7432f1c5",
   "metadata": {},
   "outputs": [],
   "source": [
    "final_df= pd.DataFrame(df,columns=['apache_4a_icu_death_prob','apache_4a_hospital_death_prob', 'apache_3j_diagnosis', 'age', 'bmi','ventilated_apache', 'gender','apache_2_diagnosis',\n",
    "                  'heart_rate_apache','d1_spo2_min','d1_heartrate_min'])"
   ]
  },
  {
   "cell_type": "markdown",
   "id": "b23a96c5",
   "metadata": {},
   "source": [
    "# 6)MODEL TRAINING"
   ]
  },
  {
   "cell_type": "code",
   "execution_count": 140,
   "id": "f88bfc6c",
   "metadata": {},
   "outputs": [
    {
     "data": {
      "text/plain": [
       "Index(['apache_4a_icu_death_prob', 'apache_4a_hospital_death_prob',\n",
       "       'apache_3j_diagnosis', 'age', 'bmi', 'ventilated_apache', 'gender',\n",
       "       'apache_2_diagnosis', 'heart_rate_apache', 'd1_spo2_min',\n",
       "       'd1_heartrate_min'],\n",
       "      dtype='object')"
      ]
     },
     "execution_count": 140,
     "metadata": {},
     "output_type": "execute_result"
    }
   ],
   "source": [
    "final_df.columns"
   ]
  },
  {
   "cell_type": "code",
   "execution_count": 141,
   "id": "9309dfab",
   "metadata": {},
   "outputs": [],
   "source": [
    "x=final_df\n",
    "y=df['hospital_death']"
   ]
  },
  {
   "cell_type": "code",
   "execution_count": 142,
   "id": "573bc63c",
   "metadata": {},
   "outputs": [
    {
     "data": {
      "text/plain": [
       "((73370, 11), (18343, 11), (73370,), (18343,))"
      ]
     },
     "execution_count": 142,
     "metadata": {},
     "output_type": "execute_result"
    }
   ],
   "source": [
    "# #TRAIN TEST SPLIT\n",
    "x_train,x_test,y_train,y_test=train_test_split(x,y,random_state=9,test_size=0.2,stratify=y)\n",
    "x_train.shape,x_test.shape,y_train.shape,y_test.shape"
   ]
  },
  {
   "cell_type": "code",
   "execution_count": 144,
   "id": "4e392417",
   "metadata": {},
   "outputs": [
    {
     "data": {
      "text/html": [
       "<style>#sk-container-id-2 {color: black;background-color: white;}#sk-container-id-2 pre{padding: 0;}#sk-container-id-2 div.sk-toggleable {background-color: white;}#sk-container-id-2 label.sk-toggleable__label {cursor: pointer;display: block;width: 100%;margin-bottom: 0;padding: 0.3em;box-sizing: border-box;text-align: center;}#sk-container-id-2 label.sk-toggleable__label-arrow:before {content: \"▸\";float: left;margin-right: 0.25em;color: #696969;}#sk-container-id-2 label.sk-toggleable__label-arrow:hover:before {color: black;}#sk-container-id-2 div.sk-estimator:hover label.sk-toggleable__label-arrow:before {color: black;}#sk-container-id-2 div.sk-toggleable__content {max-height: 0;max-width: 0;overflow: hidden;text-align: left;background-color: #f0f8ff;}#sk-container-id-2 div.sk-toggleable__content pre {margin: 0.2em;color: black;border-radius: 0.25em;background-color: #f0f8ff;}#sk-container-id-2 input.sk-toggleable__control:checked~div.sk-toggleable__content {max-height: 200px;max-width: 100%;overflow: auto;}#sk-container-id-2 input.sk-toggleable__control:checked~label.sk-toggleable__label-arrow:before {content: \"▾\";}#sk-container-id-2 div.sk-estimator input.sk-toggleable__control:checked~label.sk-toggleable__label {background-color: #d4ebff;}#sk-container-id-2 div.sk-label input.sk-toggleable__control:checked~label.sk-toggleable__label {background-color: #d4ebff;}#sk-container-id-2 input.sk-hidden--visually {border: 0;clip: rect(1px 1px 1px 1px);clip: rect(1px, 1px, 1px, 1px);height: 1px;margin: -1px;overflow: hidden;padding: 0;position: absolute;width: 1px;}#sk-container-id-2 div.sk-estimator {font-family: monospace;background-color: #f0f8ff;border: 1px dotted black;border-radius: 0.25em;box-sizing: border-box;margin-bottom: 0.5em;}#sk-container-id-2 div.sk-estimator:hover {background-color: #d4ebff;}#sk-container-id-2 div.sk-parallel-item::after {content: \"\";width: 100%;border-bottom: 1px solid gray;flex-grow: 1;}#sk-container-id-2 div.sk-label:hover label.sk-toggleable__label {background-color: #d4ebff;}#sk-container-id-2 div.sk-serial::before {content: \"\";position: absolute;border-left: 1px solid gray;box-sizing: border-box;top: 0;bottom: 0;left: 50%;z-index: 0;}#sk-container-id-2 div.sk-serial {display: flex;flex-direction: column;align-items: center;background-color: white;padding-right: 0.2em;padding-left: 0.2em;position: relative;}#sk-container-id-2 div.sk-item {position: relative;z-index: 1;}#sk-container-id-2 div.sk-parallel {display: flex;align-items: stretch;justify-content: center;background-color: white;position: relative;}#sk-container-id-2 div.sk-item::before, #sk-container-id-2 div.sk-parallel-item::before {content: \"\";position: absolute;border-left: 1px solid gray;box-sizing: border-box;top: 0;bottom: 0;left: 50%;z-index: -1;}#sk-container-id-2 div.sk-parallel-item {display: flex;flex-direction: column;z-index: 1;position: relative;background-color: white;}#sk-container-id-2 div.sk-parallel-item:first-child::after {align-self: flex-end;width: 50%;}#sk-container-id-2 div.sk-parallel-item:last-child::after {align-self: flex-start;width: 50%;}#sk-container-id-2 div.sk-parallel-item:only-child::after {width: 0;}#sk-container-id-2 div.sk-dashed-wrapped {border: 1px dashed gray;margin: 0 0.4em 0.5em 0.4em;box-sizing: border-box;padding-bottom: 0.4em;background-color: white;}#sk-container-id-2 div.sk-label label {font-family: monospace;font-weight: bold;display: inline-block;line-height: 1.2em;}#sk-container-id-2 div.sk-label-container {text-align: center;}#sk-container-id-2 div.sk-container {/* jupyter's `normalize.less` sets `[hidden] { display: none; }` but bootstrap.min.css set `[hidden] { display: none !important; }` so we also need the `!important` here to be able to override the default hidden behavior on the sphinx rendered scikit-learn.org. See: https://github.com/scikit-learn/scikit-learn/issues/21755 */display: inline-block !important;position: relative;}#sk-container-id-2 div.sk-text-repr-fallback {display: none;}</style><div id=\"sk-container-id-2\" class=\"sk-top-container\"><div class=\"sk-text-repr-fallback\"><pre>LogisticRegression(max_iter=900)</pre><b>In a Jupyter environment, please rerun this cell to show the HTML representation or trust the notebook. <br />On GitHub, the HTML representation is unable to render, please try loading this page with nbviewer.org.</b></div><div class=\"sk-container\" hidden><div class=\"sk-item\"><div class=\"sk-estimator sk-toggleable\"><input class=\"sk-toggleable__control sk-hidden--visually\" id=\"sk-estimator-id-2\" type=\"checkbox\" checked><label for=\"sk-estimator-id-2\" class=\"sk-toggleable__label sk-toggleable__label-arrow\">LogisticRegression</label><div class=\"sk-toggleable__content\"><pre>LogisticRegression(max_iter=900)</pre></div></div></div></div></div>"
      ],
      "text/plain": [
       "LogisticRegression(max_iter=900)"
      ]
     },
     "execution_count": 144,
     "metadata": {},
     "output_type": "execute_result"
    }
   ],
   "source": [
    "log_reg=LogisticRegression(max_iter=900)\n",
    "log_reg.fit(x_train,y_train)"
   ]
  },
  {
   "cell_type": "markdown",
   "id": "8020e962",
   "metadata": {},
   "source": [
    "# 7)MODEL EVALUATION"
   ]
  },
  {
   "cell_type": "code",
   "execution_count": 146,
   "id": "f7b2878e",
   "metadata": {},
   "outputs": [],
   "source": [
    "def train_test_data(y_actual,y_pred):\n",
    "    accuracy=accuracy_score(y_actual,y_pred)\n",
    "    print(f\"accuracy_score=={accuracy}\")\n",
    "    \n",
    "    cm=confusion_matrix(y_actual,y_pred)\n",
    "    print(cm)\n",
    "    \n",
    "    clf=classification_report(y_actual,y_pred)\n",
    "    print(clf)\n",
    "    \n",
    "    return \"metrics calculated\""
   ]
  },
  {
   "cell_type": "code",
   "execution_count": 147,
   "id": "1da61873",
   "metadata": {},
   "outputs": [
    {
     "name": "stdout",
     "output_type": "stream",
     "text": [
      "accuracy_score==0.913645532355667\n",
      "[[16743    17]\n",
      " [ 1567    16]]\n",
      "              precision    recall  f1-score   support\n",
      "\n",
      "           0       0.91      1.00      0.95     16760\n",
      "           1       0.48      0.01      0.02      1583\n",
      "\n",
      "    accuracy                           0.91     18343\n",
      "   macro avg       0.70      0.50      0.49     18343\n",
      "weighted avg       0.88      0.91      0.87     18343\n",
      "\n"
     ]
    },
    {
     "data": {
      "text/plain": [
       "'metrics calculated'"
      ]
     },
     "execution_count": 147,
     "metadata": {},
     "output_type": "execute_result"
    }
   ],
   "source": [
    "#TESTING DATASET\n",
    "y_pred_test=log_reg.predict(x_test)\n",
    "train_test_data(y_test,y_pred_test)"
   ]
  },
  {
   "cell_type": "code",
   "execution_count": 148,
   "id": "e0967d51",
   "metadata": {},
   "outputs": [
    {
     "name": "stdout",
     "output_type": "stream",
     "text": [
      "accuracy_score==0.9136159193130707\n",
      "[[66970    68]\n",
      " [ 6270    62]]\n",
      "              precision    recall  f1-score   support\n",
      "\n",
      "           0       0.91      1.00      0.95     67038\n",
      "           1       0.48      0.01      0.02      6332\n",
      "\n",
      "    accuracy                           0.91     73370\n",
      "   macro avg       0.70      0.50      0.49     73370\n",
      "weighted avg       0.88      0.91      0.87     73370\n",
      "\n"
     ]
    },
    {
     "data": {
      "text/plain": [
       "'metrics calculated'"
      ]
     },
     "execution_count": 148,
     "metadata": {},
     "output_type": "execute_result"
    }
   ],
   "source": [
    "#TRAINING DATASET\n",
    "y_pred_train=log_reg.predict(x_train)\n",
    "train_test_data(y_train,y_pred_train)"
   ]
  },
  {
   "cell_type": "markdown",
   "id": "91f8c223",
   "metadata": {},
   "source": [
    "# USING KNEIGHBORS CLASSIFICATION"
   ]
  },
  {
   "cell_type": "code",
   "execution_count": 149,
   "id": "b7926506",
   "metadata": {},
   "outputs": [
    {
     "data": {
      "text/html": [
       "<div>\n",
       "<style scoped>\n",
       "    .dataframe tbody tr th:only-of-type {\n",
       "        vertical-align: middle;\n",
       "    }\n",
       "\n",
       "    .dataframe tbody tr th {\n",
       "        vertical-align: top;\n",
       "    }\n",
       "\n",
       "    .dataframe thead th {\n",
       "        text-align: right;\n",
       "    }\n",
       "</style>\n",
       "<table border=\"1\" class=\"dataframe\">\n",
       "  <thead>\n",
       "    <tr style=\"text-align: right;\">\n",
       "      <th></th>\n",
       "      <th>apache_4a_icu_death_prob</th>\n",
       "      <th>apache_4a_hospital_death_prob</th>\n",
       "      <th>apache_3j_diagnosis</th>\n",
       "      <th>age</th>\n",
       "      <th>bmi</th>\n",
       "      <th>ventilated_apache</th>\n",
       "      <th>gender</th>\n",
       "      <th>apache_2_diagnosis</th>\n",
       "      <th>heart_rate_apache</th>\n",
       "      <th>d1_spo2_min</th>\n",
       "      <th>d1_heartrate_min</th>\n",
       "    </tr>\n",
       "  </thead>\n",
       "  <tbody>\n",
       "    <tr>\n",
       "      <th>count</th>\n",
       "      <td>91713.000000</td>\n",
       "      <td>91713.000000</td>\n",
       "      <td>91713.000000</td>\n",
       "      <td>91713.000000</td>\n",
       "      <td>91713.000000</td>\n",
       "      <td>91713.000000</td>\n",
       "      <td>91713.000000</td>\n",
       "      <td>91713.000000</td>\n",
       "      <td>91713.000000</td>\n",
       "      <td>91713.000000</td>\n",
       "      <td>91713.000000</td>\n",
       "    </tr>\n",
       "    <tr>\n",
       "      <th>mean</th>\n",
       "      <td>0.029541</td>\n",
       "      <td>0.062495</td>\n",
       "      <td>441.666843</td>\n",
       "      <td>64.072058</td>\n",
       "      <td>28.029621</td>\n",
       "      <td>0.323182</td>\n",
       "      <td>0.460338</td>\n",
       "      <td>184.336539</td>\n",
       "      <td>103.701067</td>\n",
       "      <td>92.222651</td>\n",
       "      <td>70.034935</td>\n",
       "    </tr>\n",
       "    <tr>\n",
       "      <th>std</th>\n",
       "      <td>0.020315</td>\n",
       "      <td>0.040010</td>\n",
       "      <td>208.096408</td>\n",
       "      <td>8.815420</td>\n",
       "      <td>3.557294</td>\n",
       "      <td>0.467694</td>\n",
       "      <td>0.498427</td>\n",
       "      <td>83.745538</td>\n",
       "      <td>13.175176</td>\n",
       "      <td>2.416328</td>\n",
       "      <td>8.542868</td>\n",
       "    </tr>\n",
       "    <tr>\n",
       "      <th>min</th>\n",
       "      <td>0.010000</td>\n",
       "      <td>0.020000</td>\n",
       "      <td>203.010000</td>\n",
       "      <td>53.000000</td>\n",
       "      <td>23.787760</td>\n",
       "      <td>0.000000</td>\n",
       "      <td>0.000000</td>\n",
       "      <td>113.000000</td>\n",
       "      <td>87.000000</td>\n",
       "      <td>89.000000</td>\n",
       "      <td>60.000000</td>\n",
       "    </tr>\n",
       "    <tr>\n",
       "      <th>25%</th>\n",
       "      <td>0.010000</td>\n",
       "      <td>0.020000</td>\n",
       "      <td>203.010000</td>\n",
       "      <td>53.000000</td>\n",
       "      <td>23.787760</td>\n",
       "      <td>0.000000</td>\n",
       "      <td>0.000000</td>\n",
       "      <td>113.000000</td>\n",
       "      <td>87.000000</td>\n",
       "      <td>89.000000</td>\n",
       "      <td>60.000000</td>\n",
       "    </tr>\n",
       "    <tr>\n",
       "      <th>50%</th>\n",
       "      <td>0.020000</td>\n",
       "      <td>0.050000</td>\n",
       "      <td>409.020000</td>\n",
       "      <td>64.000000</td>\n",
       "      <td>27.654655</td>\n",
       "      <td>0.000000</td>\n",
       "      <td>0.000000</td>\n",
       "      <td>122.000000</td>\n",
       "      <td>104.000000</td>\n",
       "      <td>92.000000</td>\n",
       "      <td>69.000000</td>\n",
       "    </tr>\n",
       "    <tr>\n",
       "      <th>75%</th>\n",
       "      <td>0.060000</td>\n",
       "      <td>0.120000</td>\n",
       "      <td>703.030000</td>\n",
       "      <td>75.000000</td>\n",
       "      <td>32.653061</td>\n",
       "      <td>1.000000</td>\n",
       "      <td>1.000000</td>\n",
       "      <td>301.000000</td>\n",
       "      <td>120.000000</td>\n",
       "      <td>95.000000</td>\n",
       "      <td>81.000000</td>\n",
       "    </tr>\n",
       "    <tr>\n",
       "      <th>max</th>\n",
       "      <td>0.060000</td>\n",
       "      <td>0.120000</td>\n",
       "      <td>703.030000</td>\n",
       "      <td>75.000000</td>\n",
       "      <td>32.653061</td>\n",
       "      <td>1.000000</td>\n",
       "      <td>1.000000</td>\n",
       "      <td>301.000000</td>\n",
       "      <td>120.000000</td>\n",
       "      <td>95.000000</td>\n",
       "      <td>81.000000</td>\n",
       "    </tr>\n",
       "  </tbody>\n",
       "</table>\n",
       "</div>"
      ],
      "text/plain": [
       "       apache_4a_icu_death_prob  apache_4a_hospital_death_prob  \\\n",
       "count              91713.000000                   91713.000000   \n",
       "mean                   0.029541                       0.062495   \n",
       "std                    0.020315                       0.040010   \n",
       "min                    0.010000                       0.020000   \n",
       "25%                    0.010000                       0.020000   \n",
       "50%                    0.020000                       0.050000   \n",
       "75%                    0.060000                       0.120000   \n",
       "max                    0.060000                       0.120000   \n",
       "\n",
       "       apache_3j_diagnosis           age           bmi  ventilated_apache  \\\n",
       "count         91713.000000  91713.000000  91713.000000       91713.000000   \n",
       "mean            441.666843     64.072058     28.029621           0.323182   \n",
       "std             208.096408      8.815420      3.557294           0.467694   \n",
       "min             203.010000     53.000000     23.787760           0.000000   \n",
       "25%             203.010000     53.000000     23.787760           0.000000   \n",
       "50%             409.020000     64.000000     27.654655           0.000000   \n",
       "75%             703.030000     75.000000     32.653061           1.000000   \n",
       "max             703.030000     75.000000     32.653061           1.000000   \n",
       "\n",
       "             gender  apache_2_diagnosis  heart_rate_apache   d1_spo2_min  \\\n",
       "count  91713.000000        91713.000000       91713.000000  91713.000000   \n",
       "mean       0.460338          184.336539         103.701067     92.222651   \n",
       "std        0.498427           83.745538          13.175176      2.416328   \n",
       "min        0.000000          113.000000          87.000000     89.000000   \n",
       "25%        0.000000          113.000000          87.000000     89.000000   \n",
       "50%        0.000000          122.000000         104.000000     92.000000   \n",
       "75%        1.000000          301.000000         120.000000     95.000000   \n",
       "max        1.000000          301.000000         120.000000     95.000000   \n",
       "\n",
       "       d1_heartrate_min  \n",
       "count      91713.000000  \n",
       "mean          70.034935  \n",
       "std            8.542868  \n",
       "min           60.000000  \n",
       "25%           60.000000  \n",
       "50%           69.000000  \n",
       "75%           81.000000  \n",
       "max           81.000000  "
      ]
     },
     "execution_count": 149,
     "metadata": {},
     "output_type": "execute_result"
    }
   ],
   "source": [
    "final_df.describe()"
   ]
  },
  {
   "cell_type": "code",
   "execution_count": 150,
   "id": "5f5f35ba",
   "metadata": {},
   "outputs": [],
   "source": [
    "norm=MinMaxScaler()\n",
    "x_train_trf=norm.fit_transform(x_train)\n",
    "x_test_trf=norm.transform(x_test)"
   ]
  },
  {
   "cell_type": "code",
   "execution_count": 151,
   "id": "8134427e",
   "metadata": {},
   "outputs": [
    {
     "data": {
      "text/html": [
       "<style>#sk-container-id-3 {color: black;background-color: white;}#sk-container-id-3 pre{padding: 0;}#sk-container-id-3 div.sk-toggleable {background-color: white;}#sk-container-id-3 label.sk-toggleable__label {cursor: pointer;display: block;width: 100%;margin-bottom: 0;padding: 0.3em;box-sizing: border-box;text-align: center;}#sk-container-id-3 label.sk-toggleable__label-arrow:before {content: \"▸\";float: left;margin-right: 0.25em;color: #696969;}#sk-container-id-3 label.sk-toggleable__label-arrow:hover:before {color: black;}#sk-container-id-3 div.sk-estimator:hover label.sk-toggleable__label-arrow:before {color: black;}#sk-container-id-3 div.sk-toggleable__content {max-height: 0;max-width: 0;overflow: hidden;text-align: left;background-color: #f0f8ff;}#sk-container-id-3 div.sk-toggleable__content pre {margin: 0.2em;color: black;border-radius: 0.25em;background-color: #f0f8ff;}#sk-container-id-3 input.sk-toggleable__control:checked~div.sk-toggleable__content {max-height: 200px;max-width: 100%;overflow: auto;}#sk-container-id-3 input.sk-toggleable__control:checked~label.sk-toggleable__label-arrow:before {content: \"▾\";}#sk-container-id-3 div.sk-estimator input.sk-toggleable__control:checked~label.sk-toggleable__label {background-color: #d4ebff;}#sk-container-id-3 div.sk-label input.sk-toggleable__control:checked~label.sk-toggleable__label {background-color: #d4ebff;}#sk-container-id-3 input.sk-hidden--visually {border: 0;clip: rect(1px 1px 1px 1px);clip: rect(1px, 1px, 1px, 1px);height: 1px;margin: -1px;overflow: hidden;padding: 0;position: absolute;width: 1px;}#sk-container-id-3 div.sk-estimator {font-family: monospace;background-color: #f0f8ff;border: 1px dotted black;border-radius: 0.25em;box-sizing: border-box;margin-bottom: 0.5em;}#sk-container-id-3 div.sk-estimator:hover {background-color: #d4ebff;}#sk-container-id-3 div.sk-parallel-item::after {content: \"\";width: 100%;border-bottom: 1px solid gray;flex-grow: 1;}#sk-container-id-3 div.sk-label:hover label.sk-toggleable__label {background-color: #d4ebff;}#sk-container-id-3 div.sk-serial::before {content: \"\";position: absolute;border-left: 1px solid gray;box-sizing: border-box;top: 0;bottom: 0;left: 50%;z-index: 0;}#sk-container-id-3 div.sk-serial {display: flex;flex-direction: column;align-items: center;background-color: white;padding-right: 0.2em;padding-left: 0.2em;position: relative;}#sk-container-id-3 div.sk-item {position: relative;z-index: 1;}#sk-container-id-3 div.sk-parallel {display: flex;align-items: stretch;justify-content: center;background-color: white;position: relative;}#sk-container-id-3 div.sk-item::before, #sk-container-id-3 div.sk-parallel-item::before {content: \"\";position: absolute;border-left: 1px solid gray;box-sizing: border-box;top: 0;bottom: 0;left: 50%;z-index: -1;}#sk-container-id-3 div.sk-parallel-item {display: flex;flex-direction: column;z-index: 1;position: relative;background-color: white;}#sk-container-id-3 div.sk-parallel-item:first-child::after {align-self: flex-end;width: 50%;}#sk-container-id-3 div.sk-parallel-item:last-child::after {align-self: flex-start;width: 50%;}#sk-container-id-3 div.sk-parallel-item:only-child::after {width: 0;}#sk-container-id-3 div.sk-dashed-wrapped {border: 1px dashed gray;margin: 0 0.4em 0.5em 0.4em;box-sizing: border-box;padding-bottom: 0.4em;background-color: white;}#sk-container-id-3 div.sk-label label {font-family: monospace;font-weight: bold;display: inline-block;line-height: 1.2em;}#sk-container-id-3 div.sk-label-container {text-align: center;}#sk-container-id-3 div.sk-container {/* jupyter's `normalize.less` sets `[hidden] { display: none; }` but bootstrap.min.css set `[hidden] { display: none !important; }` so we also need the `!important` here to be able to override the default hidden behavior on the sphinx rendered scikit-learn.org. See: https://github.com/scikit-learn/scikit-learn/issues/21755 */display: inline-block !important;position: relative;}#sk-container-id-3 div.sk-text-repr-fallback {display: none;}</style><div id=\"sk-container-id-3\" class=\"sk-top-container\"><div class=\"sk-text-repr-fallback\"><pre>KNeighborsClassifier()</pre><b>In a Jupyter environment, please rerun this cell to show the HTML representation or trust the notebook. <br />On GitHub, the HTML representation is unable to render, please try loading this page with nbviewer.org.</b></div><div class=\"sk-container\" hidden><div class=\"sk-item\"><div class=\"sk-estimator sk-toggleable\"><input class=\"sk-toggleable__control sk-hidden--visually\" id=\"sk-estimator-id-3\" type=\"checkbox\" checked><label for=\"sk-estimator-id-3\" class=\"sk-toggleable__label sk-toggleable__label-arrow\">KNeighborsClassifier</label><div class=\"sk-toggleable__content\"><pre>KNeighborsClassifier()</pre></div></div></div></div></div>"
      ],
      "text/plain": [
       "KNeighborsClassifier()"
      ]
     },
     "execution_count": 151,
     "metadata": {},
     "output_type": "execute_result"
    }
   ],
   "source": [
    "knn_reg=KNeighborsClassifier()\n",
    "knn_reg.fit(x_train_trf,y_train)"
   ]
  },
  {
   "cell_type": "code",
   "execution_count": 152,
   "id": "72683bcb",
   "metadata": {},
   "outputs": [
    {
     "name": "stdout",
     "output_type": "stream",
     "text": [
      "accuracy_score==0.913645532355667\n",
      "[[16743    17]\n",
      " [ 1567    16]]\n",
      "              precision    recall  f1-score   support\n",
      "\n",
      "           0       0.91      1.00      0.95     16760\n",
      "           1       0.48      0.01      0.02      1583\n",
      "\n",
      "    accuracy                           0.91     18343\n",
      "   macro avg       0.70      0.50      0.49     18343\n",
      "weighted avg       0.88      0.91      0.87     18343\n",
      "\n"
     ]
    },
    {
     "data": {
      "text/plain": [
       "'metrics calculated'"
      ]
     },
     "execution_count": 152,
     "metadata": {},
     "output_type": "execute_result"
    }
   ],
   "source": [
    "#TESTING DATASET\n",
    "y_pred_test=log_reg.predict(x_test)\n",
    "train_test_data(y_test,y_pred_test)"
   ]
  },
  {
   "cell_type": "code",
   "execution_count": 154,
   "id": "d73f85a7",
   "metadata": {},
   "outputs": [
    {
     "name": "stdout",
     "output_type": "stream",
     "text": [
      "accuracy_score==0.9136159193130707\n",
      "[[66970    68]\n",
      " [ 6270    62]]\n",
      "              precision    recall  f1-score   support\n",
      "\n",
      "           0       0.91      1.00      0.95     67038\n",
      "           1       0.48      0.01      0.02      6332\n",
      "\n",
      "    accuracy                           0.91     73370\n",
      "   macro avg       0.70      0.50      0.49     73370\n",
      "weighted avg       0.88      0.91      0.87     73370\n",
      "\n"
     ]
    },
    {
     "data": {
      "text/plain": [
       "'metrics calculated'"
      ]
     },
     "execution_count": 154,
     "metadata": {},
     "output_type": "execute_result"
    }
   ],
   "source": [
    "#TRAINING DATASET\n",
    "y_pred_train=log_reg.predict(x_train)\n",
    "train_test_data(y_train,y_pred_train)"
   ]
  },
  {
   "cell_type": "markdown",
   "id": "070a1576",
   "metadata": {},
   "source": [
    "# USING DECISION TREE"
   ]
  },
  {
   "cell_type": "markdown",
   "id": "91550eee",
   "metadata": {},
   "source": [
    "### 6)MODEL TRAINING"
   ]
  },
  {
   "cell_type": "code",
   "execution_count": 155,
   "id": "bea387df",
   "metadata": {},
   "outputs": [
    {
     "data": {
      "text/html": [
       "<style>#sk-container-id-4 {color: black;background-color: white;}#sk-container-id-4 pre{padding: 0;}#sk-container-id-4 div.sk-toggleable {background-color: white;}#sk-container-id-4 label.sk-toggleable__label {cursor: pointer;display: block;width: 100%;margin-bottom: 0;padding: 0.3em;box-sizing: border-box;text-align: center;}#sk-container-id-4 label.sk-toggleable__label-arrow:before {content: \"▸\";float: left;margin-right: 0.25em;color: #696969;}#sk-container-id-4 label.sk-toggleable__label-arrow:hover:before {color: black;}#sk-container-id-4 div.sk-estimator:hover label.sk-toggleable__label-arrow:before {color: black;}#sk-container-id-4 div.sk-toggleable__content {max-height: 0;max-width: 0;overflow: hidden;text-align: left;background-color: #f0f8ff;}#sk-container-id-4 div.sk-toggleable__content pre {margin: 0.2em;color: black;border-radius: 0.25em;background-color: #f0f8ff;}#sk-container-id-4 input.sk-toggleable__control:checked~div.sk-toggleable__content {max-height: 200px;max-width: 100%;overflow: auto;}#sk-container-id-4 input.sk-toggleable__control:checked~label.sk-toggleable__label-arrow:before {content: \"▾\";}#sk-container-id-4 div.sk-estimator input.sk-toggleable__control:checked~label.sk-toggleable__label {background-color: #d4ebff;}#sk-container-id-4 div.sk-label input.sk-toggleable__control:checked~label.sk-toggleable__label {background-color: #d4ebff;}#sk-container-id-4 input.sk-hidden--visually {border: 0;clip: rect(1px 1px 1px 1px);clip: rect(1px, 1px, 1px, 1px);height: 1px;margin: -1px;overflow: hidden;padding: 0;position: absolute;width: 1px;}#sk-container-id-4 div.sk-estimator {font-family: monospace;background-color: #f0f8ff;border: 1px dotted black;border-radius: 0.25em;box-sizing: border-box;margin-bottom: 0.5em;}#sk-container-id-4 div.sk-estimator:hover {background-color: #d4ebff;}#sk-container-id-4 div.sk-parallel-item::after {content: \"\";width: 100%;border-bottom: 1px solid gray;flex-grow: 1;}#sk-container-id-4 div.sk-label:hover label.sk-toggleable__label {background-color: #d4ebff;}#sk-container-id-4 div.sk-serial::before {content: \"\";position: absolute;border-left: 1px solid gray;box-sizing: border-box;top: 0;bottom: 0;left: 50%;z-index: 0;}#sk-container-id-4 div.sk-serial {display: flex;flex-direction: column;align-items: center;background-color: white;padding-right: 0.2em;padding-left: 0.2em;position: relative;}#sk-container-id-4 div.sk-item {position: relative;z-index: 1;}#sk-container-id-4 div.sk-parallel {display: flex;align-items: stretch;justify-content: center;background-color: white;position: relative;}#sk-container-id-4 div.sk-item::before, #sk-container-id-4 div.sk-parallel-item::before {content: \"\";position: absolute;border-left: 1px solid gray;box-sizing: border-box;top: 0;bottom: 0;left: 50%;z-index: -1;}#sk-container-id-4 div.sk-parallel-item {display: flex;flex-direction: column;z-index: 1;position: relative;background-color: white;}#sk-container-id-4 div.sk-parallel-item:first-child::after {align-self: flex-end;width: 50%;}#sk-container-id-4 div.sk-parallel-item:last-child::after {align-self: flex-start;width: 50%;}#sk-container-id-4 div.sk-parallel-item:only-child::after {width: 0;}#sk-container-id-4 div.sk-dashed-wrapped {border: 1px dashed gray;margin: 0 0.4em 0.5em 0.4em;box-sizing: border-box;padding-bottom: 0.4em;background-color: white;}#sk-container-id-4 div.sk-label label {font-family: monospace;font-weight: bold;display: inline-block;line-height: 1.2em;}#sk-container-id-4 div.sk-label-container {text-align: center;}#sk-container-id-4 div.sk-container {/* jupyter's `normalize.less` sets `[hidden] { display: none; }` but bootstrap.min.css set `[hidden] { display: none !important; }` so we also need the `!important` here to be able to override the default hidden behavior on the sphinx rendered scikit-learn.org. See: https://github.com/scikit-learn/scikit-learn/issues/21755 */display: inline-block !important;position: relative;}#sk-container-id-4 div.sk-text-repr-fallback {display: none;}</style><div id=\"sk-container-id-4\" class=\"sk-top-container\"><div class=\"sk-text-repr-fallback\"><pre>DecisionTreeClassifier(random_state=10)</pre><b>In a Jupyter environment, please rerun this cell to show the HTML representation or trust the notebook. <br />On GitHub, the HTML representation is unable to render, please try loading this page with nbviewer.org.</b></div><div class=\"sk-container\" hidden><div class=\"sk-item\"><div class=\"sk-estimator sk-toggleable\"><input class=\"sk-toggleable__control sk-hidden--visually\" id=\"sk-estimator-id-4\" type=\"checkbox\" checked><label for=\"sk-estimator-id-4\" class=\"sk-toggleable__label sk-toggleable__label-arrow\">DecisionTreeClassifier</label><div class=\"sk-toggleable__content\"><pre>DecisionTreeClassifier(random_state=10)</pre></div></div></div></div></div>"
      ],
      "text/plain": [
       "DecisionTreeClassifier(random_state=10)"
      ]
     },
     "execution_count": 155,
     "metadata": {},
     "output_type": "execute_result"
    }
   ],
   "source": [
    "dt_reg=DecisionTreeClassifier(random_state=10)\n",
    "dt_reg.fit(x_train,y_train)"
   ]
  },
  {
   "cell_type": "markdown",
   "id": "a9e6cf4e",
   "metadata": {},
   "source": [
    "### 7)MODEL EVALUATION"
   ]
  },
  {
   "cell_type": "code",
   "execution_count": 156,
   "id": "fde65232",
   "metadata": {},
   "outputs": [
    {
     "name": "stdout",
     "output_type": "stream",
     "text": [
      "accuracy_score==0.8659979283650439\n",
      "[[15449  1311]\n",
      " [ 1147   436]]\n",
      "              precision    recall  f1-score   support\n",
      "\n",
      "           0       0.93      0.92      0.93     16760\n",
      "           1       0.25      0.28      0.26      1583\n",
      "\n",
      "    accuracy                           0.87     18343\n",
      "   macro avg       0.59      0.60      0.59     18343\n",
      "weighted avg       0.87      0.87      0.87     18343\n",
      "\n"
     ]
    },
    {
     "data": {
      "text/plain": [
       "'metrics calculated'"
      ]
     },
     "execution_count": 156,
     "metadata": {},
     "output_type": "execute_result"
    }
   ],
   "source": [
    "#TESTING DATA\n",
    "y_pred_test_dt=dt_reg.predict(x_test)\n",
    "train_test_data(y_test,y_pred_test_dt)"
   ]
  },
  {
   "cell_type": "code",
   "execution_count": 158,
   "id": "0747cf22",
   "metadata": {},
   "outputs": [
    {
     "name": "stdout",
     "output_type": "stream",
     "text": [
      "accuracy_score==0.9962382445141066\n",
      "[[66991    47]\n",
      " [  229  6103]]\n",
      "              precision    recall  f1-score   support\n",
      "\n",
      "           0       1.00      1.00      1.00     67038\n",
      "           1       0.99      0.96      0.98      6332\n",
      "\n",
      "    accuracy                           1.00     73370\n",
      "   macro avg       0.99      0.98      0.99     73370\n",
      "weighted avg       1.00      1.00      1.00     73370\n",
      "\n"
     ]
    },
    {
     "data": {
      "text/plain": [
       "'metrics calculated'"
      ]
     },
     "execution_count": 158,
     "metadata": {},
     "output_type": "execute_result"
    }
   ],
   "source": [
    "#TRAINING DATA\n",
    "y_pred_train_dt=dt_reg.predict(x_train)\n",
    "train_test_data(y_train,y_pred_train_dt)"
   ]
  },
  {
   "cell_type": "code",
   "execution_count": 159,
   "id": "53846918",
   "metadata": {},
   "outputs": [],
   "source": [
    "#DECISION TREE HYPERPARAMETER TRAINING\n",
    "dt_reg_hyp=DecisionTreeClassifier()\n",
    "hyp={'criterion':['gini','entropy'],\n",
    "     'max_depth':np.arange(5,10),\n",
    "     'min_samples_split':np.arange(2,20),\n",
    "     'min_samples_leaf':np.arange(1,15),\n",
    "     'random_state':np.arange(2,10),\n",
    "     }"
   ]
  },
  {
   "cell_type": "code",
   "execution_count": 160,
   "id": "bf15a1cc",
   "metadata": {},
   "outputs": [
    {
     "data": {
      "text/html": [
       "<style>#sk-container-id-5 {color: black;background-color: white;}#sk-container-id-5 pre{padding: 0;}#sk-container-id-5 div.sk-toggleable {background-color: white;}#sk-container-id-5 label.sk-toggleable__label {cursor: pointer;display: block;width: 100%;margin-bottom: 0;padding: 0.3em;box-sizing: border-box;text-align: center;}#sk-container-id-5 label.sk-toggleable__label-arrow:before {content: \"▸\";float: left;margin-right: 0.25em;color: #696969;}#sk-container-id-5 label.sk-toggleable__label-arrow:hover:before {color: black;}#sk-container-id-5 div.sk-estimator:hover label.sk-toggleable__label-arrow:before {color: black;}#sk-container-id-5 div.sk-toggleable__content {max-height: 0;max-width: 0;overflow: hidden;text-align: left;background-color: #f0f8ff;}#sk-container-id-5 div.sk-toggleable__content pre {margin: 0.2em;color: black;border-radius: 0.25em;background-color: #f0f8ff;}#sk-container-id-5 input.sk-toggleable__control:checked~div.sk-toggleable__content {max-height: 200px;max-width: 100%;overflow: auto;}#sk-container-id-5 input.sk-toggleable__control:checked~label.sk-toggleable__label-arrow:before {content: \"▾\";}#sk-container-id-5 div.sk-estimator input.sk-toggleable__control:checked~label.sk-toggleable__label {background-color: #d4ebff;}#sk-container-id-5 div.sk-label input.sk-toggleable__control:checked~label.sk-toggleable__label {background-color: #d4ebff;}#sk-container-id-5 input.sk-hidden--visually {border: 0;clip: rect(1px 1px 1px 1px);clip: rect(1px, 1px, 1px, 1px);height: 1px;margin: -1px;overflow: hidden;padding: 0;position: absolute;width: 1px;}#sk-container-id-5 div.sk-estimator {font-family: monospace;background-color: #f0f8ff;border: 1px dotted black;border-radius: 0.25em;box-sizing: border-box;margin-bottom: 0.5em;}#sk-container-id-5 div.sk-estimator:hover {background-color: #d4ebff;}#sk-container-id-5 div.sk-parallel-item::after {content: \"\";width: 100%;border-bottom: 1px solid gray;flex-grow: 1;}#sk-container-id-5 div.sk-label:hover label.sk-toggleable__label {background-color: #d4ebff;}#sk-container-id-5 div.sk-serial::before {content: \"\";position: absolute;border-left: 1px solid gray;box-sizing: border-box;top: 0;bottom: 0;left: 50%;z-index: 0;}#sk-container-id-5 div.sk-serial {display: flex;flex-direction: column;align-items: center;background-color: white;padding-right: 0.2em;padding-left: 0.2em;position: relative;}#sk-container-id-5 div.sk-item {position: relative;z-index: 1;}#sk-container-id-5 div.sk-parallel {display: flex;align-items: stretch;justify-content: center;background-color: white;position: relative;}#sk-container-id-5 div.sk-item::before, #sk-container-id-5 div.sk-parallel-item::before {content: \"\";position: absolute;border-left: 1px solid gray;box-sizing: border-box;top: 0;bottom: 0;left: 50%;z-index: -1;}#sk-container-id-5 div.sk-parallel-item {display: flex;flex-direction: column;z-index: 1;position: relative;background-color: white;}#sk-container-id-5 div.sk-parallel-item:first-child::after {align-self: flex-end;width: 50%;}#sk-container-id-5 div.sk-parallel-item:last-child::after {align-self: flex-start;width: 50%;}#sk-container-id-5 div.sk-parallel-item:only-child::after {width: 0;}#sk-container-id-5 div.sk-dashed-wrapped {border: 1px dashed gray;margin: 0 0.4em 0.5em 0.4em;box-sizing: border-box;padding-bottom: 0.4em;background-color: white;}#sk-container-id-5 div.sk-label label {font-family: monospace;font-weight: bold;display: inline-block;line-height: 1.2em;}#sk-container-id-5 div.sk-label-container {text-align: center;}#sk-container-id-5 div.sk-container {/* jupyter's `normalize.less` sets `[hidden] { display: none; }` but bootstrap.min.css set `[hidden] { display: none !important; }` so we also need the `!important` here to be able to override the default hidden behavior on the sphinx rendered scikit-learn.org. See: https://github.com/scikit-learn/scikit-learn/issues/21755 */display: inline-block !important;position: relative;}#sk-container-id-5 div.sk-text-repr-fallback {display: none;}</style><div id=\"sk-container-id-5\" class=\"sk-top-container\"><div class=\"sk-text-repr-fallback\"><pre>RandomizedSearchCV(cv=5, estimator=DecisionTreeClassifier(),\n",
       "                   param_distributions={&#x27;criterion&#x27;: [&#x27;gini&#x27;, &#x27;entropy&#x27;],\n",
       "                                        &#x27;max_depth&#x27;: array([5, 6, 7, 8, 9]),\n",
       "                                        &#x27;min_samples_leaf&#x27;: array([ 1,  2,  3,  4,  5,  6,  7,  8,  9, 10, 11, 12, 13, 14]),\n",
       "                                        &#x27;min_samples_split&#x27;: array([ 2,  3,  4,  5,  6,  7,  8,  9, 10, 11, 12, 13, 14, 15, 16, 17, 18,\n",
       "       19]),\n",
       "                                        &#x27;random_state&#x27;: array([2, 3, 4, 5, 6, 7, 8, 9])})</pre><b>In a Jupyter environment, please rerun this cell to show the HTML representation or trust the notebook. <br />On GitHub, the HTML representation is unable to render, please try loading this page with nbviewer.org.</b></div><div class=\"sk-container\" hidden><div class=\"sk-item sk-dashed-wrapped\"><div class=\"sk-label-container\"><div class=\"sk-label sk-toggleable\"><input class=\"sk-toggleable__control sk-hidden--visually\" id=\"sk-estimator-id-5\" type=\"checkbox\" ><label for=\"sk-estimator-id-5\" class=\"sk-toggleable__label sk-toggleable__label-arrow\">RandomizedSearchCV</label><div class=\"sk-toggleable__content\"><pre>RandomizedSearchCV(cv=5, estimator=DecisionTreeClassifier(),\n",
       "                   param_distributions={&#x27;criterion&#x27;: [&#x27;gini&#x27;, &#x27;entropy&#x27;],\n",
       "                                        &#x27;max_depth&#x27;: array([5, 6, 7, 8, 9]),\n",
       "                                        &#x27;min_samples_leaf&#x27;: array([ 1,  2,  3,  4,  5,  6,  7,  8,  9, 10, 11, 12, 13, 14]),\n",
       "                                        &#x27;min_samples_split&#x27;: array([ 2,  3,  4,  5,  6,  7,  8,  9, 10, 11, 12, 13, 14, 15, 16, 17, 18,\n",
       "       19]),\n",
       "                                        &#x27;random_state&#x27;: array([2, 3, 4, 5, 6, 7, 8, 9])})</pre></div></div></div><div class=\"sk-parallel\"><div class=\"sk-parallel-item\"><div class=\"sk-item\"><div class=\"sk-label-container\"><div class=\"sk-label sk-toggleable\"><input class=\"sk-toggleable__control sk-hidden--visually\" id=\"sk-estimator-id-6\" type=\"checkbox\" ><label for=\"sk-estimator-id-6\" class=\"sk-toggleable__label sk-toggleable__label-arrow\">estimator: DecisionTreeClassifier</label><div class=\"sk-toggleable__content\"><pre>DecisionTreeClassifier()</pre></div></div></div><div class=\"sk-serial\"><div class=\"sk-item\"><div class=\"sk-estimator sk-toggleable\"><input class=\"sk-toggleable__control sk-hidden--visually\" id=\"sk-estimator-id-7\" type=\"checkbox\" ><label for=\"sk-estimator-id-7\" class=\"sk-toggleable__label sk-toggleable__label-arrow\">DecisionTreeClassifier</label><div class=\"sk-toggleable__content\"><pre>DecisionTreeClassifier()</pre></div></div></div></div></div></div></div></div></div></div>"
      ],
      "text/plain": [
       "RandomizedSearchCV(cv=5, estimator=DecisionTreeClassifier(),\n",
       "                   param_distributions={'criterion': ['gini', 'entropy'],\n",
       "                                        'max_depth': array([5, 6, 7, 8, 9]),\n",
       "                                        'min_samples_leaf': array([ 1,  2,  3,  4,  5,  6,  7,  8,  9, 10, 11, 12, 13, 14]),\n",
       "                                        'min_samples_split': array([ 2,  3,  4,  5,  6,  7,  8,  9, 10, 11, 12, 13, 14, 15, 16, 17, 18,\n",
       "       19]),\n",
       "                                        'random_state': array([2, 3, 4, 5, 6, 7, 8, 9])})"
      ]
     },
     "execution_count": 160,
     "metadata": {},
     "output_type": "execute_result"
    }
   ],
   "source": [
    "rscv=RandomizedSearchCV(dt_reg_hyp,hyp,cv=5)\n",
    "rscv.fit(x_train,y_train)"
   ]
  },
  {
   "cell_type": "code",
   "execution_count": 161,
   "id": "96f9a39c",
   "metadata": {},
   "outputs": [
    {
     "data": {
      "text/html": [
       "<style>#sk-container-id-6 {color: black;background-color: white;}#sk-container-id-6 pre{padding: 0;}#sk-container-id-6 div.sk-toggleable {background-color: white;}#sk-container-id-6 label.sk-toggleable__label {cursor: pointer;display: block;width: 100%;margin-bottom: 0;padding: 0.3em;box-sizing: border-box;text-align: center;}#sk-container-id-6 label.sk-toggleable__label-arrow:before {content: \"▸\";float: left;margin-right: 0.25em;color: #696969;}#sk-container-id-6 label.sk-toggleable__label-arrow:hover:before {color: black;}#sk-container-id-6 div.sk-estimator:hover label.sk-toggleable__label-arrow:before {color: black;}#sk-container-id-6 div.sk-toggleable__content {max-height: 0;max-width: 0;overflow: hidden;text-align: left;background-color: #f0f8ff;}#sk-container-id-6 div.sk-toggleable__content pre {margin: 0.2em;color: black;border-radius: 0.25em;background-color: #f0f8ff;}#sk-container-id-6 input.sk-toggleable__control:checked~div.sk-toggleable__content {max-height: 200px;max-width: 100%;overflow: auto;}#sk-container-id-6 input.sk-toggleable__control:checked~label.sk-toggleable__label-arrow:before {content: \"▾\";}#sk-container-id-6 div.sk-estimator input.sk-toggleable__control:checked~label.sk-toggleable__label {background-color: #d4ebff;}#sk-container-id-6 div.sk-label input.sk-toggleable__control:checked~label.sk-toggleable__label {background-color: #d4ebff;}#sk-container-id-6 input.sk-hidden--visually {border: 0;clip: rect(1px 1px 1px 1px);clip: rect(1px, 1px, 1px, 1px);height: 1px;margin: -1px;overflow: hidden;padding: 0;position: absolute;width: 1px;}#sk-container-id-6 div.sk-estimator {font-family: monospace;background-color: #f0f8ff;border: 1px dotted black;border-radius: 0.25em;box-sizing: border-box;margin-bottom: 0.5em;}#sk-container-id-6 div.sk-estimator:hover {background-color: #d4ebff;}#sk-container-id-6 div.sk-parallel-item::after {content: \"\";width: 100%;border-bottom: 1px solid gray;flex-grow: 1;}#sk-container-id-6 div.sk-label:hover label.sk-toggleable__label {background-color: #d4ebff;}#sk-container-id-6 div.sk-serial::before {content: \"\";position: absolute;border-left: 1px solid gray;box-sizing: border-box;top: 0;bottom: 0;left: 50%;z-index: 0;}#sk-container-id-6 div.sk-serial {display: flex;flex-direction: column;align-items: center;background-color: white;padding-right: 0.2em;padding-left: 0.2em;position: relative;}#sk-container-id-6 div.sk-item {position: relative;z-index: 1;}#sk-container-id-6 div.sk-parallel {display: flex;align-items: stretch;justify-content: center;background-color: white;position: relative;}#sk-container-id-6 div.sk-item::before, #sk-container-id-6 div.sk-parallel-item::before {content: \"\";position: absolute;border-left: 1px solid gray;box-sizing: border-box;top: 0;bottom: 0;left: 50%;z-index: -1;}#sk-container-id-6 div.sk-parallel-item {display: flex;flex-direction: column;z-index: 1;position: relative;background-color: white;}#sk-container-id-6 div.sk-parallel-item:first-child::after {align-self: flex-end;width: 50%;}#sk-container-id-6 div.sk-parallel-item:last-child::after {align-self: flex-start;width: 50%;}#sk-container-id-6 div.sk-parallel-item:only-child::after {width: 0;}#sk-container-id-6 div.sk-dashed-wrapped {border: 1px dashed gray;margin: 0 0.4em 0.5em 0.4em;box-sizing: border-box;padding-bottom: 0.4em;background-color: white;}#sk-container-id-6 div.sk-label label {font-family: monospace;font-weight: bold;display: inline-block;line-height: 1.2em;}#sk-container-id-6 div.sk-label-container {text-align: center;}#sk-container-id-6 div.sk-container {/* jupyter's `normalize.less` sets `[hidden] { display: none; }` but bootstrap.min.css set `[hidden] { display: none !important; }` so we also need the `!important` here to be able to override the default hidden behavior on the sphinx rendered scikit-learn.org. See: https://github.com/scikit-learn/scikit-learn/issues/21755 */display: inline-block !important;position: relative;}#sk-container-id-6 div.sk-text-repr-fallback {display: none;}</style><div id=\"sk-container-id-6\" class=\"sk-top-container\"><div class=\"sk-text-repr-fallback\"><pre>DecisionTreeClassifier(criterion=&#x27;entropy&#x27;, max_depth=6, min_samples_leaf=11,\n",
       "                       min_samples_split=7, random_state=9)</pre><b>In a Jupyter environment, please rerun this cell to show the HTML representation or trust the notebook. <br />On GitHub, the HTML representation is unable to render, please try loading this page with nbviewer.org.</b></div><div class=\"sk-container\" hidden><div class=\"sk-item\"><div class=\"sk-estimator sk-toggleable\"><input class=\"sk-toggleable__control sk-hidden--visually\" id=\"sk-estimator-id-8\" type=\"checkbox\" checked><label for=\"sk-estimator-id-8\" class=\"sk-toggleable__label sk-toggleable__label-arrow\">DecisionTreeClassifier</label><div class=\"sk-toggleable__content\"><pre>DecisionTreeClassifier(criterion=&#x27;entropy&#x27;, max_depth=6, min_samples_leaf=11,\n",
       "                       min_samples_split=7, random_state=9)</pre></div></div></div></div></div>"
      ],
      "text/plain": [
       "DecisionTreeClassifier(criterion='entropy', max_depth=6, min_samples_leaf=11,\n",
       "                       min_samples_split=7, random_state=9)"
      ]
     },
     "execution_count": 161,
     "metadata": {},
     "output_type": "execute_result"
    }
   ],
   "source": [
    "rscv.best_estimator_"
   ]
  },
  {
   "cell_type": "code",
   "execution_count": 162,
   "id": "a69f8e86",
   "metadata": {},
   "outputs": [
    {
     "data": {
      "text/html": [
       "<style>#sk-container-id-7 {color: black;background-color: white;}#sk-container-id-7 pre{padding: 0;}#sk-container-id-7 div.sk-toggleable {background-color: white;}#sk-container-id-7 label.sk-toggleable__label {cursor: pointer;display: block;width: 100%;margin-bottom: 0;padding: 0.3em;box-sizing: border-box;text-align: center;}#sk-container-id-7 label.sk-toggleable__label-arrow:before {content: \"▸\";float: left;margin-right: 0.25em;color: #696969;}#sk-container-id-7 label.sk-toggleable__label-arrow:hover:before {color: black;}#sk-container-id-7 div.sk-estimator:hover label.sk-toggleable__label-arrow:before {color: black;}#sk-container-id-7 div.sk-toggleable__content {max-height: 0;max-width: 0;overflow: hidden;text-align: left;background-color: #f0f8ff;}#sk-container-id-7 div.sk-toggleable__content pre {margin: 0.2em;color: black;border-radius: 0.25em;background-color: #f0f8ff;}#sk-container-id-7 input.sk-toggleable__control:checked~div.sk-toggleable__content {max-height: 200px;max-width: 100%;overflow: auto;}#sk-container-id-7 input.sk-toggleable__control:checked~label.sk-toggleable__label-arrow:before {content: \"▾\";}#sk-container-id-7 div.sk-estimator input.sk-toggleable__control:checked~label.sk-toggleable__label {background-color: #d4ebff;}#sk-container-id-7 div.sk-label input.sk-toggleable__control:checked~label.sk-toggleable__label {background-color: #d4ebff;}#sk-container-id-7 input.sk-hidden--visually {border: 0;clip: rect(1px 1px 1px 1px);clip: rect(1px, 1px, 1px, 1px);height: 1px;margin: -1px;overflow: hidden;padding: 0;position: absolute;width: 1px;}#sk-container-id-7 div.sk-estimator {font-family: monospace;background-color: #f0f8ff;border: 1px dotted black;border-radius: 0.25em;box-sizing: border-box;margin-bottom: 0.5em;}#sk-container-id-7 div.sk-estimator:hover {background-color: #d4ebff;}#sk-container-id-7 div.sk-parallel-item::after {content: \"\";width: 100%;border-bottom: 1px solid gray;flex-grow: 1;}#sk-container-id-7 div.sk-label:hover label.sk-toggleable__label {background-color: #d4ebff;}#sk-container-id-7 div.sk-serial::before {content: \"\";position: absolute;border-left: 1px solid gray;box-sizing: border-box;top: 0;bottom: 0;left: 50%;z-index: 0;}#sk-container-id-7 div.sk-serial {display: flex;flex-direction: column;align-items: center;background-color: white;padding-right: 0.2em;padding-left: 0.2em;position: relative;}#sk-container-id-7 div.sk-item {position: relative;z-index: 1;}#sk-container-id-7 div.sk-parallel {display: flex;align-items: stretch;justify-content: center;background-color: white;position: relative;}#sk-container-id-7 div.sk-item::before, #sk-container-id-7 div.sk-parallel-item::before {content: \"\";position: absolute;border-left: 1px solid gray;box-sizing: border-box;top: 0;bottom: 0;left: 50%;z-index: -1;}#sk-container-id-7 div.sk-parallel-item {display: flex;flex-direction: column;z-index: 1;position: relative;background-color: white;}#sk-container-id-7 div.sk-parallel-item:first-child::after {align-self: flex-end;width: 50%;}#sk-container-id-7 div.sk-parallel-item:last-child::after {align-self: flex-start;width: 50%;}#sk-container-id-7 div.sk-parallel-item:only-child::after {width: 0;}#sk-container-id-7 div.sk-dashed-wrapped {border: 1px dashed gray;margin: 0 0.4em 0.5em 0.4em;box-sizing: border-box;padding-bottom: 0.4em;background-color: white;}#sk-container-id-7 div.sk-label label {font-family: monospace;font-weight: bold;display: inline-block;line-height: 1.2em;}#sk-container-id-7 div.sk-label-container {text-align: center;}#sk-container-id-7 div.sk-container {/* jupyter's `normalize.less` sets `[hidden] { display: none; }` but bootstrap.min.css set `[hidden] { display: none !important; }` so we also need the `!important` here to be able to override the default hidden behavior on the sphinx rendered scikit-learn.org. See: https://github.com/scikit-learn/scikit-learn/issues/21755 */display: inline-block !important;position: relative;}#sk-container-id-7 div.sk-text-repr-fallback {display: none;}</style><div id=\"sk-container-id-7\" class=\"sk-top-container\"><div class=\"sk-text-repr-fallback\"><pre>DecisionTreeClassifier(criterion=&#x27;entropy&#x27;, max_depth=6, min_samples_leaf=11,\n",
       "                       min_samples_split=7, random_state=9)</pre><b>In a Jupyter environment, please rerun this cell to show the HTML representation or trust the notebook. <br />On GitHub, the HTML representation is unable to render, please try loading this page with nbviewer.org.</b></div><div class=\"sk-container\" hidden><div class=\"sk-item\"><div class=\"sk-estimator sk-toggleable\"><input class=\"sk-toggleable__control sk-hidden--visually\" id=\"sk-estimator-id-9\" type=\"checkbox\" checked><label for=\"sk-estimator-id-9\" class=\"sk-toggleable__label sk-toggleable__label-arrow\">DecisionTreeClassifier</label><div class=\"sk-toggleable__content\"><pre>DecisionTreeClassifier(criterion=&#x27;entropy&#x27;, max_depth=6, min_samples_leaf=11,\n",
       "                       min_samples_split=7, random_state=9)</pre></div></div></div></div></div>"
      ],
      "text/plain": [
       "DecisionTreeClassifier(criterion='entropy', max_depth=6, min_samples_leaf=11,\n",
       "                       min_samples_split=7, random_state=9)"
      ]
     },
     "execution_count": 162,
     "metadata": {},
     "output_type": "execute_result"
    }
   ],
   "source": [
    "dt_hyp_model=rscv.best_estimator_\n",
    "dt_hyp_model.fit(x_train,y_train)"
   ]
  },
  {
   "cell_type": "code",
   "execution_count": 163,
   "id": "81e613c3",
   "metadata": {},
   "outputs": [
    {
     "name": "stdout",
     "output_type": "stream",
     "text": [
      "accuracy_score==0.9152265169274383\n",
      "[[16552   208]\n",
      " [ 1347   236]]\n",
      "              precision    recall  f1-score   support\n",
      "\n",
      "           0       0.92      0.99      0.96     16760\n",
      "           1       0.53      0.15      0.23      1583\n",
      "\n",
      "    accuracy                           0.92     18343\n",
      "   macro avg       0.73      0.57      0.59     18343\n",
      "weighted avg       0.89      0.92      0.89     18343\n",
      "\n"
     ]
    },
    {
     "data": {
      "text/plain": [
       "'metrics calculated'"
      ]
     },
     "execution_count": 163,
     "metadata": {},
     "output_type": "execute_result"
    }
   ],
   "source": [
    "y_pred_test_dt_hyp=dt_hyp_model.predict(x_test)\n",
    "train_test_data(y_test,y_pred_test_dt_hyp)"
   ]
  },
  {
   "cell_type": "code",
   "execution_count": 164,
   "id": "8dd95bb4",
   "metadata": {},
   "outputs": [
    {
     "name": "stdout",
     "output_type": "stream",
     "text": [
      "accuracy_score==0.9160419790104948\n",
      "[[66223   815]\n",
      " [ 5345   987]]\n",
      "              precision    recall  f1-score   support\n",
      "\n",
      "           0       0.93      0.99      0.96     67038\n",
      "           1       0.55      0.16      0.24      6332\n",
      "\n",
      "    accuracy                           0.92     73370\n",
      "   macro avg       0.74      0.57      0.60     73370\n",
      "weighted avg       0.89      0.92      0.89     73370\n",
      "\n"
     ]
    },
    {
     "data": {
      "text/plain": [
       "'metrics calculated'"
      ]
     },
     "execution_count": 164,
     "metadata": {},
     "output_type": "execute_result"
    }
   ],
   "source": [
    "y_pred_train_dt_hyp=dt_hyp_model.predict(x_train)\n",
    "train_test_data(y_train,y_pred_train_dt_hyp)"
   ]
  },
  {
   "cell_type": "markdown",
   "id": "d84ee9ac",
   "metadata": {},
   "source": [
    "# USING RANDOM FOREST "
   ]
  },
  {
   "cell_type": "markdown",
   "id": "3800f87b",
   "metadata": {},
   "source": [
    "### 6)MODEL TRAINING"
   ]
  },
  {
   "cell_type": "code",
   "execution_count": 165,
   "id": "654686cc",
   "metadata": {},
   "outputs": [
    {
     "data": {
      "text/html": [
       "<style>#sk-container-id-8 {color: black;background-color: white;}#sk-container-id-8 pre{padding: 0;}#sk-container-id-8 div.sk-toggleable {background-color: white;}#sk-container-id-8 label.sk-toggleable__label {cursor: pointer;display: block;width: 100%;margin-bottom: 0;padding: 0.3em;box-sizing: border-box;text-align: center;}#sk-container-id-8 label.sk-toggleable__label-arrow:before {content: \"▸\";float: left;margin-right: 0.25em;color: #696969;}#sk-container-id-8 label.sk-toggleable__label-arrow:hover:before {color: black;}#sk-container-id-8 div.sk-estimator:hover label.sk-toggleable__label-arrow:before {color: black;}#sk-container-id-8 div.sk-toggleable__content {max-height: 0;max-width: 0;overflow: hidden;text-align: left;background-color: #f0f8ff;}#sk-container-id-8 div.sk-toggleable__content pre {margin: 0.2em;color: black;border-radius: 0.25em;background-color: #f0f8ff;}#sk-container-id-8 input.sk-toggleable__control:checked~div.sk-toggleable__content {max-height: 200px;max-width: 100%;overflow: auto;}#sk-container-id-8 input.sk-toggleable__control:checked~label.sk-toggleable__label-arrow:before {content: \"▾\";}#sk-container-id-8 div.sk-estimator input.sk-toggleable__control:checked~label.sk-toggleable__label {background-color: #d4ebff;}#sk-container-id-8 div.sk-label input.sk-toggleable__control:checked~label.sk-toggleable__label {background-color: #d4ebff;}#sk-container-id-8 input.sk-hidden--visually {border: 0;clip: rect(1px 1px 1px 1px);clip: rect(1px, 1px, 1px, 1px);height: 1px;margin: -1px;overflow: hidden;padding: 0;position: absolute;width: 1px;}#sk-container-id-8 div.sk-estimator {font-family: monospace;background-color: #f0f8ff;border: 1px dotted black;border-radius: 0.25em;box-sizing: border-box;margin-bottom: 0.5em;}#sk-container-id-8 div.sk-estimator:hover {background-color: #d4ebff;}#sk-container-id-8 div.sk-parallel-item::after {content: \"\";width: 100%;border-bottom: 1px solid gray;flex-grow: 1;}#sk-container-id-8 div.sk-label:hover label.sk-toggleable__label {background-color: #d4ebff;}#sk-container-id-8 div.sk-serial::before {content: \"\";position: absolute;border-left: 1px solid gray;box-sizing: border-box;top: 0;bottom: 0;left: 50%;z-index: 0;}#sk-container-id-8 div.sk-serial {display: flex;flex-direction: column;align-items: center;background-color: white;padding-right: 0.2em;padding-left: 0.2em;position: relative;}#sk-container-id-8 div.sk-item {position: relative;z-index: 1;}#sk-container-id-8 div.sk-parallel {display: flex;align-items: stretch;justify-content: center;background-color: white;position: relative;}#sk-container-id-8 div.sk-item::before, #sk-container-id-8 div.sk-parallel-item::before {content: \"\";position: absolute;border-left: 1px solid gray;box-sizing: border-box;top: 0;bottom: 0;left: 50%;z-index: -1;}#sk-container-id-8 div.sk-parallel-item {display: flex;flex-direction: column;z-index: 1;position: relative;background-color: white;}#sk-container-id-8 div.sk-parallel-item:first-child::after {align-self: flex-end;width: 50%;}#sk-container-id-8 div.sk-parallel-item:last-child::after {align-self: flex-start;width: 50%;}#sk-container-id-8 div.sk-parallel-item:only-child::after {width: 0;}#sk-container-id-8 div.sk-dashed-wrapped {border: 1px dashed gray;margin: 0 0.4em 0.5em 0.4em;box-sizing: border-box;padding-bottom: 0.4em;background-color: white;}#sk-container-id-8 div.sk-label label {font-family: monospace;font-weight: bold;display: inline-block;line-height: 1.2em;}#sk-container-id-8 div.sk-label-container {text-align: center;}#sk-container-id-8 div.sk-container {/* jupyter's `normalize.less` sets `[hidden] { display: none; }` but bootstrap.min.css set `[hidden] { display: none !important; }` so we also need the `!important` here to be able to override the default hidden behavior on the sphinx rendered scikit-learn.org. See: https://github.com/scikit-learn/scikit-learn/issues/21755 */display: inline-block !important;position: relative;}#sk-container-id-8 div.sk-text-repr-fallback {display: none;}</style><div id=\"sk-container-id-8\" class=\"sk-top-container\"><div class=\"sk-text-repr-fallback\"><pre>RandomForestClassifier(random_state=9)</pre><b>In a Jupyter environment, please rerun this cell to show the HTML representation or trust the notebook. <br />On GitHub, the HTML representation is unable to render, please try loading this page with nbviewer.org.</b></div><div class=\"sk-container\" hidden><div class=\"sk-item\"><div class=\"sk-estimator sk-toggleable\"><input class=\"sk-toggleable__control sk-hidden--visually\" id=\"sk-estimator-id-10\" type=\"checkbox\" checked><label for=\"sk-estimator-id-10\" class=\"sk-toggleable__label sk-toggleable__label-arrow\">RandomForestClassifier</label><div class=\"sk-toggleable__content\"><pre>RandomForestClassifier(random_state=9)</pre></div></div></div></div></div>"
      ],
      "text/plain": [
       "RandomForestClassifier(random_state=9)"
      ]
     },
     "execution_count": 165,
     "metadata": {},
     "output_type": "execute_result"
    }
   ],
   "source": [
    "rf_reg=RandomForestClassifier(random_state=9)\n",
    "rf_reg.fit(x_train,y_train)"
   ]
  },
  {
   "cell_type": "markdown",
   "id": "4559d807",
   "metadata": {},
   "source": [
    "### 7)MODEL EVALUATION"
   ]
  },
  {
   "cell_type": "code",
   "execution_count": 166,
   "id": "30f4177c",
   "metadata": {},
   "outputs": [
    {
     "name": "stdout",
     "output_type": "stream",
     "text": [
      "accuracy_score==0.9117374475276673\n",
      "[[16437   323]\n",
      " [ 1296   287]]\n",
      "              precision    recall  f1-score   support\n",
      "\n",
      "           0       0.93      0.98      0.95     16760\n",
      "           1       0.47      0.18      0.26      1583\n",
      "\n",
      "    accuracy                           0.91     18343\n",
      "   macro avg       0.70      0.58      0.61     18343\n",
      "weighted avg       0.89      0.91      0.89     18343\n",
      "\n"
     ]
    },
    {
     "data": {
      "text/plain": [
       "'metrics calculated'"
      ]
     },
     "execution_count": 166,
     "metadata": {},
     "output_type": "execute_result"
    }
   ],
   "source": [
    "y_pred_test_rf=rf_reg.predict(x_test)\n",
    "train_test_data(y_test,y_pred_test_rf)"
   ]
  },
  {
   "cell_type": "code",
   "execution_count": 167,
   "id": "f02b4ada",
   "metadata": {},
   "outputs": [
    {
     "name": "stdout",
     "output_type": "stream",
     "text": [
      "accuracy_score==0.996156467220935\n",
      "[[66933   105]\n",
      " [  177  6155]]\n",
      "              precision    recall  f1-score   support\n",
      "\n",
      "           0       1.00      1.00      1.00     67038\n",
      "           1       0.98      0.97      0.98      6332\n",
      "\n",
      "    accuracy                           1.00     73370\n",
      "   macro avg       0.99      0.99      0.99     73370\n",
      "weighted avg       1.00      1.00      1.00     73370\n",
      "\n"
     ]
    },
    {
     "data": {
      "text/plain": [
       "'metrics calculated'"
      ]
     },
     "execution_count": 167,
     "metadata": {},
     "output_type": "execute_result"
    }
   ],
   "source": [
    "y_pred_train_rf=rf_reg.predict(x_train)\n",
    "train_test_data(y_train,y_pred_train_rf)"
   ]
  },
  {
   "cell_type": "code",
   "execution_count": 168,
   "id": "fce7eef7",
   "metadata": {},
   "outputs": [],
   "source": [
    "rf_hyp_reg=RandomForestClassifier()\n",
    "hyp={'n_estimators':np.arange(100,1000,50),\n",
    "     'criterion':['gini','entropy'],\n",
    "     'max_depth':np.arange(5,10),\n",
    "     'min_samples_split':np.arange(2,20),\n",
    "     'min_samples_leaf':np.arange(1,15),\n",
    "     'random_state':np.arange(2,10)}"
   ]
  },
  {
   "cell_type": "code",
   "execution_count": 169,
   "id": "c42af37d",
   "metadata": {},
   "outputs": [
    {
     "data": {
      "text/html": [
       "<style>#sk-container-id-9 {color: black;background-color: white;}#sk-container-id-9 pre{padding: 0;}#sk-container-id-9 div.sk-toggleable {background-color: white;}#sk-container-id-9 label.sk-toggleable__label {cursor: pointer;display: block;width: 100%;margin-bottom: 0;padding: 0.3em;box-sizing: border-box;text-align: center;}#sk-container-id-9 label.sk-toggleable__label-arrow:before {content: \"▸\";float: left;margin-right: 0.25em;color: #696969;}#sk-container-id-9 label.sk-toggleable__label-arrow:hover:before {color: black;}#sk-container-id-9 div.sk-estimator:hover label.sk-toggleable__label-arrow:before {color: black;}#sk-container-id-9 div.sk-toggleable__content {max-height: 0;max-width: 0;overflow: hidden;text-align: left;background-color: #f0f8ff;}#sk-container-id-9 div.sk-toggleable__content pre {margin: 0.2em;color: black;border-radius: 0.25em;background-color: #f0f8ff;}#sk-container-id-9 input.sk-toggleable__control:checked~div.sk-toggleable__content {max-height: 200px;max-width: 100%;overflow: auto;}#sk-container-id-9 input.sk-toggleable__control:checked~label.sk-toggleable__label-arrow:before {content: \"▾\";}#sk-container-id-9 div.sk-estimator input.sk-toggleable__control:checked~label.sk-toggleable__label {background-color: #d4ebff;}#sk-container-id-9 div.sk-label input.sk-toggleable__control:checked~label.sk-toggleable__label {background-color: #d4ebff;}#sk-container-id-9 input.sk-hidden--visually {border: 0;clip: rect(1px 1px 1px 1px);clip: rect(1px, 1px, 1px, 1px);height: 1px;margin: -1px;overflow: hidden;padding: 0;position: absolute;width: 1px;}#sk-container-id-9 div.sk-estimator {font-family: monospace;background-color: #f0f8ff;border: 1px dotted black;border-radius: 0.25em;box-sizing: border-box;margin-bottom: 0.5em;}#sk-container-id-9 div.sk-estimator:hover {background-color: #d4ebff;}#sk-container-id-9 div.sk-parallel-item::after {content: \"\";width: 100%;border-bottom: 1px solid gray;flex-grow: 1;}#sk-container-id-9 div.sk-label:hover label.sk-toggleable__label {background-color: #d4ebff;}#sk-container-id-9 div.sk-serial::before {content: \"\";position: absolute;border-left: 1px solid gray;box-sizing: border-box;top: 0;bottom: 0;left: 50%;z-index: 0;}#sk-container-id-9 div.sk-serial {display: flex;flex-direction: column;align-items: center;background-color: white;padding-right: 0.2em;padding-left: 0.2em;position: relative;}#sk-container-id-9 div.sk-item {position: relative;z-index: 1;}#sk-container-id-9 div.sk-parallel {display: flex;align-items: stretch;justify-content: center;background-color: white;position: relative;}#sk-container-id-9 div.sk-item::before, #sk-container-id-9 div.sk-parallel-item::before {content: \"\";position: absolute;border-left: 1px solid gray;box-sizing: border-box;top: 0;bottom: 0;left: 50%;z-index: -1;}#sk-container-id-9 div.sk-parallel-item {display: flex;flex-direction: column;z-index: 1;position: relative;background-color: white;}#sk-container-id-9 div.sk-parallel-item:first-child::after {align-self: flex-end;width: 50%;}#sk-container-id-9 div.sk-parallel-item:last-child::after {align-self: flex-start;width: 50%;}#sk-container-id-9 div.sk-parallel-item:only-child::after {width: 0;}#sk-container-id-9 div.sk-dashed-wrapped {border: 1px dashed gray;margin: 0 0.4em 0.5em 0.4em;box-sizing: border-box;padding-bottom: 0.4em;background-color: white;}#sk-container-id-9 div.sk-label label {font-family: monospace;font-weight: bold;display: inline-block;line-height: 1.2em;}#sk-container-id-9 div.sk-label-container {text-align: center;}#sk-container-id-9 div.sk-container {/* jupyter's `normalize.less` sets `[hidden] { display: none; }` but bootstrap.min.css set `[hidden] { display: none !important; }` so we also need the `!important` here to be able to override the default hidden behavior on the sphinx rendered scikit-learn.org. See: https://github.com/scikit-learn/scikit-learn/issues/21755 */display: inline-block !important;position: relative;}#sk-container-id-9 div.sk-text-repr-fallback {display: none;}</style><div id=\"sk-container-id-9\" class=\"sk-top-container\"><div class=\"sk-text-repr-fallback\"><pre>RandomizedSearchCV(cv=5, estimator=RandomForestClassifier(),\n",
       "                   param_distributions={&#x27;criterion&#x27;: [&#x27;gini&#x27;, &#x27;entropy&#x27;],\n",
       "                                        &#x27;max_depth&#x27;: array([5, 6, 7, 8, 9]),\n",
       "                                        &#x27;min_samples_leaf&#x27;: array([ 1,  2,  3,  4,  5,  6,  7,  8,  9, 10, 11, 12, 13, 14]),\n",
       "                                        &#x27;min_samples_split&#x27;: array([ 2,  3,  4,  5,  6,  7,  8,  9, 10, 11, 12, 13, 14, 15, 16, 17, 18,\n",
       "       19]),\n",
       "                                        &#x27;n_estimators&#x27;: array([100, 150, 200, 250, 300, 350, 400, 450, 500, 550, 600, 650, 700,\n",
       "       750, 800, 850, 900, 950]),\n",
       "                                        &#x27;random_state&#x27;: array([2, 3, 4, 5, 6, 7, 8, 9])})</pre><b>In a Jupyter environment, please rerun this cell to show the HTML representation or trust the notebook. <br />On GitHub, the HTML representation is unable to render, please try loading this page with nbviewer.org.</b></div><div class=\"sk-container\" hidden><div class=\"sk-item sk-dashed-wrapped\"><div class=\"sk-label-container\"><div class=\"sk-label sk-toggleable\"><input class=\"sk-toggleable__control sk-hidden--visually\" id=\"sk-estimator-id-11\" type=\"checkbox\" ><label for=\"sk-estimator-id-11\" class=\"sk-toggleable__label sk-toggleable__label-arrow\">RandomizedSearchCV</label><div class=\"sk-toggleable__content\"><pre>RandomizedSearchCV(cv=5, estimator=RandomForestClassifier(),\n",
       "                   param_distributions={&#x27;criterion&#x27;: [&#x27;gini&#x27;, &#x27;entropy&#x27;],\n",
       "                                        &#x27;max_depth&#x27;: array([5, 6, 7, 8, 9]),\n",
       "                                        &#x27;min_samples_leaf&#x27;: array([ 1,  2,  3,  4,  5,  6,  7,  8,  9, 10, 11, 12, 13, 14]),\n",
       "                                        &#x27;min_samples_split&#x27;: array([ 2,  3,  4,  5,  6,  7,  8,  9, 10, 11, 12, 13, 14, 15, 16, 17, 18,\n",
       "       19]),\n",
       "                                        &#x27;n_estimators&#x27;: array([100, 150, 200, 250, 300, 350, 400, 450, 500, 550, 600, 650, 700,\n",
       "       750, 800, 850, 900, 950]),\n",
       "                                        &#x27;random_state&#x27;: array([2, 3, 4, 5, 6, 7, 8, 9])})</pre></div></div></div><div class=\"sk-parallel\"><div class=\"sk-parallel-item\"><div class=\"sk-item\"><div class=\"sk-label-container\"><div class=\"sk-label sk-toggleable\"><input class=\"sk-toggleable__control sk-hidden--visually\" id=\"sk-estimator-id-12\" type=\"checkbox\" ><label for=\"sk-estimator-id-12\" class=\"sk-toggleable__label sk-toggleable__label-arrow\">estimator: RandomForestClassifier</label><div class=\"sk-toggleable__content\"><pre>RandomForestClassifier()</pre></div></div></div><div class=\"sk-serial\"><div class=\"sk-item\"><div class=\"sk-estimator sk-toggleable\"><input class=\"sk-toggleable__control sk-hidden--visually\" id=\"sk-estimator-id-13\" type=\"checkbox\" ><label for=\"sk-estimator-id-13\" class=\"sk-toggleable__label sk-toggleable__label-arrow\">RandomForestClassifier</label><div class=\"sk-toggleable__content\"><pre>RandomForestClassifier()</pre></div></div></div></div></div></div></div></div></div></div>"
      ],
      "text/plain": [
       "RandomizedSearchCV(cv=5, estimator=RandomForestClassifier(),\n",
       "                   param_distributions={'criterion': ['gini', 'entropy'],\n",
       "                                        'max_depth': array([5, 6, 7, 8, 9]),\n",
       "                                        'min_samples_leaf': array([ 1,  2,  3,  4,  5,  6,  7,  8,  9, 10, 11, 12, 13, 14]),\n",
       "                                        'min_samples_split': array([ 2,  3,  4,  5,  6,  7,  8,  9, 10, 11, 12, 13, 14, 15, 16, 17, 18,\n",
       "       19]),\n",
       "                                        'n_estimators': array([100, 150, 200, 250, 300, 350, 400, 450, 500, 550, 600, 650, 700,\n",
       "       750, 800, 850, 900, 950]),\n",
       "                                        'random_state': array([2, 3, 4, 5, 6, 7, 8, 9])})"
      ]
     },
     "execution_count": 169,
     "metadata": {},
     "output_type": "execute_result"
    }
   ],
   "source": [
    "rf_hyp_model=RandomizedSearchCV(rf_hyp_reg,hyp,cv=5)\n",
    "rf_hyp_model.fit(x_train,y_train)"
   ]
  },
  {
   "cell_type": "code",
   "execution_count": 170,
   "id": "b7df55d5",
   "metadata": {},
   "outputs": [
    {
     "data": {
      "text/plain": [
       "{'random_state': 2,\n",
       " 'n_estimators': 200,\n",
       " 'min_samples_split': 12,\n",
       " 'min_samples_leaf': 10,\n",
       " 'max_depth': 9,\n",
       " 'criterion': 'gini'}"
      ]
     },
     "execution_count": 170,
     "metadata": {},
     "output_type": "execute_result"
    }
   ],
   "source": [
    "rf_hyp_model.best_params_"
   ]
  },
  {
   "cell_type": "code",
   "execution_count": 171,
   "id": "be8e4b3a",
   "metadata": {},
   "outputs": [
    {
     "data": {
      "text/html": [
       "<style>#sk-container-id-10 {color: black;background-color: white;}#sk-container-id-10 pre{padding: 0;}#sk-container-id-10 div.sk-toggleable {background-color: white;}#sk-container-id-10 label.sk-toggleable__label {cursor: pointer;display: block;width: 100%;margin-bottom: 0;padding: 0.3em;box-sizing: border-box;text-align: center;}#sk-container-id-10 label.sk-toggleable__label-arrow:before {content: \"▸\";float: left;margin-right: 0.25em;color: #696969;}#sk-container-id-10 label.sk-toggleable__label-arrow:hover:before {color: black;}#sk-container-id-10 div.sk-estimator:hover label.sk-toggleable__label-arrow:before {color: black;}#sk-container-id-10 div.sk-toggleable__content {max-height: 0;max-width: 0;overflow: hidden;text-align: left;background-color: #f0f8ff;}#sk-container-id-10 div.sk-toggleable__content pre {margin: 0.2em;color: black;border-radius: 0.25em;background-color: #f0f8ff;}#sk-container-id-10 input.sk-toggleable__control:checked~div.sk-toggleable__content {max-height: 200px;max-width: 100%;overflow: auto;}#sk-container-id-10 input.sk-toggleable__control:checked~label.sk-toggleable__label-arrow:before {content: \"▾\";}#sk-container-id-10 div.sk-estimator input.sk-toggleable__control:checked~label.sk-toggleable__label {background-color: #d4ebff;}#sk-container-id-10 div.sk-label input.sk-toggleable__control:checked~label.sk-toggleable__label {background-color: #d4ebff;}#sk-container-id-10 input.sk-hidden--visually {border: 0;clip: rect(1px 1px 1px 1px);clip: rect(1px, 1px, 1px, 1px);height: 1px;margin: -1px;overflow: hidden;padding: 0;position: absolute;width: 1px;}#sk-container-id-10 div.sk-estimator {font-family: monospace;background-color: #f0f8ff;border: 1px dotted black;border-radius: 0.25em;box-sizing: border-box;margin-bottom: 0.5em;}#sk-container-id-10 div.sk-estimator:hover {background-color: #d4ebff;}#sk-container-id-10 div.sk-parallel-item::after {content: \"\";width: 100%;border-bottom: 1px solid gray;flex-grow: 1;}#sk-container-id-10 div.sk-label:hover label.sk-toggleable__label {background-color: #d4ebff;}#sk-container-id-10 div.sk-serial::before {content: \"\";position: absolute;border-left: 1px solid gray;box-sizing: border-box;top: 0;bottom: 0;left: 50%;z-index: 0;}#sk-container-id-10 div.sk-serial {display: flex;flex-direction: column;align-items: center;background-color: white;padding-right: 0.2em;padding-left: 0.2em;position: relative;}#sk-container-id-10 div.sk-item {position: relative;z-index: 1;}#sk-container-id-10 div.sk-parallel {display: flex;align-items: stretch;justify-content: center;background-color: white;position: relative;}#sk-container-id-10 div.sk-item::before, #sk-container-id-10 div.sk-parallel-item::before {content: \"\";position: absolute;border-left: 1px solid gray;box-sizing: border-box;top: 0;bottom: 0;left: 50%;z-index: -1;}#sk-container-id-10 div.sk-parallel-item {display: flex;flex-direction: column;z-index: 1;position: relative;background-color: white;}#sk-container-id-10 div.sk-parallel-item:first-child::after {align-self: flex-end;width: 50%;}#sk-container-id-10 div.sk-parallel-item:last-child::after {align-self: flex-start;width: 50%;}#sk-container-id-10 div.sk-parallel-item:only-child::after {width: 0;}#sk-container-id-10 div.sk-dashed-wrapped {border: 1px dashed gray;margin: 0 0.4em 0.5em 0.4em;box-sizing: border-box;padding-bottom: 0.4em;background-color: white;}#sk-container-id-10 div.sk-label label {font-family: monospace;font-weight: bold;display: inline-block;line-height: 1.2em;}#sk-container-id-10 div.sk-label-container {text-align: center;}#sk-container-id-10 div.sk-container {/* jupyter's `normalize.less` sets `[hidden] { display: none; }` but bootstrap.min.css set `[hidden] { display: none !important; }` so we also need the `!important` here to be able to override the default hidden behavior on the sphinx rendered scikit-learn.org. See: https://github.com/scikit-learn/scikit-learn/issues/21755 */display: inline-block !important;position: relative;}#sk-container-id-10 div.sk-text-repr-fallback {display: none;}</style><div id=\"sk-container-id-10\" class=\"sk-top-container\"><div class=\"sk-text-repr-fallback\"><pre>RandomForestClassifier(max_depth=9, min_samples_leaf=10, min_samples_split=12,\n",
       "                       n_estimators=200, random_state=2)</pre><b>In a Jupyter environment, please rerun this cell to show the HTML representation or trust the notebook. <br />On GitHub, the HTML representation is unable to render, please try loading this page with nbviewer.org.</b></div><div class=\"sk-container\" hidden><div class=\"sk-item\"><div class=\"sk-estimator sk-toggleable\"><input class=\"sk-toggleable__control sk-hidden--visually\" id=\"sk-estimator-id-14\" type=\"checkbox\" checked><label for=\"sk-estimator-id-14\" class=\"sk-toggleable__label sk-toggleable__label-arrow\">RandomForestClassifier</label><div class=\"sk-toggleable__content\"><pre>RandomForestClassifier(max_depth=9, min_samples_leaf=10, min_samples_split=12,\n",
       "                       n_estimators=200, random_state=2)</pre></div></div></div></div></div>"
      ],
      "text/plain": [
       "RandomForestClassifier(max_depth=9, min_samples_leaf=10, min_samples_split=12,\n",
       "                       n_estimators=200, random_state=2)"
      ]
     },
     "execution_count": 171,
     "metadata": {},
     "output_type": "execute_result"
    }
   ],
   "source": [
    "rf_hyp=rf_hyp_model.best_estimator_\n",
    "rf_hyp.fit(x_train,y_train)"
   ]
  },
  {
   "cell_type": "markdown",
   "id": "2619f5aa",
   "metadata": {},
   "source": [
    "### 7)MODEL EVALUATION"
   ]
  },
  {
   "cell_type": "code",
   "execution_count": 172,
   "id": "ede36335",
   "metadata": {},
   "outputs": [
    {
     "name": "stdout",
     "output_type": "stream",
     "text": [
      "accuracy_score==0.9165894346617238\n",
      "[[16677    83]\n",
      " [ 1447   136]]\n",
      "              precision    recall  f1-score   support\n",
      "\n",
      "           0       0.92      1.00      0.96     16760\n",
      "           1       0.62      0.09      0.15      1583\n",
      "\n",
      "    accuracy                           0.92     18343\n",
      "   macro avg       0.77      0.54      0.55     18343\n",
      "weighted avg       0.89      0.92      0.89     18343\n",
      "\n"
     ]
    },
    {
     "data": {
      "text/plain": [
       "'metrics calculated'"
      ]
     },
     "execution_count": 172,
     "metadata": {},
     "output_type": "execute_result"
    }
   ],
   "source": [
    "y_pred_test_hyp_rf=rf_hyp.predict(x_test)\n",
    "train_test_data(y_test,y_pred_test_hyp_rf)"
   ]
  },
  {
   "cell_type": "code",
   "execution_count": 173,
   "id": "92bdd7d3",
   "metadata": {},
   "outputs": [
    {
     "name": "stdout",
     "output_type": "stream",
     "text": [
      "accuracy_score==0.9187951478806051\n",
      "[[66779   259]\n",
      " [ 5699   633]]\n",
      "              precision    recall  f1-score   support\n",
      "\n",
      "           0       0.92      1.00      0.96     67038\n",
      "           1       0.71      0.10      0.18      6332\n",
      "\n",
      "    accuracy                           0.92     73370\n",
      "   macro avg       0.82      0.55      0.57     73370\n",
      "weighted avg       0.90      0.92      0.89     73370\n",
      "\n"
     ]
    },
    {
     "data": {
      "text/plain": [
       "'metrics calculated'"
      ]
     },
     "execution_count": 173,
     "metadata": {},
     "output_type": "execute_result"
    }
   ],
   "source": [
    "y_pred_train_hyp_rf=rf_hyp.predict(x_train)\n",
    "train_test_data(y_train,y_pred_train_hyp_rf)"
   ]
  },
  {
   "cell_type": "markdown",
   "id": "f7dc8106",
   "metadata": {},
   "source": [
    "# USING ADABOOST CLASSIFIER"
   ]
  },
  {
   "cell_type": "code",
   "execution_count": 174,
   "id": "c2ccdd8f",
   "metadata": {},
   "outputs": [
    {
     "data": {
      "text/html": [
       "<style>#sk-container-id-11 {color: black;background-color: white;}#sk-container-id-11 pre{padding: 0;}#sk-container-id-11 div.sk-toggleable {background-color: white;}#sk-container-id-11 label.sk-toggleable__label {cursor: pointer;display: block;width: 100%;margin-bottom: 0;padding: 0.3em;box-sizing: border-box;text-align: center;}#sk-container-id-11 label.sk-toggleable__label-arrow:before {content: \"▸\";float: left;margin-right: 0.25em;color: #696969;}#sk-container-id-11 label.sk-toggleable__label-arrow:hover:before {color: black;}#sk-container-id-11 div.sk-estimator:hover label.sk-toggleable__label-arrow:before {color: black;}#sk-container-id-11 div.sk-toggleable__content {max-height: 0;max-width: 0;overflow: hidden;text-align: left;background-color: #f0f8ff;}#sk-container-id-11 div.sk-toggleable__content pre {margin: 0.2em;color: black;border-radius: 0.25em;background-color: #f0f8ff;}#sk-container-id-11 input.sk-toggleable__control:checked~div.sk-toggleable__content {max-height: 200px;max-width: 100%;overflow: auto;}#sk-container-id-11 input.sk-toggleable__control:checked~label.sk-toggleable__label-arrow:before {content: \"▾\";}#sk-container-id-11 div.sk-estimator input.sk-toggleable__control:checked~label.sk-toggleable__label {background-color: #d4ebff;}#sk-container-id-11 div.sk-label input.sk-toggleable__control:checked~label.sk-toggleable__label {background-color: #d4ebff;}#sk-container-id-11 input.sk-hidden--visually {border: 0;clip: rect(1px 1px 1px 1px);clip: rect(1px, 1px, 1px, 1px);height: 1px;margin: -1px;overflow: hidden;padding: 0;position: absolute;width: 1px;}#sk-container-id-11 div.sk-estimator {font-family: monospace;background-color: #f0f8ff;border: 1px dotted black;border-radius: 0.25em;box-sizing: border-box;margin-bottom: 0.5em;}#sk-container-id-11 div.sk-estimator:hover {background-color: #d4ebff;}#sk-container-id-11 div.sk-parallel-item::after {content: \"\";width: 100%;border-bottom: 1px solid gray;flex-grow: 1;}#sk-container-id-11 div.sk-label:hover label.sk-toggleable__label {background-color: #d4ebff;}#sk-container-id-11 div.sk-serial::before {content: \"\";position: absolute;border-left: 1px solid gray;box-sizing: border-box;top: 0;bottom: 0;left: 50%;z-index: 0;}#sk-container-id-11 div.sk-serial {display: flex;flex-direction: column;align-items: center;background-color: white;padding-right: 0.2em;padding-left: 0.2em;position: relative;}#sk-container-id-11 div.sk-item {position: relative;z-index: 1;}#sk-container-id-11 div.sk-parallel {display: flex;align-items: stretch;justify-content: center;background-color: white;position: relative;}#sk-container-id-11 div.sk-item::before, #sk-container-id-11 div.sk-parallel-item::before {content: \"\";position: absolute;border-left: 1px solid gray;box-sizing: border-box;top: 0;bottom: 0;left: 50%;z-index: -1;}#sk-container-id-11 div.sk-parallel-item {display: flex;flex-direction: column;z-index: 1;position: relative;background-color: white;}#sk-container-id-11 div.sk-parallel-item:first-child::after {align-self: flex-end;width: 50%;}#sk-container-id-11 div.sk-parallel-item:last-child::after {align-self: flex-start;width: 50%;}#sk-container-id-11 div.sk-parallel-item:only-child::after {width: 0;}#sk-container-id-11 div.sk-dashed-wrapped {border: 1px dashed gray;margin: 0 0.4em 0.5em 0.4em;box-sizing: border-box;padding-bottom: 0.4em;background-color: white;}#sk-container-id-11 div.sk-label label {font-family: monospace;font-weight: bold;display: inline-block;line-height: 1.2em;}#sk-container-id-11 div.sk-label-container {text-align: center;}#sk-container-id-11 div.sk-container {/* jupyter's `normalize.less` sets `[hidden] { display: none; }` but bootstrap.min.css set `[hidden] { display: none !important; }` so we also need the `!important` here to be able to override the default hidden behavior on the sphinx rendered scikit-learn.org. See: https://github.com/scikit-learn/scikit-learn/issues/21755 */display: inline-block !important;position: relative;}#sk-container-id-11 div.sk-text-repr-fallback {display: none;}</style><div id=\"sk-container-id-11\" class=\"sk-top-container\"><div class=\"sk-text-repr-fallback\"><pre>AdaBoostClassifier(random_state=5)</pre><b>In a Jupyter environment, please rerun this cell to show the HTML representation or trust the notebook. <br />On GitHub, the HTML representation is unable to render, please try loading this page with nbviewer.org.</b></div><div class=\"sk-container\" hidden><div class=\"sk-item\"><div class=\"sk-estimator sk-toggleable\"><input class=\"sk-toggleable__control sk-hidden--visually\" id=\"sk-estimator-id-15\" type=\"checkbox\" checked><label for=\"sk-estimator-id-15\" class=\"sk-toggleable__label sk-toggleable__label-arrow\">AdaBoostClassifier</label><div class=\"sk-toggleable__content\"><pre>AdaBoostClassifier(random_state=5)</pre></div></div></div></div></div>"
      ],
      "text/plain": [
       "AdaBoostClassifier(random_state=5)"
      ]
     },
     "execution_count": 174,
     "metadata": {},
     "output_type": "execute_result"
    }
   ],
   "source": [
    "ab_reg=AdaBoostClassifier(random_state=5)\n",
    "ab_reg.fit(x_train,y_train)"
   ]
  },
  {
   "cell_type": "code",
   "execution_count": 175,
   "id": "4bdc1290",
   "metadata": {},
   "outputs": [
    {
     "name": "stdout",
     "output_type": "stream",
     "text": [
      "accuracy_score==0.9170255683366952\n",
      "[[16636   124]\n",
      " [ 1398   185]]\n",
      "              precision    recall  f1-score   support\n",
      "\n",
      "           0       0.92      0.99      0.96     16760\n",
      "           1       0.60      0.12      0.20      1583\n",
      "\n",
      "    accuracy                           0.92     18343\n",
      "   macro avg       0.76      0.55      0.58     18343\n",
      "weighted avg       0.89      0.92      0.89     18343\n",
      "\n"
     ]
    },
    {
     "data": {
      "text/plain": [
       "'metrics calculated'"
      ]
     },
     "execution_count": 175,
     "metadata": {},
     "output_type": "execute_result"
    }
   ],
   "source": [
    "y_pred_test_ab=ab_reg.predict(x_test)\n",
    "train_test_data(y_test,y_pred_test_ab)"
   ]
  },
  {
   "cell_type": "code",
   "execution_count": 176,
   "id": "6e033dea",
   "metadata": {},
   "outputs": [
    {
     "name": "stdout",
     "output_type": "stream",
     "text": [
      "accuracy_score==0.9165326427695243\n",
      "[[66506   532]\n",
      " [ 5592   740]]\n",
      "              precision    recall  f1-score   support\n",
      "\n",
      "           0       0.92      0.99      0.96     67038\n",
      "           1       0.58      0.12      0.19      6332\n",
      "\n",
      "    accuracy                           0.92     73370\n",
      "   macro avg       0.75      0.55      0.58     73370\n",
      "weighted avg       0.89      0.92      0.89     73370\n",
      "\n"
     ]
    },
    {
     "data": {
      "text/plain": [
       "'metrics calculated'"
      ]
     },
     "execution_count": 176,
     "metadata": {},
     "output_type": "execute_result"
    }
   ],
   "source": [
    "y_pred_train_ab=ab_reg.predict(x_train)\n",
    "train_test_data(y_train,y_pred_train_ab)"
   ]
  },
  {
   "cell_type": "code",
   "execution_count": 177,
   "id": "9d9a7007",
   "metadata": {},
   "outputs": [],
   "source": [
    "ab_reg=AdaBoostClassifier()\n",
    "hyp={'n_estimators':np.arange(50,500,10),\n",
    "    'learning_rate':np.arange(0.1,1.0,0.1)}"
   ]
  },
  {
   "cell_type": "code",
   "execution_count": 178,
   "id": "9a27e27d",
   "metadata": {},
   "outputs": [
    {
     "data": {
      "text/html": [
       "<style>#sk-container-id-12 {color: black;background-color: white;}#sk-container-id-12 pre{padding: 0;}#sk-container-id-12 div.sk-toggleable {background-color: white;}#sk-container-id-12 label.sk-toggleable__label {cursor: pointer;display: block;width: 100%;margin-bottom: 0;padding: 0.3em;box-sizing: border-box;text-align: center;}#sk-container-id-12 label.sk-toggleable__label-arrow:before {content: \"▸\";float: left;margin-right: 0.25em;color: #696969;}#sk-container-id-12 label.sk-toggleable__label-arrow:hover:before {color: black;}#sk-container-id-12 div.sk-estimator:hover label.sk-toggleable__label-arrow:before {color: black;}#sk-container-id-12 div.sk-toggleable__content {max-height: 0;max-width: 0;overflow: hidden;text-align: left;background-color: #f0f8ff;}#sk-container-id-12 div.sk-toggleable__content pre {margin: 0.2em;color: black;border-radius: 0.25em;background-color: #f0f8ff;}#sk-container-id-12 input.sk-toggleable__control:checked~div.sk-toggleable__content {max-height: 200px;max-width: 100%;overflow: auto;}#sk-container-id-12 input.sk-toggleable__control:checked~label.sk-toggleable__label-arrow:before {content: \"▾\";}#sk-container-id-12 div.sk-estimator input.sk-toggleable__control:checked~label.sk-toggleable__label {background-color: #d4ebff;}#sk-container-id-12 div.sk-label input.sk-toggleable__control:checked~label.sk-toggleable__label {background-color: #d4ebff;}#sk-container-id-12 input.sk-hidden--visually {border: 0;clip: rect(1px 1px 1px 1px);clip: rect(1px, 1px, 1px, 1px);height: 1px;margin: -1px;overflow: hidden;padding: 0;position: absolute;width: 1px;}#sk-container-id-12 div.sk-estimator {font-family: monospace;background-color: #f0f8ff;border: 1px dotted black;border-radius: 0.25em;box-sizing: border-box;margin-bottom: 0.5em;}#sk-container-id-12 div.sk-estimator:hover {background-color: #d4ebff;}#sk-container-id-12 div.sk-parallel-item::after {content: \"\";width: 100%;border-bottom: 1px solid gray;flex-grow: 1;}#sk-container-id-12 div.sk-label:hover label.sk-toggleable__label {background-color: #d4ebff;}#sk-container-id-12 div.sk-serial::before {content: \"\";position: absolute;border-left: 1px solid gray;box-sizing: border-box;top: 0;bottom: 0;left: 50%;z-index: 0;}#sk-container-id-12 div.sk-serial {display: flex;flex-direction: column;align-items: center;background-color: white;padding-right: 0.2em;padding-left: 0.2em;position: relative;}#sk-container-id-12 div.sk-item {position: relative;z-index: 1;}#sk-container-id-12 div.sk-parallel {display: flex;align-items: stretch;justify-content: center;background-color: white;position: relative;}#sk-container-id-12 div.sk-item::before, #sk-container-id-12 div.sk-parallel-item::before {content: \"\";position: absolute;border-left: 1px solid gray;box-sizing: border-box;top: 0;bottom: 0;left: 50%;z-index: -1;}#sk-container-id-12 div.sk-parallel-item {display: flex;flex-direction: column;z-index: 1;position: relative;background-color: white;}#sk-container-id-12 div.sk-parallel-item:first-child::after {align-self: flex-end;width: 50%;}#sk-container-id-12 div.sk-parallel-item:last-child::after {align-self: flex-start;width: 50%;}#sk-container-id-12 div.sk-parallel-item:only-child::after {width: 0;}#sk-container-id-12 div.sk-dashed-wrapped {border: 1px dashed gray;margin: 0 0.4em 0.5em 0.4em;box-sizing: border-box;padding-bottom: 0.4em;background-color: white;}#sk-container-id-12 div.sk-label label {font-family: monospace;font-weight: bold;display: inline-block;line-height: 1.2em;}#sk-container-id-12 div.sk-label-container {text-align: center;}#sk-container-id-12 div.sk-container {/* jupyter's `normalize.less` sets `[hidden] { display: none; }` but bootstrap.min.css set `[hidden] { display: none !important; }` so we also need the `!important` here to be able to override the default hidden behavior on the sphinx rendered scikit-learn.org. See: https://github.com/scikit-learn/scikit-learn/issues/21755 */display: inline-block !important;position: relative;}#sk-container-id-12 div.sk-text-repr-fallback {display: none;}</style><div id=\"sk-container-id-12\" class=\"sk-top-container\"><div class=\"sk-text-repr-fallback\"><pre>RandomizedSearchCV(cv=5, estimator=AdaBoostClassifier(),\n",
       "                   param_distributions={&#x27;learning_rate&#x27;: array([0.1, 0.2, 0.3, 0.4, 0.5, 0.6, 0.7, 0.8, 0.9]),\n",
       "                                        &#x27;n_estimators&#x27;: array([ 50,  60,  70,  80,  90, 100, 110, 120, 130, 140, 150, 160, 170,\n",
       "       180, 190, 200, 210, 220, 230, 240, 250, 260, 270, 280, 290, 300,\n",
       "       310, 320, 330, 340, 350, 360, 370, 380, 390, 400, 410, 420, 430,\n",
       "       440, 450, 460, 470, 480, 490])})</pre><b>In a Jupyter environment, please rerun this cell to show the HTML representation or trust the notebook. <br />On GitHub, the HTML representation is unable to render, please try loading this page with nbviewer.org.</b></div><div class=\"sk-container\" hidden><div class=\"sk-item sk-dashed-wrapped\"><div class=\"sk-label-container\"><div class=\"sk-label sk-toggleable\"><input class=\"sk-toggleable__control sk-hidden--visually\" id=\"sk-estimator-id-16\" type=\"checkbox\" ><label for=\"sk-estimator-id-16\" class=\"sk-toggleable__label sk-toggleable__label-arrow\">RandomizedSearchCV</label><div class=\"sk-toggleable__content\"><pre>RandomizedSearchCV(cv=5, estimator=AdaBoostClassifier(),\n",
       "                   param_distributions={&#x27;learning_rate&#x27;: array([0.1, 0.2, 0.3, 0.4, 0.5, 0.6, 0.7, 0.8, 0.9]),\n",
       "                                        &#x27;n_estimators&#x27;: array([ 50,  60,  70,  80,  90, 100, 110, 120, 130, 140, 150, 160, 170,\n",
       "       180, 190, 200, 210, 220, 230, 240, 250, 260, 270, 280, 290, 300,\n",
       "       310, 320, 330, 340, 350, 360, 370, 380, 390, 400, 410, 420, 430,\n",
       "       440, 450, 460, 470, 480, 490])})</pre></div></div></div><div class=\"sk-parallel\"><div class=\"sk-parallel-item\"><div class=\"sk-item\"><div class=\"sk-label-container\"><div class=\"sk-label sk-toggleable\"><input class=\"sk-toggleable__control sk-hidden--visually\" id=\"sk-estimator-id-17\" type=\"checkbox\" ><label for=\"sk-estimator-id-17\" class=\"sk-toggleable__label sk-toggleable__label-arrow\">estimator: AdaBoostClassifier</label><div class=\"sk-toggleable__content\"><pre>AdaBoostClassifier()</pre></div></div></div><div class=\"sk-serial\"><div class=\"sk-item\"><div class=\"sk-estimator sk-toggleable\"><input class=\"sk-toggleable__control sk-hidden--visually\" id=\"sk-estimator-id-18\" type=\"checkbox\" ><label for=\"sk-estimator-id-18\" class=\"sk-toggleable__label sk-toggleable__label-arrow\">AdaBoostClassifier</label><div class=\"sk-toggleable__content\"><pre>AdaBoostClassifier()</pre></div></div></div></div></div></div></div></div></div></div>"
      ],
      "text/plain": [
       "RandomizedSearchCV(cv=5, estimator=AdaBoostClassifier(),\n",
       "                   param_distributions={'learning_rate': array([0.1, 0.2, 0.3, 0.4, 0.5, 0.6, 0.7, 0.8, 0.9]),\n",
       "                                        'n_estimators': array([ 50,  60,  70,  80,  90, 100, 110, 120, 130, 140, 150, 160, 170,\n",
       "       180, 190, 200, 210, 220, 230, 240, 250, 260, 270, 280, 290, 300,\n",
       "       310, 320, 330, 340, 350, 360, 370, 380, 390, 400, 410, 420, 430,\n",
       "       440, 450, 460, 470, 480, 490])})"
      ]
     },
     "execution_count": 178,
     "metadata": {},
     "output_type": "execute_result"
    }
   ],
   "source": [
    "rscv=RandomizedSearchCV(ab_reg,hyp,cv=5)\n",
    "rscv.fit(x_train,y_train)"
   ]
  },
  {
   "cell_type": "code",
   "execution_count": 180,
   "id": "1d8dd4a1",
   "metadata": {},
   "outputs": [
    {
     "data": {
      "text/plain": [
       "{'n_estimators': 480, 'learning_rate': 0.9}"
      ]
     },
     "execution_count": 180,
     "metadata": {},
     "output_type": "execute_result"
    }
   ],
   "source": [
    "rscv.best_params_"
   ]
  },
  {
   "cell_type": "code",
   "execution_count": 181,
   "id": "3b5ef7ba",
   "metadata": {},
   "outputs": [
    {
     "data": {
      "text/html": [
       "<style>#sk-container-id-13 {color: black;background-color: white;}#sk-container-id-13 pre{padding: 0;}#sk-container-id-13 div.sk-toggleable {background-color: white;}#sk-container-id-13 label.sk-toggleable__label {cursor: pointer;display: block;width: 100%;margin-bottom: 0;padding: 0.3em;box-sizing: border-box;text-align: center;}#sk-container-id-13 label.sk-toggleable__label-arrow:before {content: \"▸\";float: left;margin-right: 0.25em;color: #696969;}#sk-container-id-13 label.sk-toggleable__label-arrow:hover:before {color: black;}#sk-container-id-13 div.sk-estimator:hover label.sk-toggleable__label-arrow:before {color: black;}#sk-container-id-13 div.sk-toggleable__content {max-height: 0;max-width: 0;overflow: hidden;text-align: left;background-color: #f0f8ff;}#sk-container-id-13 div.sk-toggleable__content pre {margin: 0.2em;color: black;border-radius: 0.25em;background-color: #f0f8ff;}#sk-container-id-13 input.sk-toggleable__control:checked~div.sk-toggleable__content {max-height: 200px;max-width: 100%;overflow: auto;}#sk-container-id-13 input.sk-toggleable__control:checked~label.sk-toggleable__label-arrow:before {content: \"▾\";}#sk-container-id-13 div.sk-estimator input.sk-toggleable__control:checked~label.sk-toggleable__label {background-color: #d4ebff;}#sk-container-id-13 div.sk-label input.sk-toggleable__control:checked~label.sk-toggleable__label {background-color: #d4ebff;}#sk-container-id-13 input.sk-hidden--visually {border: 0;clip: rect(1px 1px 1px 1px);clip: rect(1px, 1px, 1px, 1px);height: 1px;margin: -1px;overflow: hidden;padding: 0;position: absolute;width: 1px;}#sk-container-id-13 div.sk-estimator {font-family: monospace;background-color: #f0f8ff;border: 1px dotted black;border-radius: 0.25em;box-sizing: border-box;margin-bottom: 0.5em;}#sk-container-id-13 div.sk-estimator:hover {background-color: #d4ebff;}#sk-container-id-13 div.sk-parallel-item::after {content: \"\";width: 100%;border-bottom: 1px solid gray;flex-grow: 1;}#sk-container-id-13 div.sk-label:hover label.sk-toggleable__label {background-color: #d4ebff;}#sk-container-id-13 div.sk-serial::before {content: \"\";position: absolute;border-left: 1px solid gray;box-sizing: border-box;top: 0;bottom: 0;left: 50%;z-index: 0;}#sk-container-id-13 div.sk-serial {display: flex;flex-direction: column;align-items: center;background-color: white;padding-right: 0.2em;padding-left: 0.2em;position: relative;}#sk-container-id-13 div.sk-item {position: relative;z-index: 1;}#sk-container-id-13 div.sk-parallel {display: flex;align-items: stretch;justify-content: center;background-color: white;position: relative;}#sk-container-id-13 div.sk-item::before, #sk-container-id-13 div.sk-parallel-item::before {content: \"\";position: absolute;border-left: 1px solid gray;box-sizing: border-box;top: 0;bottom: 0;left: 50%;z-index: -1;}#sk-container-id-13 div.sk-parallel-item {display: flex;flex-direction: column;z-index: 1;position: relative;background-color: white;}#sk-container-id-13 div.sk-parallel-item:first-child::after {align-self: flex-end;width: 50%;}#sk-container-id-13 div.sk-parallel-item:last-child::after {align-self: flex-start;width: 50%;}#sk-container-id-13 div.sk-parallel-item:only-child::after {width: 0;}#sk-container-id-13 div.sk-dashed-wrapped {border: 1px dashed gray;margin: 0 0.4em 0.5em 0.4em;box-sizing: border-box;padding-bottom: 0.4em;background-color: white;}#sk-container-id-13 div.sk-label label {font-family: monospace;font-weight: bold;display: inline-block;line-height: 1.2em;}#sk-container-id-13 div.sk-label-container {text-align: center;}#sk-container-id-13 div.sk-container {/* jupyter's `normalize.less` sets `[hidden] { display: none; }` but bootstrap.min.css set `[hidden] { display: none !important; }` so we also need the `!important` here to be able to override the default hidden behavior on the sphinx rendered scikit-learn.org. See: https://github.com/scikit-learn/scikit-learn/issues/21755 */display: inline-block !important;position: relative;}#sk-container-id-13 div.sk-text-repr-fallback {display: none;}</style><div id=\"sk-container-id-13\" class=\"sk-top-container\"><div class=\"sk-text-repr-fallback\"><pre>AdaBoostClassifier(learning_rate=0.9, n_estimators=480)</pre><b>In a Jupyter environment, please rerun this cell to show the HTML representation or trust the notebook. <br />On GitHub, the HTML representation is unable to render, please try loading this page with nbviewer.org.</b></div><div class=\"sk-container\" hidden><div class=\"sk-item\"><div class=\"sk-estimator sk-toggleable\"><input class=\"sk-toggleable__control sk-hidden--visually\" id=\"sk-estimator-id-19\" type=\"checkbox\" checked><label for=\"sk-estimator-id-19\" class=\"sk-toggleable__label sk-toggleable__label-arrow\">AdaBoostClassifier</label><div class=\"sk-toggleable__content\"><pre>AdaBoostClassifier(learning_rate=0.9, n_estimators=480)</pre></div></div></div></div></div>"
      ],
      "text/plain": [
       "AdaBoostClassifier(learning_rate=0.9, n_estimators=480)"
      ]
     },
     "execution_count": 181,
     "metadata": {},
     "output_type": "execute_result"
    }
   ],
   "source": [
    "ab_reg_hyp=rscv.best_estimator_\n",
    "ab_reg_hyp.fit(x_train,y_train)"
   ]
  },
  {
   "cell_type": "code",
   "execution_count": 182,
   "id": "1b740eec",
   "metadata": {},
   "outputs": [
    {
     "name": "stdout",
     "output_type": "stream",
     "text": [
      "accuracy_score==0.9169165349179523\n",
      "[[16597   163]\n",
      " [ 1361   222]]\n",
      "              precision    recall  f1-score   support\n",
      "\n",
      "           0       0.92      0.99      0.96     16760\n",
      "           1       0.58      0.14      0.23      1583\n",
      "\n",
      "    accuracy                           0.92     18343\n",
      "   macro avg       0.75      0.57      0.59     18343\n",
      "weighted avg       0.89      0.92      0.89     18343\n",
      "\n"
     ]
    },
    {
     "data": {
      "text/plain": [
       "'metrics calculated'"
      ]
     },
     "execution_count": 182,
     "metadata": {},
     "output_type": "execute_result"
    }
   ],
   "source": [
    "y_pred_test_ab_hyp=ab_reg_hyp.predict(x_test)\n",
    "train_test_data(y_test,y_pred_test_ab_hyp)"
   ]
  },
  {
   "cell_type": "code",
   "execution_count": 183,
   "id": "cbb217c6",
   "metadata": {},
   "outputs": [
    {
     "name": "stdout",
     "output_type": "stream",
     "text": [
      "accuracy_score==0.9177593021670982\n",
      "[[66410   628]\n",
      " [ 5406   926]]\n",
      "              precision    recall  f1-score   support\n",
      "\n",
      "           0       0.92      0.99      0.96     67038\n",
      "           1       0.60      0.15      0.23      6332\n",
      "\n",
      "    accuracy                           0.92     73370\n",
      "   macro avg       0.76      0.57      0.60     73370\n",
      "weighted avg       0.90      0.92      0.89     73370\n",
      "\n"
     ]
    },
    {
     "data": {
      "text/plain": [
       "'metrics calculated'"
      ]
     },
     "execution_count": 183,
     "metadata": {},
     "output_type": "execute_result"
    }
   ],
   "source": [
    "y_pred_train_ab_hyp=ab_reg_hyp.predict(x_train)\n",
    "train_test_data(y_train,y_pred_train_ab_hyp)"
   ]
  },
  {
   "cell_type": "markdown",
   "id": "4469871d",
   "metadata": {},
   "source": [
    "# CREATING PICKLE FILE"
   ]
  },
  {
   "cell_type": "code",
   "execution_count": 184,
   "id": "4863f8d2",
   "metadata": {},
   "outputs": [],
   "source": [
    "with open('ab_reg_hyp1.pkl','wb') as file:\n",
    "    pickle.dump(ab_reg_hyp,file)"
   ]
  },
  {
   "cell_type": "code",
   "execution_count": 191,
   "id": "3d198fc4",
   "metadata": {},
   "outputs": [
    {
     "data": {
      "text/plain": [
       "11"
      ]
     },
     "execution_count": 191,
     "metadata": {},
     "output_type": "execute_result"
    }
   ],
   "source": [
    "imp= rf_reg.feature_importances_\n",
    "len(imp)"
   ]
  },
  {
   "cell_type": "code",
   "execution_count": 190,
   "id": "2e433496",
   "metadata": {},
   "outputs": [
    {
     "data": {
      "text/plain": [
       "11"
      ]
     },
     "execution_count": 190,
     "metadata": {},
     "output_type": "execute_result"
    }
   ],
   "source": [
    "column= final_df.columns\n",
    "len(column)"
   ]
  },
  {
   "cell_type": "code",
   "execution_count": null,
   "id": "5ceb3cac",
   "metadata": {},
   "outputs": [],
   "source": [
    "# plt.barh(boston.feature_names, rf.feature_importances_)"
   ]
  },
  {
   "cell_type": "code",
   "execution_count": null,
   "id": "f5c8419c",
   "metadata": {},
   "outputs": [],
   "source": [
    "# sorted_idx = rf.feature_importances_.argsort()\n",
    "# plt.barh(boston.feature_names[sorted_idx], rf.feature_importances_[sorted_idx])\n",
    "# plt.xlabel(\"Random Forest Feature Importance\")"
   ]
  },
  {
   "cell_type": "code",
   "execution_count": 192,
   "id": "aba86c95",
   "metadata": {},
   "outputs": [
    {
     "data": {
      "text/plain": [
       "<BarContainer object of 11 artists>"
      ]
     },
     "execution_count": 192,
     "metadata": {},
     "output_type": "execute_result"
    },
    {
     "data": {
      "image/png": "[encoded data removed]",
      "text/plain": [
       "<Figure size 640x480 with 1 Axes>"
      ]
     },
     "metadata": {},
     "output_type": "display_data"
    }
   ],
   "source": [
    "plt.barh(column,imp)"
   ]
  },
  {
   "cell_type": "code",
   "execution_count": 138,
   "id": "0cf44d13",
   "metadata": {},
   "outputs": [
    {
     "data": {
      "text/html": [
       "<div>\n",
       "<style scoped>\n",
       "    .dataframe tbody tr th:only-of-type {\n",
       "        vertical-align: middle;\n",
       "    }\n",
       "\n",
       "    .dataframe tbody tr th {\n",
       "        vertical-align: top;\n",
       "    }\n",
       "\n",
       "    .dataframe thead th {\n",
       "        text-align: right;\n",
       "    }\n",
       "</style>\n",
       "<table border=\"1\" class=\"dataframe\">\n",
       "  <thead>\n",
       "    <tr style=\"text-align: right;\">\n",
       "      <th></th>\n",
       "      <th>apache_4a_icu_death_prob</th>\n",
       "      <th>apache_4a_hospital_death_prob</th>\n",
       "      <th>apache_3j_diagnosis</th>\n",
       "      <th>age</th>\n",
       "      <th>bmi</th>\n",
       "      <th>ventilated_apache</th>\n",
       "      <th>gender</th>\n",
       "      <th>apache_2_diagnosis</th>\n",
       "      <th>heart_rate_apache</th>\n",
       "      <th>d1_spo2_min</th>\n",
       "      <th>d1_heartrate_min</th>\n",
       "    </tr>\n",
       "  </thead>\n",
       "  <tbody>\n",
       "    <tr>\n",
       "      <th>0</th>\n",
       "      <td>0.05</td>\n",
       "      <td>0.10</td>\n",
       "      <td>502.01</td>\n",
       "      <td>68.000000</td>\n",
       "      <td>23.787760</td>\n",
       "      <td>0.0</td>\n",
       "      <td>0</td>\n",
       "      <td>113.0</td>\n",
       "      <td>118.0</td>\n",
       "      <td>89.0</td>\n",
       "      <td>72.0</td>\n",
       "    </tr>\n",
       "    <tr>\n",
       "      <th>1</th>\n",
       "      <td>0.06</td>\n",
       "      <td>0.12</td>\n",
       "      <td>203.01</td>\n",
       "      <td>75.000000</td>\n",
       "      <td>27.420000</td>\n",
       "      <td>1.0</td>\n",
       "      <td>1</td>\n",
       "      <td>113.0</td>\n",
       "      <td>120.0</td>\n",
       "      <td>89.0</td>\n",
       "      <td>72.0</td>\n",
       "    </tr>\n",
       "    <tr>\n",
       "      <th>2</th>\n",
       "      <td>0.01</td>\n",
       "      <td>0.02</td>\n",
       "      <td>703.03</td>\n",
       "      <td>53.000000</td>\n",
       "      <td>31.950000</td>\n",
       "      <td>0.0</td>\n",
       "      <td>1</td>\n",
       "      <td>122.0</td>\n",
       "      <td>102.0</td>\n",
       "      <td>91.0</td>\n",
       "      <td>68.0</td>\n",
       "    </tr>\n",
       "    <tr>\n",
       "      <th>3</th>\n",
       "      <td>0.03</td>\n",
       "      <td>0.04</td>\n",
       "      <td>703.03</td>\n",
       "      <td>75.000000</td>\n",
       "      <td>23.787760</td>\n",
       "      <td>1.0</td>\n",
       "      <td>1</td>\n",
       "      <td>203.0</td>\n",
       "      <td>114.0</td>\n",
       "      <td>95.0</td>\n",
       "      <td>81.0</td>\n",
       "    </tr>\n",
       "    <tr>\n",
       "      <th>4</th>\n",
       "      <td>0.02</td>\n",
       "      <td>0.05</td>\n",
       "      <td>601.01</td>\n",
       "      <td>53.000000</td>\n",
       "      <td>27.654655</td>\n",
       "      <td>0.0</td>\n",
       "      <td>0</td>\n",
       "      <td>119.0</td>\n",
       "      <td>87.0</td>\n",
       "      <td>95.0</td>\n",
       "      <td>60.0</td>\n",
       "    </tr>\n",
       "    <tr>\n",
       "      <th>...</th>\n",
       "      <td>...</td>\n",
       "      <td>...</td>\n",
       "      <td>...</td>\n",
       "      <td>...</td>\n",
       "      <td>...</td>\n",
       "      <td>...</td>\n",
       "      <td>...</td>\n",
       "      <td>...</td>\n",
       "      <td>...</td>\n",
       "      <td>...</td>\n",
       "      <td>...</td>\n",
       "    </tr>\n",
       "    <tr>\n",
       "      <th>91708</th>\n",
       "      <td>0.05</td>\n",
       "      <td>0.12</td>\n",
       "      <td>501.06</td>\n",
       "      <td>75.000000</td>\n",
       "      <td>23.787760</td>\n",
       "      <td>1.0</td>\n",
       "      <td>0</td>\n",
       "      <td>113.0</td>\n",
       "      <td>115.0</td>\n",
       "      <td>89.0</td>\n",
       "      <td>70.0</td>\n",
       "    </tr>\n",
       "    <tr>\n",
       "      <th>91709</th>\n",
       "      <td>0.02</td>\n",
       "      <td>0.03</td>\n",
       "      <td>501.05</td>\n",
       "      <td>56.000000</td>\n",
       "      <td>32.653061</td>\n",
       "      <td>0.0</td>\n",
       "      <td>1</td>\n",
       "      <td>113.0</td>\n",
       "      <td>100.0</td>\n",
       "      <td>89.0</td>\n",
       "      <td>76.0</td>\n",
       "    </tr>\n",
       "    <tr>\n",
       "      <th>91710</th>\n",
       "      <td>0.02</td>\n",
       "      <td>0.05</td>\n",
       "      <td>702.01</td>\n",
       "      <td>53.000000</td>\n",
       "      <td>27.236914</td>\n",
       "      <td>0.0</td>\n",
       "      <td>0</td>\n",
       "      <td>123.0</td>\n",
       "      <td>120.0</td>\n",
       "      <td>89.0</td>\n",
       "      <td>79.0</td>\n",
       "    </tr>\n",
       "    <tr>\n",
       "      <th>91711</th>\n",
       "      <td>0.02</td>\n",
       "      <td>0.07</td>\n",
       "      <td>203.01</td>\n",
       "      <td>62.309516</td>\n",
       "      <td>23.787760</td>\n",
       "      <td>0.0</td>\n",
       "      <td>1</td>\n",
       "      <td>113.0</td>\n",
       "      <td>87.0</td>\n",
       "      <td>89.0</td>\n",
       "      <td>60.0</td>\n",
       "    </tr>\n",
       "    <tr>\n",
       "      <th>91712</th>\n",
       "      <td>0.06</td>\n",
       "      <td>0.12</td>\n",
       "      <td>703.03</td>\n",
       "      <td>75.000000</td>\n",
       "      <td>23.787760</td>\n",
       "      <td>1.0</td>\n",
       "      <td>1</td>\n",
       "      <td>301.0</td>\n",
       "      <td>101.0</td>\n",
       "      <td>91.0</td>\n",
       "      <td>71.0</td>\n",
       "    </tr>\n",
       "  </tbody>\n",
       "</table>\n",
       "<p>91713 rows × 11 columns</p>\n",
       "</div>"
      ],
      "text/plain": [
       "       apache_4a_icu_death_prob  apache_4a_hospital_death_prob  \\\n",
       "0                          0.05                           0.10   \n",
       "1                          0.06                           0.12   \n",
       "2                          0.01                           0.02   \n",
       "3                          0.03                           0.04   \n",
       "4                          0.02                           0.05   \n",
       "...                         ...                            ...   \n",
       "91708                      0.05                           0.12   \n",
       "91709                      0.02                           0.03   \n",
       "91710                      0.02                           0.05   \n",
       "91711                      0.02                           0.07   \n",
       "91712                      0.06                           0.12   \n",
       "\n",
       "       apache_3j_diagnosis        age        bmi  ventilated_apache  gender  \\\n",
       "0                   502.01  68.000000  23.787760                0.0       0   \n",
       "1                   203.01  75.000000  27.420000                1.0       1   \n",
       "2                   703.03  53.000000  31.950000                0.0       1   \n",
       "3                   703.03  75.000000  23.787760                1.0       1   \n",
       "4                   601.01  53.000000  27.654655                0.0       0   \n",
       "...                    ...        ...        ...                ...     ...   \n",
       "91708               501.06  75.000000  23.787760                1.0       0   \n",
       "91709               501.05  56.000000  32.653061                0.0       1   \n",
       "91710               702.01  53.000000  27.236914                0.0       0   \n",
       "91711               203.01  62.309516  23.787760                0.0       1   \n",
       "91712               703.03  75.000000  23.787760                1.0       1   \n",
       "\n",
       "       apache_2_diagnosis  heart_rate_apache  d1_spo2_min  d1_heartrate_min  \n",
       "0                   113.0              118.0         89.0              72.0  \n",
       "1                   113.0              120.0         89.0              72.0  \n",
       "2                   122.0              102.0         91.0              68.0  \n",
       "3                   203.0              114.0         95.0              81.0  \n",
       "4                   119.0               87.0         95.0              60.0  \n",
       "...                   ...                ...          ...               ...  \n",
       "91708               113.0              115.0         89.0              70.0  \n",
       "91709               113.0              100.0         89.0              76.0  \n",
       "91710               123.0              120.0         89.0              79.0  \n",
       "91711               113.0               87.0         89.0              60.0  \n",
       "91712               301.0              101.0         91.0              71.0  \n",
       "\n",
       "[91713 rows x 11 columns]"
      ]
     },
     "execution_count": 138,
     "metadata": {},
     "output_type": "execute_result"
    }
   ],
   "source": [
    "final_df= pd.DataFrame(df,columns=['apache_4a_icu_death_prob','apache_4a_hospital_death_prob', 'apache_3j_diagnosis', 'age', 'bmi','ventilated_apache', 'gender','apache_2_diagnosis',\n",
    "                  'heart_rate_apache','d1_spo2_min','d1_heartrate_min'])\n",
    "# final_df=final_df[['apache_4a_icu_death_prob','apache_4a_hospital_death_prob', 'apache_3j_diagnosis', 'age', 'bmi','ventilated_apache', 'gender','apache_2_diagnosis',\n",
    "#                   'heart_rate_apache','d1_spo2_min','d1_heartrate_min']]\n",
    "final_df"
   ]
  },
  {
   "cell_type": "code",
   "execution_count": null,
   "id": "581623f8",
   "metadata": {},
   "outputs": [],
   "source": []
  },
  {
   "cell_type": "code",
   "execution_count": 193,
   "id": "feedd2db",
   "metadata": {},
   "outputs": [
    {
     "data": {
      "text/plain": [
       "Text(0.5, 0, 'Random Forest Feature Importance')"
      ]
     },
     "execution_count": 193,
     "metadata": {},
     "output_type": "execute_result"
    },
    {
     "data": {
      "image/png": "[encoded data removed]",
      "text/plain": [
       "<Figure size 1500x2000 with 1 Axes>"
      ]
     },
     "metadata": {},
     "output_type": "display_data"
    }
   ],
   "source": [
    "plt.figure(figsize=(15,20))\n",
    "sorted_idx= imp.argsort()\n",
    "plt.barh(column[sorted_idx],imp[sorted_idx])\n",
    "plt.xlabel(\"Random Forest Feature Importance\")"
   ]
  },
  {
   "cell_type": "code",
   "execution_count": null,
   "id": "429053a9",
   "metadata": {},
   "outputs": [],
   "source": []
  }
 ],
 "metadata": {
  "kernelspec": {
   "display_name": "Python 3.10.6 64-bit",
   "language": "python",
   "name": "python3"
  },
  "language_info": {
   "codemirror_mode": {
    "name": "ipython",
    "version": 3
   },
   "file_extension": ".py",
   "mimetype": "text/x-python",
   "name": "python",
   "nbconvert_exporter": "python",
   "pygments_lexer": "ipython3",
   "version": "3.10.6"
  },
  "vscode": {
   "interpreter": {
    "hash": "719571bc65a74e1d688dce095ec38766212055f912c80ea1932d85d313f79f3e"
   }
  }
 },
 "nbformat": 4,
 "nbformat_minor": 5
}
